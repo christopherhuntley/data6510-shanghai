{
 "cells": [
  {
   "cell_type": "markdown",
   "metadata": {
    "id": "G8wBPvEUzZ2e"
   },
   "source": [
    "<img src=\"https://github.com/christopherhuntley/BUAN6510/blob/master/img/Dolan.png?raw=true\" width=\"180px\" align=\"right\">\n",
    "\n",
    "# **DATA 6510**\n",
    "# **Homework 3: A Decade of Laundry Tags** \n",
    "_Building a Data Warehouse from Source Data._\n",
    "\n",
    "This assignment is part tutorial and part exercises. The data provided by the real company behind the DeluxCare example in Lesson 1. The company \"dry cleans\" (launders) expensive shirts, dresses, jackets, suits, etc. It has been around for decades and has about a dozen locations in southeastern Connecticut.\n",
    "\n",
    "In part 1 you will \"ride along\" as we will build the data warehouse from scratch using files provided by the company. For those of you that wanted to see how SQL DDL and DML works, this is your chance. &#128578; For everybody else, **do not skip this part;** it illustrates a few things that will almost certainly appear on Quiz 3 or Quiz 4.\n",
    "\n",
    "In part 2 you will explore the business (and perhaps a bit about upper-class Connecticut residents) by crafting a few analytical queries. "
   ]
  },
  {
   "cell_type": "markdown",
   "metadata": {},
   "source": [
    "## **Part 1. Build a data warehouse from scratch.**"
   ]
  },
  {
   "cell_type": "markdown",
   "metadata": {},
   "source": [
    "### Anatomy of a Sale\n",
    "\n",
    "Before any further it may be helpful to understand the business process of executing a sale:\n",
    "\n",
    "1. The customer brings in a pile of garments in need of cleaning. This marks the start of a sale. If the customer is new, then the employee collects information about th customer. \n",
    "2. The employee sorts the garments by type (shirts, pants, dresses, suits, etc.) and scans each garment's \"garment tag\" (if there is one) to determine the brand and any special handling instructions. Items with the garment tag are grouped together. \n",
    "3. Each group of items from step 2 is given a service code and prepped for cleaning. \n",
    "4. The entire order (invoice) is priced according to service types, numbers of items, and special handling instructions. Each group (garment tag) appears as one line item on the invoice. \n",
    "5. The garments are cleaned as requested and prepped for pickup. \n",
    "6. The customer returns to pick up their clothes and pays their bill. The employee closes out the invoice, marking it as paid. \n",
    "\n",
    "Everything else about our data warehouse derive from this basic process description. It forms the _business language_ used to describe our data.  "
   ]
  },
  {
   "cell_type": "markdown",
   "metadata": {},
   "source": [
    "### Source Data \n",
    "\n",
    "The data comes to us from two sources:\n",
    "- [garment_tags.csv](./data/DeluxCare/HW9_garment_tags.csv), a moderately large CSV file with data from ~90000 scanned garment tags; each tag represents a bundle of items of the same customer, sale, type, brand, etc. as they appear in the master sales records kept by company management. \n",
    "- [service_types.csv](./data/DeluxCare/HW9_ServiceTypes.csv), a decription of the service codes used to describe how the garments were to be handled; the codes are used by the point of sale system (cash register) to price each line item on the invoice. \n"
   ]
  },
  {
   "cell_type": "markdown",
   "metadata": {},
   "source": [
    "### Data Warehouse Design\n",
    "\n",
    "The ERD below lays out our or data warehouse as a classic \"star schema\" design, with \n",
    "- `GarmentFacts` (fact table) in the middle \n",
    "- `Customer`, `Brand`, `Sale`, and `ServiceType` dimensions on the periphery"
   ]
  },
  {
   "cell_type": "markdown",
   "metadata": {
    "id": "YQq7eR2F2xh5"
   },
   "source": [
    "![HW9 ERD](./img/HW9_GarmentTags_DW.png)"
   ]
  },
  {
   "cell_type": "markdown",
   "metadata": {},
   "source": [
    "Remarks: \n",
    "- `ServiceType` is a _conforming_ dimension that is _applied_ by the point of sale system. The employee selects a service code (type) from a fixed list at the time of sale. In other words, the data collection is forced to \"conform\" to this pre-defined list of service codes. \n",
    "- `Brand` and `Customer` are said to be _slow moving_ dimensions. They are less static than the `ServiceType` but are updated only when needed (e.g., for a new customer or brand). \n",
    "- `Sale` is a _fast moving_ dimension, updated with each sale. It will almost as many rows as the `GarmentFacts` table. \n",
    "- The _granularity_ (see Lesson 7) of the `GarmentFacts` table is determined by the four dimensions. In other words, no matter how many rows our `GarmentFacts` table has, the maximum number of groups we can create with a `GROUP BY` is  \n",
    "**(Number of Customers) X (Number of Brands) x (Number of Sales) x (Number of Service Types)**. "
   ]
  },
  {
   "cell_type": "markdown",
   "metadata": {},
   "source": [
    "### Initializing the Database"
   ]
  },
  {
   "cell_type": "code",
   "execution_count": 1,
   "metadata": {},
   "outputs": [
    {
     "name": "stdout",
     "output_type": "stream",
     "text": [
      "Requirement already satisfied: jupysql in /Users/christopherhuntley/Library/jupyterlab-desktop/jlab_server/lib/python3.8/site-packages (0.10.10)\n",
      "Requirement already satisfied: jupysql-plugin>=0.4.2 in /Users/christopherhuntley/Library/jupyterlab-desktop/jlab_server/lib/python3.8/site-packages (from jupysql) (0.4.3)\n",
      "Requirement already satisfied: sqlalchemy in /Users/christopherhuntley/Library/jupyterlab-desktop/jlab_server/lib/python3.8/site-packages (from jupysql) (2.0.30)\n",
      "Requirement already satisfied: ipython<=8.12.0 in /Users/christopherhuntley/Library/jupyterlab-desktop/jlab_server/lib/python3.8/site-packages (from jupysql) (8.7.0)\n",
      "Requirement already satisfied: ploomber-extension in /Users/christopherhuntley/Library/jupyterlab-desktop/jlab_server/lib/python3.8/site-packages (from jupysql) (0.1.0)\n",
      "Requirement already satisfied: sqlglot>=11.3.7 in /Users/christopherhuntley/Library/jupyterlab-desktop/jlab_server/lib/python3.8/site-packages (from jupysql) (24.0.1)\n",
      "Requirement already satisfied: ipython-genutils>=0.1.0 in /Users/christopherhuntley/Library/jupyterlab-desktop/jlab_server/lib/python3.8/site-packages (from jupysql) (0.2.0)\n",
      "Requirement already satisfied: prettytable in /Users/christopherhuntley/Library/jupyterlab-desktop/jlab_server/lib/python3.8/site-packages (from jupysql) (3.10.0)\n",
      "Requirement already satisfied: sqlparse in /Users/christopherhuntley/Library/jupyterlab-desktop/jlab_server/lib/python3.8/site-packages (from jupysql) (0.5.0)\n",
      "Requirement already satisfied: ploomber-core>=0.2.7 in /Users/christopherhuntley/Library/jupyterlab-desktop/jlab_server/lib/python3.8/site-packages (from jupysql) (0.2.25)\n",
      "Requirement already satisfied: jinja2 in /Users/christopherhuntley/Library/jupyterlab-desktop/jlab_server/lib/python3.8/site-packages (from jupysql) (3.1.2)\n",
      "Requirement already satisfied: jedi>=0.16 in /Users/christopherhuntley/Library/jupyterlab-desktop/jlab_server/lib/python3.8/site-packages (from ipython<=8.12.0->jupysql) (0.18.2)\n",
      "Requirement already satisfied: decorator in /Users/christopherhuntley/Library/jupyterlab-desktop/jlab_server/lib/python3.8/site-packages (from ipython<=8.12.0->jupysql) (5.1.1)\n",
      "Requirement already satisfied: pickleshare in /Users/christopherhuntley/Library/jupyterlab-desktop/jlab_server/lib/python3.8/site-packages (from ipython<=8.12.0->jupysql) (0.7.5)\n",
      "Requirement already satisfied: backcall in /Users/christopherhuntley/Library/jupyterlab-desktop/jlab_server/lib/python3.8/site-packages (from ipython<=8.12.0->jupysql) (0.2.0)\n",
      "Requirement already satisfied: stack-data in /Users/christopherhuntley/Library/jupyterlab-desktop/jlab_server/lib/python3.8/site-packages (from ipython<=8.12.0->jupysql) (0.6.2)\n",
      "Requirement already satisfied: pygments>=2.4.0 in /Users/christopherhuntley/Library/jupyterlab-desktop/jlab_server/lib/python3.8/site-packages (from ipython<=8.12.0->jupysql) (2.13.0)\n",
      "Requirement already satisfied: matplotlib-inline in /Users/christopherhuntley/Library/jupyterlab-desktop/jlab_server/lib/python3.8/site-packages (from ipython<=8.12.0->jupysql) (0.1.6)\n",
      "Requirement already satisfied: pexpect>4.3 in /Users/christopherhuntley/Library/jupyterlab-desktop/jlab_server/lib/python3.8/site-packages (from ipython<=8.12.0->jupysql) (4.8.0)\n",
      "Requirement already satisfied: prompt-toolkit<3.1.0,>=3.0.11 in /Users/christopherhuntley/Library/jupyterlab-desktop/jlab_server/lib/python3.8/site-packages (from ipython<=8.12.0->jupysql) (3.0.36)\n",
      "Requirement already satisfied: appnope in /Users/christopherhuntley/Library/jupyterlab-desktop/jlab_server/lib/python3.8/site-packages (from ipython<=8.12.0->jupysql) (0.1.3)\n",
      "Requirement already satisfied: traitlets>=5 in /Users/christopherhuntley/Library/jupyterlab-desktop/jlab_server/lib/python3.8/site-packages (from ipython<=8.12.0->jupysql) (5.7.0)\n",
      "Requirement already satisfied: posthog in /Users/christopherhuntley/Library/jupyterlab-desktop/jlab_server/lib/python3.8/site-packages (from ploomber-core>=0.2.7->jupysql) (3.5.0)\n",
      "Requirement already satisfied: pyyaml in /Users/christopherhuntley/Library/jupyterlab-desktop/jlab_server/lib/python3.8/site-packages (from ploomber-core>=0.2.7->jupysql) (6.0)\n",
      "Requirement already satisfied: MarkupSafe>=2.0 in /Users/christopherhuntley/Library/jupyterlab-desktop/jlab_server/lib/python3.8/site-packages (from jinja2->jupysql) (2.1.1)\n",
      "Requirement already satisfied: wcwidth in /Users/christopherhuntley/Library/jupyterlab-desktop/jlab_server/lib/python3.8/site-packages (from prettytable->jupysql) (0.2.5)\n",
      "Requirement already satisfied: greenlet!=0.4.17 in /Users/christopherhuntley/Library/jupyterlab-desktop/jlab_server/lib/python3.8/site-packages (from sqlalchemy->jupysql) (3.0.3)\n",
      "Requirement already satisfied: typing-extensions>=4.6.0 in /Users/christopherhuntley/Library/jupyterlab-desktop/jlab_server/lib/python3.8/site-packages (from sqlalchemy->jupysql) (4.12.0)\n",
      "Requirement already satisfied: parso<0.9.0,>=0.8.0 in /Users/christopherhuntley/Library/jupyterlab-desktop/jlab_server/lib/python3.8/site-packages (from jedi>=0.16->ipython<=8.12.0->jupysql) (0.8.3)\n",
      "Requirement already satisfied: ptyprocess>=0.5 in /Users/christopherhuntley/Library/jupyterlab-desktop/jlab_server/lib/python3.8/site-packages (from pexpect>4.3->ipython<=8.12.0->jupysql) (0.7.0)\n",
      "Requirement already satisfied: requests<3.0,>=2.7 in /Users/christopherhuntley/Library/jupyterlab-desktop/jlab_server/lib/python3.8/site-packages (from posthog->ploomber-core>=0.2.7->jupysql) (2.28.1)\n",
      "Requirement already satisfied: six>=1.5 in /Users/christopherhuntley/Library/jupyterlab-desktop/jlab_server/lib/python3.8/site-packages (from posthog->ploomber-core>=0.2.7->jupysql) (1.16.0)\n",
      "Requirement already satisfied: python-dateutil>2.1 in /Users/christopherhuntley/Library/jupyterlab-desktop/jlab_server/lib/python3.8/site-packages (from posthog->ploomber-core>=0.2.7->jupysql) (2.8.2)\n",
      "Requirement already satisfied: monotonic>=1.5 in /Users/christopherhuntley/Library/jupyterlab-desktop/jlab_server/lib/python3.8/site-packages (from posthog->ploomber-core>=0.2.7->jupysql) (1.6)\n",
      "Requirement already satisfied: backoff>=1.10.0 in /Users/christopherhuntley/Library/jupyterlab-desktop/jlab_server/lib/python3.8/site-packages (from posthog->ploomber-core>=0.2.7->jupysql) (2.2.1)\n",
      "Requirement already satisfied: executing>=1.2.0 in /Users/christopherhuntley/Library/jupyterlab-desktop/jlab_server/lib/python3.8/site-packages (from stack-data->ipython<=8.12.0->jupysql) (1.2.0)\n",
      "Requirement already satisfied: asttokens>=2.1.0 in /Users/christopherhuntley/Library/jupyterlab-desktop/jlab_server/lib/python3.8/site-packages (from stack-data->ipython<=8.12.0->jupysql) (2.2.1)\n",
      "Requirement already satisfied: pure-eval in /Users/christopherhuntley/Library/jupyterlab-desktop/jlab_server/lib/python3.8/site-packages (from stack-data->ipython<=8.12.0->jupysql) (0.2.2)\n",
      "Requirement already satisfied: urllib3<1.27,>=1.21.1 in /Users/christopherhuntley/Library/jupyterlab-desktop/jlab_server/lib/python3.8/site-packages (from requests<3.0,>=2.7->posthog->ploomber-core>=0.2.7->jupysql) (1.26.13)\n",
      "Requirement already satisfied: charset-normalizer<3,>=2 in /Users/christopherhuntley/Library/jupyterlab-desktop/jlab_server/lib/python3.8/site-packages (from requests<3.0,>=2.7->posthog->ploomber-core>=0.2.7->jupysql) (2.1.1)\n",
      "Requirement already satisfied: certifi>=2017.4.17 in /Users/christopherhuntley/Library/jupyterlab-desktop/jlab_server/lib/python3.8/site-packages (from requests<3.0,>=2.7->posthog->ploomber-core>=0.2.7->jupysql) (2022.12.7)\n",
      "Requirement already satisfied: idna<4,>=2.5 in /Users/christopherhuntley/Library/jupyterlab-desktop/jlab_server/lib/python3.8/site-packages (from requests<3.0,>=2.7->posthog->ploomber-core>=0.2.7->jupysql) (3.4)\n"
     ]
    },
    {
     "data": {
      "text/html": [
       "<span style=\"None\">displaylimit: Value None will be treated as 0 (no limit)</span>"
      ],
      "text/plain": [
       "displaylimit: Value None will be treated as 0 (no limit)"
      ]
     },
     "metadata": {},
     "output_type": "display_data"
    },
    {
     "data": {
      "text/html": [
       "<span style=\"None\">Connecting to &#x27;sqlite:///hw3.db&#x27;</span>"
      ],
      "text/plain": [
       "Connecting to 'sqlite:///hw3.db'"
      ]
     },
     "metadata": {},
     "output_type": "display_data"
    }
   ],
   "source": [
    "# Load %%sql magic\n",
    "!pip install jupysql\n",
    "%load_ext sql\n",
    "%config SqlMagic.displaylimit = None\n",
    "\n",
    "# Standard Imports\n",
    "import sqlite3\n",
    "import pandas as pd\n",
    "\n",
    "# SQLite database connection\n",
    "%sql sqlite:///hw3.db"
   ]
  },
  {
   "cell_type": "markdown",
   "metadata": {},
   "source": [
    "### Extracting and Loading the Data from the Source Files into the Database"
   ]
  },
  {
   "cell_type": "code",
   "execution_count": 2,
   "metadata": {},
   "outputs": [
    {
     "data": {
      "text/plain": [
       "Garm_ID           int64\n",
       "Garm_Count        int64\n",
       "Garm_Type_id      int64\n",
       "Garm_Brand       object\n",
       "Sale_ID           int64\n",
       "Sale_Date        object\n",
       "Sale_Amount     float64\n",
       "Cust_ID           int64\n",
       "Cust_City        object\n",
       "Cust_Zip         object\n",
       "dtype: object"
      ]
     },
     "execution_count": 2,
     "metadata": {},
     "output_type": "execute_result"
    }
   ],
   "source": [
    "# extract from files\n",
    "garments_df = pd.read_csv(\"./data/DeluxCare/HW9_garment_tags.csv\",dtype={'Cust_Zip':'str'})\n",
    "service_types_df = pd.read_csv(\"./data/DeluxCare/HW9_ServiceTypes.csv\")\n",
    "\n",
    "\n",
    "# connect to database\n",
    "conn = sqlite3.connect('hw3.db')\n",
    "\n",
    "garments_df.to_sql(\"garment_tags_import\", conn, if_exists='replace')\n",
    "service_types_df.to_sql(\"service_types_import\", conn, if_exists='replace')\n",
    "\n",
    "garments_df.dtypes\n"
   ]
  },
  {
   "cell_type": "code",
   "execution_count": 3,
   "metadata": {},
   "outputs": [
    {
     "data": {
      "text/html": [
       "<span style=\"None\">Running query in &#x27;sqlite:///hw3.db&#x27;</span>"
      ],
      "text/plain": [
       "Running query in 'sqlite:///hw3.db'"
      ]
     },
     "metadata": {},
     "output_type": "display_data"
    },
    {
     "data": {
      "text/html": [
       "<table>\n",
       "    <thead>\n",
       "        <tr>\n",
       "            <th>index</th>\n",
       "            <th>Garm_ID</th>\n",
       "            <th>Garm_Count</th>\n",
       "            <th>Garm_Type_id</th>\n",
       "            <th>Garm_Brand</th>\n",
       "            <th>Sale_ID</th>\n",
       "            <th>Sale_Date</th>\n",
       "            <th>Sale_Amount</th>\n",
       "            <th>Cust_ID</th>\n",
       "            <th>Cust_City</th>\n",
       "            <th>Cust_Zip</th>\n",
       "        </tr>\n",
       "    </thead>\n",
       "    <tbody>\n",
       "        <tr>\n",
       "            <td>0</td>\n",
       "            <td>1</td>\n",
       "            <td>17</td>\n",
       "            <td>501</td>\n",
       "            <td>None</td>\n",
       "            <td>911198</td>\n",
       "            <td>2012-10-06</td>\n",
       "            <td>0.0</td>\n",
       "            <td>773</td>\n",
       "            <td>Easton</td>\n",
       "            <td>06612</td>\n",
       "        </tr>\n",
       "        <tr>\n",
       "            <td>1</td>\n",
       "            <td>10</td>\n",
       "            <td>5</td>\n",
       "            <td>501</td>\n",
       "            <td>RALPH LAUREN</td>\n",
       "            <td>911202</td>\n",
       "            <td>2012-10-06</td>\n",
       "            <td>0.0</td>\n",
       "            <td>773</td>\n",
       "            <td>Easton</td>\n",
       "            <td>06612</td>\n",
       "        </tr>\n",
       "        <tr>\n",
       "            <td>2</td>\n",
       "            <td>20</td>\n",
       "            <td>6</td>\n",
       "            <td>501</td>\n",
       "            <td>CHARLES-TYRWHITT</td>\n",
       "            <td>221092</td>\n",
       "            <td>2008-08-09</td>\n",
       "            <td>10.95</td>\n",
       "            <td>9716</td>\n",
       "            <td>Darien</td>\n",
       "            <td>06820</td>\n",
       "        </tr>\n",
       "        <tr>\n",
       "            <td>3</td>\n",
       "            <td>26</td>\n",
       "            <td>9</td>\n",
       "            <td>501</td>\n",
       "            <td>POLO</td>\n",
       "            <td>116240</td>\n",
       "            <td>2007-05-30</td>\n",
       "            <td>10.5</td>\n",
       "            <td>9716</td>\n",
       "            <td>Darien</td>\n",
       "            <td>06820</td>\n",
       "        </tr>\n",
       "        <tr>\n",
       "            <td>4</td>\n",
       "            <td>27</td>\n",
       "            <td>7</td>\n",
       "            <td>501</td>\n",
       "            <td>CHARLES-TYRWHITT</td>\n",
       "            <td>221094</td>\n",
       "            <td>2008-08-09</td>\n",
       "            <td>8.76</td>\n",
       "            <td>9716</td>\n",
       "            <td>Darien</td>\n",
       "            <td>06820</td>\n",
       "        </tr>\n",
       "        <tr>\n",
       "            <td>5</td>\n",
       "            <td>32</td>\n",
       "            <td>24</td>\n",
       "            <td>507</td>\n",
       "            <td>DARIEN SPORTS SHOP</td>\n",
       "            <td>122885</td>\n",
       "            <td>2007-06-19</td>\n",
       "            <td>6.9</td>\n",
       "            <td>3394</td>\n",
       "            <td>Darien</td>\n",
       "            <td>06820</td>\n",
       "        </tr>\n",
       "        <tr>\n",
       "            <td>6</td>\n",
       "            <td>33</td>\n",
       "            <td>4</td>\n",
       "            <td>507</td>\n",
       "            <td>BROOKS BROTHERS</td>\n",
       "            <td>70832</td>\n",
       "            <td>2007-01-06</td>\n",
       "            <td>10.75</td>\n",
       "            <td>3394</td>\n",
       "            <td>Darien</td>\n",
       "            <td>06820</td>\n",
       "        </tr>\n",
       "        <tr>\n",
       "            <td>7</td>\n",
       "            <td>34</td>\n",
       "            <td>38</td>\n",
       "            <td>507</td>\n",
       "            <td>DARIEN SPORTS SHOP</td>\n",
       "            <td>180678</td>\n",
       "            <td>2008-01-03</td>\n",
       "            <td>6.9</td>\n",
       "            <td>3394</td>\n",
       "            <td>Darien</td>\n",
       "            <td>06820</td>\n",
       "        </tr>\n",
       "        <tr>\n",
       "            <td>8</td>\n",
       "            <td>49</td>\n",
       "            <td>4</td>\n",
       "            <td>501</td>\n",
       "            <td>LANDS' END</td>\n",
       "            <td>918485</td>\n",
       "            <td>2012-10-17</td>\n",
       "            <td>12.85</td>\n",
       "            <td>4754</td>\n",
       "            <td>Darien</td>\n",
       "            <td>06820</td>\n",
       "        </tr>\n",
       "        <tr>\n",
       "            <td>9</td>\n",
       "            <td>50</td>\n",
       "            <td>16</td>\n",
       "            <td>501</td>\n",
       "            <td>ENRO</td>\n",
       "            <td>183831</td>\n",
       "            <td>2008-01-12</td>\n",
       "            <td>6.3</td>\n",
       "            <td>4754</td>\n",
       "            <td>Darien</td>\n",
       "            <td>06820</td>\n",
       "        </tr>\n",
       "    </tbody>\n",
       "</table>"
      ],
      "text/plain": [
       "+-------+---------+------------+--------------+--------------------+---------+------------+-------------+---------+-----------+----------+\n",
       "| index | Garm_ID | Garm_Count | Garm_Type_id |     Garm_Brand     | Sale_ID | Sale_Date  | Sale_Amount | Cust_ID | Cust_City | Cust_Zip |\n",
       "+-------+---------+------------+--------------+--------------------+---------+------------+-------------+---------+-----------+----------+\n",
       "|   0   |    1    |     17     |     501      |        None        |  911198 | 2012-10-06 |     0.0     |   773   |   Easton  |  06612   |\n",
       "|   1   |    10   |     5      |     501      |    RALPH LAUREN    |  911202 | 2012-10-06 |     0.0     |   773   |   Easton  |  06612   |\n",
       "|   2   |    20   |     6      |     501      |  CHARLES-TYRWHITT  |  221092 | 2008-08-09 |    10.95    |   9716  |   Darien  |  06820   |\n",
       "|   3   |    26   |     9      |     501      |        POLO        |  116240 | 2007-05-30 |     10.5    |   9716  |   Darien  |  06820   |\n",
       "|   4   |    27   |     7      |     501      |  CHARLES-TYRWHITT  |  221094 | 2008-08-09 |     8.76    |   9716  |   Darien  |  06820   |\n",
       "|   5   |    32   |     24     |     507      | DARIEN SPORTS SHOP |  122885 | 2007-06-19 |     6.9     |   3394  |   Darien  |  06820   |\n",
       "|   6   |    33   |     4      |     507      |  BROOKS BROTHERS   |  70832  | 2007-01-06 |    10.75    |   3394  |   Darien  |  06820   |\n",
       "|   7   |    34   |     38     |     507      | DARIEN SPORTS SHOP |  180678 | 2008-01-03 |     6.9     |   3394  |   Darien  |  06820   |\n",
       "|   8   |    49   |     4      |     501      |     LANDS' END     |  918485 | 2012-10-17 |    12.85    |   4754  |   Darien  |  06820   |\n",
       "|   9   |    50   |     16     |     501      |        ENRO        |  183831 | 2008-01-12 |     6.3     |   4754  |   Darien  |  06820   |\n",
       "+-------+---------+------------+--------------+--------------------+---------+------------+-------------+---------+-----------+----------+"
      ]
     },
     "execution_count": 3,
     "metadata": {},
     "output_type": "execute_result"
    }
   ],
   "source": [
    "%%sql \n",
    "SELECT * FROM garment_tags_import LIMIT 10;"
   ]
  },
  {
   "cell_type": "code",
   "execution_count": 4,
   "metadata": {},
   "outputs": [
    {
     "data": {
      "text/html": [
       "<span style=\"None\">Running query in &#x27;sqlite:///hw3.db&#x27;</span>"
      ],
      "text/plain": [
       "Running query in 'sqlite:///hw3.db'"
      ]
     },
     "metadata": {},
     "output_type": "display_data"
    },
    {
     "data": {
      "text/html": [
       "<table>\n",
       "    <thead>\n",
       "        <tr>\n",
       "            <th>index</th>\n",
       "            <th>Service Code</th>\n",
       "            <th>Description</th>\n",
       "        </tr>\n",
       "    </thead>\n",
       "    <tbody>\n",
       "        <tr>\n",
       "            <td>0</td>\n",
       "            <td>1</td>\n",
       "            <td>blouse</td>\n",
       "        </tr>\n",
       "        <tr>\n",
       "            <td>1</td>\n",
       "            <td>7</td>\n",
       "            <td>tuxedo pants</td>\n",
       "        </tr>\n",
       "        <tr>\n",
       "            <td>2</td>\n",
       "            <td>17</td>\n",
       "            <td>shirt dry cleaned</td>\n",
       "        </tr>\n",
       "        <tr>\n",
       "            <td>3</td>\n",
       "            <td>30</td>\n",
       "            <td>suit dry cleaned $500</td>\n",
       "        </tr>\n",
       "        <tr>\n",
       "            <td>4</td>\n",
       "            <td>39</td>\n",
       "            <td>suit dry cleaned $750</td>\n",
       "        </tr>\n",
       "        <tr>\n",
       "            <td>5</td>\n",
       "            <td>50</td>\n",
       "            <td>suit dry cleaned $1000</td>\n",
       "        </tr>\n",
       "        <tr>\n",
       "            <td>6</td>\n",
       "            <td>60</td>\n",
       "            <td>suit dry cleaned $1000+</td>\n",
       "        </tr>\n",
       "        <tr>\n",
       "            <td>7</td>\n",
       "            <td>107</td>\n",
       "            <td>surgical pants</td>\n",
       "        </tr>\n",
       "        <tr>\n",
       "            <td>8</td>\n",
       "            <td>122</td>\n",
       "            <td>accessory - dry clean only</td>\n",
       "        </tr>\n",
       "        <tr>\n",
       "            <td>9</td>\n",
       "            <td>501</td>\n",
       "            <td>shirt on hanger</td>\n",
       "        </tr>\n",
       "    </tbody>\n",
       "</table>"
      ],
      "text/plain": [
       "+-------+--------------+----------------------------+\n",
       "| index | Service Code |        Description         |\n",
       "+-------+--------------+----------------------------+\n",
       "|   0   |      1       |           blouse           |\n",
       "|   1   |      7       |        tuxedo pants        |\n",
       "|   2   |      17      |     shirt dry cleaned      |\n",
       "|   3   |      30      |   suit dry cleaned $500    |\n",
       "|   4   |      39      |   suit dry cleaned $750    |\n",
       "|   5   |      50      |   suit dry cleaned $1000   |\n",
       "|   6   |      60      |  suit dry cleaned $1000+   |\n",
       "|   7   |     107      |       surgical pants       |\n",
       "|   8   |     122      | accessory - dry clean only |\n",
       "|   9   |     501      |      shirt on hanger       |\n",
       "+-------+--------------+----------------------------+"
      ]
     },
     "execution_count": 4,
     "metadata": {},
     "output_type": "execute_result"
    }
   ],
   "source": [
    "%%sql \n",
    "SELECT * FROM service_types_import LIMIT 10;"
   ]
  },
  {
   "cell_type": "markdown",
   "metadata": {},
   "source": [
    "### Creating New DW Tables with SQL DDL"
   ]
  },
  {
   "cell_type": "markdown",
   "metadata": {},
   "source": [
    "SQL DDL is fairly easy to read, even without any formal training. A few things to look for: \n",
    "- Each table include either `facts` or `dim` in the name to indicate its purpose.\n",
    "- The `count` column was renamed to `item_count` to avoid a naming conflict with the `COUNT()` function.\n",
    "- In SQLite, an \"autoincrement\" surrogate key (called `rowid`) is silently generated for each table _unless_ `WITHOUT ROWID` is specified.\n",
    "- For data quality auditing (traceability), original source keys are kept whenever possible. \n",
    "- SQLite only supports five data types: INTEGER, TEXT, REAL, BLOB, NUMERIC.\n",
    "- Dates are stored as TEXT because SQLite does not have a Date data type. \n",
    "- Foreign keys are defined as both columns (`cust_id`) and constraints (`FOREIGN KEY cust_id REFERENCES ...`)\n",
    "- Since SQLite does not support `ALTER TABLE` statements, `DROP TABLE IF EXISTS` is used instead to re-create each table from scratch each time the script is run. This would not work if we were to import data incrementally over time, but since we are doing this just once, it's okay. \n",
    "- A benefit of using `DROP TABLE IF EXISTS` is that we can run the notebook from top to bottom whenever we want to re-create the database. "
   ]
  },
  {
   "cell_type": "code",
   "execution_count": 5,
   "metadata": {},
   "outputs": [
    {
     "data": {
      "text/html": [
       "<span style=\"None\">Running query in &#x27;sqlite:///hw3.db&#x27;</span>"
      ],
      "text/plain": [
       "Running query in 'sqlite:///hw3.db'"
      ]
     },
     "metadata": {},
     "output_type": "display_data"
    },
    {
     "data": {
      "text/html": [
       "<table>\n",
       "    <thead>\n",
       "        <tr>\n",
       "        </tr>\n",
       "    </thead>\n",
       "    <tbody>\n",
       "    </tbody>\n",
       "</table>"
      ],
      "text/plain": [
       "++\n",
       "||\n",
       "++\n",
       "++"
      ]
     },
     "execution_count": 5,
     "metadata": {},
     "output_type": "execute_result"
    }
   ],
   "source": [
    "%%sql\n",
    "\n",
    "PRAGMA foreign_keys = ON;\n",
    "\n",
    "DROP TABLE IF EXISTS garment_facts;\n",
    "CREATE TABLE garment_facts (\n",
    "    garm_id INTEGER PRIMARY KEY,   -- an alias for the `rowid` surrogate key automatically created by SQLite\n",
    "    \n",
    "    -- FK columns \n",
    "    cust_id INTEGER not null,      -- fk to customer_dim\n",
    "    sale_id INTEGER not null,      -- fk to sale_dim\n",
    "    brand_id INTEGER,              -- fk to brand_dim; null --> no label\n",
    "    service_code INTEGER NOT NULL, -- fk to service_dim\n",
    "    \n",
    "    -- non-FK columns\n",
    "    item_count INTEGER,            -- number of items in the group\n",
    "    garm_id_src INTEGER,            -- garment id from original source data (used for auditing)\n",
    "    \n",
    "    -- FK constraints\n",
    "    FOREIGN KEY (cust_id) REFERENCES customer_dim (cust_id),\n",
    "    FOREIGN KEY (sale_id) REFERENCES sale_dim (sale_id),\n",
    "    FOREIGN KEY (brand_id) REFERENCES brand_dim (brand_id),\n",
    "    FOREIGN KEY (service_code) REFERENCES service_dim (service_code)\n",
    "    \n",
    ");\n",
    "\n",
    "DROP TABLE IF EXISTS customer_dim;\n",
    "CREATE TABLE customer_dim (\n",
    "    cust_id INTEGER PRIMARY KEY, -- pk provided by src\n",
    "    city TEXT,                   -- city name (may be null)\n",
    "    zip TEXT                     -- zipcode / postal region code (may be null)\n",
    ") WITHOUT ROWID;\n",
    "\n",
    "DROP TABLE IF EXISTS brand_dim;\n",
    "CREATE TABLE brand_dim (\n",
    "    brand_id INTEGER PRIMARY KEY, -- surrogate pk\n",
    "    label TEXT NOT NULL           -- maker / manufacturer / designer\n",
    ");\n",
    "\n",
    "DROP TABLE IF EXISTS sale_dim;\n",
    "CREATE TABLE sale_dim (\n",
    "    sale_id INTEGER PRIMARY KEY, -- surrogate pk\n",
    "    date TEXT NOT NULL,          -- date of sale as YY-MM-DD text string\n",
    "    amount REAL NOT NULL         -- sale amount in USD\n",
    ") WITHOUT ROWID;\n",
    "\n",
    "DROP TABLE IF EXISTS service_dim;\n",
    "CREATE TABLE service_dim (\n",
    "    service_code INTEGER PRIMARY KEY,   -- PK provided by conforming dimension source\n",
    "    description TEXT NOT NULL           -- human readable TEXT (English)\n",
    ") WITHOUT ROWID;"
   ]
  },
  {
   "cell_type": "markdown",
   "metadata": {},
   "source": [
    "### Populating the New DW Tables via SQL Transformations"
   ]
  },
  {
   "cell_type": "markdown",
   "metadata": {},
   "source": [
    "**Whenever possible, we try to load the dimension tables first, starting with any conformed dimensions before the slow moving dimensions. Why? Because they represent the strongest entities.**"
   ]
  },
  {
   "cell_type": "code",
   "execution_count": 6,
   "metadata": {},
   "outputs": [
    {
     "data": {
      "text/html": [
       "<span style=\"None\">Running query in &#x27;sqlite:///hw3.db&#x27;</span>"
      ],
      "text/plain": [
       "Running query in 'sqlite:///hw3.db'"
      ]
     },
     "metadata": {},
     "output_type": "display_data"
    },
    {
     "data": {
      "text/html": [
       "<span style=\"color: green\">32 rows affected.</span>"
      ],
      "text/plain": [
       "32 rows affected."
      ]
     },
     "metadata": {},
     "output_type": "display_data"
    },
    {
     "data": {
      "text/html": [
       "<table>\n",
       "    <thead>\n",
       "        <tr>\n",
       "            <th>service_code</th>\n",
       "            <th>description</th>\n",
       "        </tr>\n",
       "    </thead>\n",
       "    <tbody>\n",
       "        <tr>\n",
       "            <td>1</td>\n",
       "            <td>blouse</td>\n",
       "        </tr>\n",
       "        <tr>\n",
       "            <td>7</td>\n",
       "            <td>tuxedo pants</td>\n",
       "        </tr>\n",
       "        <tr>\n",
       "            <td>17</td>\n",
       "            <td>shirt dry cleaned</td>\n",
       "        </tr>\n",
       "        <tr>\n",
       "            <td>30</td>\n",
       "            <td>suit dry cleaned $500</td>\n",
       "        </tr>\n",
       "        <tr>\n",
       "            <td>39</td>\n",
       "            <td>suit dry cleaned $750</td>\n",
       "        </tr>\n",
       "        <tr>\n",
       "            <td>50</td>\n",
       "            <td>suit dry cleaned $1000</td>\n",
       "        </tr>\n",
       "        <tr>\n",
       "            <td>60</td>\n",
       "            <td>suit dry cleaned $1000+</td>\n",
       "        </tr>\n",
       "        <tr>\n",
       "            <td>107</td>\n",
       "            <td>surgical pants</td>\n",
       "        </tr>\n",
       "        <tr>\n",
       "            <td>122</td>\n",
       "            <td>accessory - dry clean only</td>\n",
       "        </tr>\n",
       "        <tr>\n",
       "            <td>501</td>\n",
       "            <td>shirt on hanger</td>\n",
       "        </tr>\n",
       "    </tbody>\n",
       "</table>"
      ],
      "text/plain": [
       "+--------------+----------------------------+\n",
       "| service_code |        description         |\n",
       "+--------------+----------------------------+\n",
       "|      1       |           blouse           |\n",
       "|      7       |        tuxedo pants        |\n",
       "|      17      |     shirt dry cleaned      |\n",
       "|      30      |   suit dry cleaned $500    |\n",
       "|      39      |   suit dry cleaned $750    |\n",
       "|      50      |   suit dry cleaned $1000   |\n",
       "|      60      |  suit dry cleaned $1000+   |\n",
       "|     107      |       surgical pants       |\n",
       "|     122      | accessory - dry clean only |\n",
       "|     501      |      shirt on hanger       |\n",
       "+--------------+----------------------------+"
      ]
     },
     "execution_count": 6,
     "metadata": {},
     "output_type": "execute_result"
    }
   ],
   "source": [
    "%%sql\n",
    "INSERT INTO service_dim (service_code, description) \n",
    "    SELECT `Service Code`, `Description`\n",
    "    FROM service_types_import;\n",
    "SELECT * FROM service_dim LIMIT 10;"
   ]
  },
  {
   "cell_type": "code",
   "execution_count": 7,
   "metadata": {},
   "outputs": [
    {
     "data": {
      "text/html": [
       "<span style=\"None\">Running query in &#x27;sqlite:///hw3.db&#x27;</span>"
      ],
      "text/plain": [
       "Running query in 'sqlite:///hw3.db'"
      ]
     },
     "metadata": {},
     "output_type": "display_data"
    },
    {
     "data": {
      "text/html": [
       "<span style=\"color: green\">2587 rows affected.</span>"
      ],
      "text/plain": [
       "2587 rows affected."
      ]
     },
     "metadata": {},
     "output_type": "display_data"
    },
    {
     "data": {
      "text/html": [
       "<table>\n",
       "    <thead>\n",
       "        <tr>\n",
       "            <th>cust_id</th>\n",
       "            <th>city</th>\n",
       "            <th>zip</th>\n",
       "        </tr>\n",
       "    </thead>\n",
       "    <tbody>\n",
       "        <tr>\n",
       "            <td>12</td>\n",
       "            <td>Westport</td>\n",
       "            <td>06880</td>\n",
       "        </tr>\n",
       "        <tr>\n",
       "            <td>49</td>\n",
       "            <td>Stamford</td>\n",
       "            <td>06902</td>\n",
       "        </tr>\n",
       "        <tr>\n",
       "            <td>73</td>\n",
       "            <td>Darien</td>\n",
       "            <td>06820</td>\n",
       "        </tr>\n",
       "        <tr>\n",
       "            <td>88</td>\n",
       "            <td>Darien</td>\n",
       "            <td>06820</td>\n",
       "        </tr>\n",
       "        <tr>\n",
       "            <td>119</td>\n",
       "            <td>New Canaan</td>\n",
       "            <td>06840</td>\n",
       "        </tr>\n",
       "        <tr>\n",
       "            <td>139</td>\n",
       "            <td>Darien</td>\n",
       "            <td>06820</td>\n",
       "        </tr>\n",
       "        <tr>\n",
       "            <td>168</td>\n",
       "            <td>Darien</td>\n",
       "            <td>06820</td>\n",
       "        </tr>\n",
       "        <tr>\n",
       "            <td>191</td>\n",
       "            <td>Darien</td>\n",
       "            <td>06820</td>\n",
       "        </tr>\n",
       "        <tr>\n",
       "            <td>225</td>\n",
       "            <td>Darien</td>\n",
       "            <td>06820</td>\n",
       "        </tr>\n",
       "        <tr>\n",
       "            <td>236</td>\n",
       "            <td>Darien</td>\n",
       "            <td>06820</td>\n",
       "        </tr>\n",
       "    </tbody>\n",
       "</table>"
      ],
      "text/plain": [
       "+---------+------------+-------+\n",
       "| cust_id |    city    |  zip  |\n",
       "+---------+------------+-------+\n",
       "|    12   |  Westport  | 06880 |\n",
       "|    49   |  Stamford  | 06902 |\n",
       "|    73   |   Darien   | 06820 |\n",
       "|    88   |   Darien   | 06820 |\n",
       "|   119   | New Canaan | 06840 |\n",
       "|   139   |   Darien   | 06820 |\n",
       "|   168   |   Darien   | 06820 |\n",
       "|   191   |   Darien   | 06820 |\n",
       "|   225   |   Darien   | 06820 |\n",
       "|   236   |   Darien   | 06820 |\n",
       "+---------+------------+-------+"
      ]
     },
     "execution_count": 7,
     "metadata": {},
     "output_type": "execute_result"
    }
   ],
   "source": [
    "%%sql \n",
    "INSERT INTO customer_dim (cust_id, city, zip)\n",
    "    SELECT DISTINCT CUST_ID, CUST_CITY, CUST_ZIP\n",
    "    FROM garment_tags_import;\n",
    "SELECT * FROM customer_dim LIMIT 10;"
   ]
  },
  {
   "cell_type": "code",
   "execution_count": 8,
   "metadata": {},
   "outputs": [
    {
     "data": {
      "text/html": [
       "<span style=\"None\">Running query in &#x27;sqlite:///hw3.db&#x27;</span>"
      ],
      "text/plain": [
       "Running query in 'sqlite:///hw3.db'"
      ]
     },
     "metadata": {},
     "output_type": "display_data"
    },
    {
     "data": {
      "text/html": [
       "<span style=\"color: green\">69673 rows affected.</span>"
      ],
      "text/plain": [
       "69673 rows affected."
      ]
     },
     "metadata": {},
     "output_type": "display_data"
    },
    {
     "data": {
      "text/html": [
       "<table>\n",
       "    <thead>\n",
       "        <tr>\n",
       "            <th>sale_id</th>\n",
       "            <th>date</th>\n",
       "            <th>amount</th>\n",
       "        </tr>\n",
       "    </thead>\n",
       "    <tbody>\n",
       "        <tr>\n",
       "            <td>43</td>\n",
       "            <td>2007-12-29</td>\n",
       "            <td>10.5</td>\n",
       "        </tr>\n",
       "        <tr>\n",
       "            <td>49</td>\n",
       "            <td>2007-12-29</td>\n",
       "            <td>6.3</td>\n",
       "        </tr>\n",
       "        <tr>\n",
       "            <td>53</td>\n",
       "            <td>2007-12-29</td>\n",
       "            <td>8.4</td>\n",
       "        </tr>\n",
       "        <tr>\n",
       "            <td>55</td>\n",
       "            <td>2007-12-29</td>\n",
       "            <td>4.2</td>\n",
       "        </tr>\n",
       "        <tr>\n",
       "            <td>68</td>\n",
       "            <td>2007-12-29</td>\n",
       "            <td>6.3</td>\n",
       "        </tr>\n",
       "        <tr>\n",
       "            <td>97</td>\n",
       "            <td>2007-12-29</td>\n",
       "            <td>10.5</td>\n",
       "        </tr>\n",
       "        <tr>\n",
       "            <td>119</td>\n",
       "            <td>2007-12-29</td>\n",
       "            <td>4.2</td>\n",
       "        </tr>\n",
       "        <tr>\n",
       "            <td>145</td>\n",
       "            <td>2007-12-29</td>\n",
       "            <td>4.2</td>\n",
       "        </tr>\n",
       "        <tr>\n",
       "            <td>163</td>\n",
       "            <td>2007-12-29</td>\n",
       "            <td>8.4</td>\n",
       "        </tr>\n",
       "        <tr>\n",
       "            <td>170</td>\n",
       "            <td>2007-12-29</td>\n",
       "            <td>9.2</td>\n",
       "        </tr>\n",
       "    </tbody>\n",
       "</table>"
      ],
      "text/plain": [
       "+---------+------------+--------+\n",
       "| sale_id |    date    | amount |\n",
       "+---------+------------+--------+\n",
       "|    43   | 2007-12-29 |  10.5  |\n",
       "|    49   | 2007-12-29 |  6.3   |\n",
       "|    53   | 2007-12-29 |  8.4   |\n",
       "|    55   | 2007-12-29 |  4.2   |\n",
       "|    68   | 2007-12-29 |  6.3   |\n",
       "|    97   | 2007-12-29 |  10.5  |\n",
       "|   119   | 2007-12-29 |  4.2   |\n",
       "|   145   | 2007-12-29 |  4.2   |\n",
       "|   163   | 2007-12-29 |  8.4   |\n",
       "|   170   | 2007-12-29 |  9.2   |\n",
       "+---------+------------+--------+"
      ]
     },
     "execution_count": 8,
     "metadata": {},
     "output_type": "execute_result"
    }
   ],
   "source": [
    "%%sql\n",
    "INSERT INTO sale_dim (sale_id, date,amount)\n",
    "    SELECT DISTINCT SALE_ID, SALE_DATE, SALE_AMOUNT\n",
    "    FROM garment_tags_import;\n",
    "SELECT * FROM sale_dim LIMIT 10; "
   ]
  },
  {
   "cell_type": "code",
   "execution_count": 9,
   "metadata": {},
   "outputs": [
    {
     "data": {
      "text/html": [
       "<span style=\"None\">Running query in &#x27;sqlite:///hw3.db&#x27;</span>"
      ],
      "text/plain": [
       "Running query in 'sqlite:///hw3.db'"
      ]
     },
     "metadata": {},
     "output_type": "display_data"
    },
    {
     "data": {
      "text/html": [
       "<span style=\"color: green\">3259 rows affected.</span>"
      ],
      "text/plain": [
       "3259 rows affected."
      ]
     },
     "metadata": {},
     "output_type": "display_data"
    },
    {
     "data": {
      "text/html": [
       "<table>\n",
       "    <thead>\n",
       "        <tr>\n",
       "            <th>brand_id</th>\n",
       "            <th>label</th>\n",
       "        </tr>\n",
       "    </thead>\n",
       "    <tbody>\n",
       "        <tr>\n",
       "            <td>1</td>\n",
       "            <td>RALPH LAUREN</td>\n",
       "        </tr>\n",
       "        <tr>\n",
       "            <td>2</td>\n",
       "            <td>CHARLES-TYRWHITT</td>\n",
       "        </tr>\n",
       "        <tr>\n",
       "            <td>3</td>\n",
       "            <td>POLO</td>\n",
       "        </tr>\n",
       "        <tr>\n",
       "            <td>4</td>\n",
       "            <td>DARIEN SPORTS SHOP</td>\n",
       "        </tr>\n",
       "        <tr>\n",
       "            <td>5</td>\n",
       "            <td>BROOKS BROTHERS</td>\n",
       "        </tr>\n",
       "        <tr>\n",
       "            <td>6</td>\n",
       "            <td>LANDS' END</td>\n",
       "        </tr>\n",
       "        <tr>\n",
       "            <td>7</td>\n",
       "            <td>ENRO</td>\n",
       "        </tr>\n",
       "        <tr>\n",
       "            <td>8</td>\n",
       "            <td>OVERTON</td>\n",
       "        </tr>\n",
       "        <tr>\n",
       "            <td>9</td>\n",
       "            <td>KIRAN</td>\n",
       "        </tr>\n",
       "        <tr>\n",
       "            <td>10</td>\n",
       "            <td>LL BEAN</td>\n",
       "        </tr>\n",
       "    </tbody>\n",
       "</table>"
      ],
      "text/plain": [
       "+----------+--------------------+\n",
       "| brand_id |       label        |\n",
       "+----------+--------------------+\n",
       "|    1     |    RALPH LAUREN    |\n",
       "|    2     |  CHARLES-TYRWHITT  |\n",
       "|    3     |        POLO        |\n",
       "|    4     | DARIEN SPORTS SHOP |\n",
       "|    5     |  BROOKS BROTHERS   |\n",
       "|    6     |     LANDS' END     |\n",
       "|    7     |        ENRO        |\n",
       "|    8     |      OVERTON       |\n",
       "|    9     |       KIRAN        |\n",
       "|    10    |      LL BEAN       |\n",
       "+----------+--------------------+"
      ]
     },
     "execution_count": 9,
     "metadata": {},
     "output_type": "execute_result"
    }
   ],
   "source": [
    "%%sql\n",
    "INSERT INTO brand_dim (label)\n",
    "    SELECT DISTINCT Garm_Brand\n",
    "    FROM garment_tags_import\n",
    "    WHERE Garm_Brand IS NOT NULL;\n",
    "SELECT * FROM brand_dim LIMIT 10;"
   ]
  },
  {
   "cell_type": "markdown",
   "metadata": {},
   "source": [
    "**Once we have the dimensions worked out we can load the fact table. In the code below we had to use a `LEFT JOIN` to match up the brands with the labels as specified in the `brand_dim` table. Why a `LEFT JOIN`? Because not every garment had a label.** "
   ]
  },
  {
   "cell_type": "code",
   "execution_count": 10,
   "metadata": {},
   "outputs": [
    {
     "data": {
      "text/html": [
       "<span style=\"None\">Running query in &#x27;sqlite:///hw3.db&#x27;</span>"
      ],
      "text/plain": [
       "Running query in 'sqlite:///hw3.db'"
      ]
     },
     "metadata": {},
     "output_type": "display_data"
    },
    {
     "data": {
      "text/html": [
       "<span style=\"color: green\">90608 rows affected.</span>"
      ],
      "text/plain": [
       "90608 rows affected."
      ]
     },
     "metadata": {},
     "output_type": "display_data"
    },
    {
     "data": {
      "text/html": [
       "<table>\n",
       "    <thead>\n",
       "        <tr>\n",
       "        </tr>\n",
       "    </thead>\n",
       "    <tbody>\n",
       "    </tbody>\n",
       "</table>"
      ],
      "text/plain": [
       "++\n",
       "||\n",
       "++\n",
       "++"
      ]
     },
     "execution_count": 10,
     "metadata": {},
     "output_type": "execute_result"
    }
   ],
   "source": [
    "%%sql \n",
    "INSERT INTO garment_facts (cust_id, sale_id, brand_id, service_code, item_count, garm_id_src)\n",
    "    SELECT Cust_ID as cust_id,\n",
    "           Sale_ID as sale_id,\n",
    "           brand_id,\n",
    "           Garm_Type_ID as service_code,\n",
    "           Garm_Count as item_count,\n",
    "           Garm_ID as garm_id_src\n",
    "    FROM garment_tags_import\n",
    "            LEFT JOIN brand_dim ON (garment_tags_import.Garm_Brand = brand_dim.label);"
   ]
  },
  {
   "cell_type": "markdown",
   "metadata": {},
   "source": [
    "### Validating that everything worked"
   ]
  },
  {
   "cell_type": "code",
   "execution_count": 11,
   "metadata": {},
   "outputs": [
    {
     "data": {
      "text/html": [
       "<span style=\"None\">Running query in &#x27;sqlite:///hw3.db&#x27;</span>"
      ],
      "text/plain": [
       "Running query in 'sqlite:///hw3.db'"
      ]
     },
     "metadata": {},
     "output_type": "display_data"
    },
    {
     "data": {
      "text/html": [
       "<table>\n",
       "    <thead>\n",
       "        <tr>\n",
       "            <th>fact_count</th>\n",
       "            <th>tag_count</th>\n",
       "        </tr>\n",
       "    </thead>\n",
       "    <tbody>\n",
       "        <tr>\n",
       "            <td>90608</td>\n",
       "            <td>90608</td>\n",
       "        </tr>\n",
       "    </tbody>\n",
       "</table>"
      ],
      "text/plain": [
       "+------------+-----------+\n",
       "| fact_count | tag_count |\n",
       "+------------+-----------+\n",
       "|   90608    |   90608   |\n",
       "+------------+-----------+"
      ]
     },
     "execution_count": 11,
     "metadata": {},
     "output_type": "execute_result"
    }
   ],
   "source": [
    "%%sql\n",
    "-- garment_facts should have the same number of rows as garment_tags_import\n",
    "SELECT \n",
    "    (SELECT count(*) FROM garment_facts) as fact_count,\n",
    "    (SELECT count(*) FROM garment_tags_import) as tag_count"
   ]
  },
  {
   "cell_type": "markdown",
   "metadata": {},
   "source": [
    "## **Part 2. Ask the Data Warehouse to tell us about company and its customers.**\n",
    "\n",
    "> **Note: these queries will take a while to run. SQLite is not particularly quick.** "
   ]
  },
  {
   "cell_type": "markdown",
   "metadata": {},
   "source": [
    "### A few moderately-easy warmup questions"
   ]
  },
  {
   "cell_type": "markdown",
   "metadata": {
    "id": "5xF78J1JCiRd"
   },
   "source": [
    "**How many sales were made in each town?**"
   ]
  },
  {
   "cell_type": "code",
   "execution_count": 12,
   "metadata": {
    "id": "U9CEzy74QZd8"
   },
   "outputs": [
    {
     "data": {
      "text/html": [
       "<span style=\"None\">Running query in &#x27;sqlite:///hw3.db&#x27;</span>"
      ],
      "text/plain": [
       "Running query in 'sqlite:///hw3.db'"
      ]
     },
     "metadata": {},
     "output_type": "display_data"
    },
    {
     "ename": "OSError",
     "evalue": "[Errno 28] No space left on device: '/Users/christopherhuntley/.ploomber/stats/tmp_YGYA5NG8BD.txt'",
     "output_type": "error",
     "traceback": [
      "\u001b[0;31m---------------------------------------------------------------------------\u001b[0m",
      "\u001b[0;31mOperationalError\u001b[0m                          Traceback (most recent call last)",
      "File \u001b[0;32m~/Library/jupyterlab-desktop/jlab_server/lib/python3.8/site-packages/sqlalchemy/engine/base.py:1967\u001b[0m, in \u001b[0;36mConnection._exec_single_context\u001b[0;34m(self, dialect, context, statement, parameters)\u001b[0m\n\u001b[1;32m   1966\u001b[0m     \u001b[38;5;28;01mif\u001b[39;00m \u001b[38;5;129;01mnot\u001b[39;00m evt_handled:\n\u001b[0;32m-> 1967\u001b[0m         \u001b[38;5;28;43mself\u001b[39;49m\u001b[38;5;241;43m.\u001b[39;49m\u001b[43mdialect\u001b[49m\u001b[38;5;241;43m.\u001b[39;49m\u001b[43mdo_execute\u001b[49m\u001b[43m(\u001b[49m\n\u001b[1;32m   1968\u001b[0m \u001b[43m            \u001b[49m\u001b[43mcursor\u001b[49m\u001b[43m,\u001b[49m\u001b[43m \u001b[49m\u001b[43mstr_statement\u001b[49m\u001b[43m,\u001b[49m\u001b[43m \u001b[49m\u001b[43meffective_parameters\u001b[49m\u001b[43m,\u001b[49m\u001b[43m \u001b[49m\u001b[43mcontext\u001b[49m\n\u001b[1;32m   1969\u001b[0m \u001b[43m        \u001b[49m\u001b[43m)\u001b[49m\n\u001b[1;32m   1971\u001b[0m \u001b[38;5;28;01mif\u001b[39;00m \u001b[38;5;28mself\u001b[39m\u001b[38;5;241m.\u001b[39m_has_events \u001b[38;5;129;01mor\u001b[39;00m \u001b[38;5;28mself\u001b[39m\u001b[38;5;241m.\u001b[39mengine\u001b[38;5;241m.\u001b[39m_has_events:\n",
      "File \u001b[0;32m~/Library/jupyterlab-desktop/jlab_server/lib/python3.8/site-packages/sqlalchemy/engine/default.py:924\u001b[0m, in \u001b[0;36mDefaultDialect.do_execute\u001b[0;34m(self, cursor, statement, parameters, context)\u001b[0m\n\u001b[1;32m    923\u001b[0m \u001b[38;5;28;01mdef\u001b[39;00m \u001b[38;5;21mdo_execute\u001b[39m(\u001b[38;5;28mself\u001b[39m, cursor, statement, parameters, context\u001b[38;5;241m=\u001b[39m\u001b[38;5;28;01mNone\u001b[39;00m):\n\u001b[0;32m--> 924\u001b[0m     \u001b[43mcursor\u001b[49m\u001b[38;5;241;43m.\u001b[39;49m\u001b[43mexecute\u001b[49m\u001b[43m(\u001b[49m\u001b[43mstatement\u001b[49m\u001b[43m,\u001b[49m\u001b[43m \u001b[49m\u001b[43mparameters\u001b[49m\u001b[43m)\u001b[49m\n",
      "\u001b[0;31mOperationalError\u001b[0m: database or disk is full",
      "\nThe above exception was the direct cause of the following exception:\n",
      "\u001b[0;31mOperationalError\u001b[0m                          Traceback (most recent call last)",
      "File \u001b[0;32m~/Library/jupyterlab-desktop/jlab_server/lib/python3.8/site-packages/sql/magic.py:582\u001b[0m, in \u001b[0;36mSqlMagic._execute\u001b[0;34m(self, payload, line, cell, local_ns, is_interactive_mode)\u001b[0m\n\u001b[1;32m    581\u001b[0m \u001b[38;5;28;01mtry\u001b[39;00m:\n\u001b[0;32m--> 582\u001b[0m     result \u001b[38;5;241m=\u001b[39m \u001b[43mrun_statements\u001b[49m\u001b[43m(\u001b[49m\u001b[43mconn\u001b[49m\u001b[43m,\u001b[49m\u001b[43m \u001b[49m\u001b[43mcommand\u001b[49m\u001b[38;5;241;43m.\u001b[39;49m\u001b[43msql\u001b[49m\u001b[43m,\u001b[49m\u001b[43m \u001b[49m\u001b[38;5;28;43mself\u001b[39;49m\u001b[43m,\u001b[49m\u001b[43m \u001b[49m\u001b[43mparameters\u001b[49m\u001b[38;5;241;43m=\u001b[39;49m\u001b[43mparameters\u001b[49m\u001b[43m)\u001b[49m\n\u001b[1;32m    584\u001b[0m     \u001b[38;5;28;01mif\u001b[39;00m (\n\u001b[1;32m    585\u001b[0m         result \u001b[38;5;129;01mis\u001b[39;00m \u001b[38;5;129;01mnot\u001b[39;00m \u001b[38;5;28;01mNone\u001b[39;00m\n\u001b[1;32m    586\u001b[0m         \u001b[38;5;129;01mand\u001b[39;00m \u001b[38;5;129;01mnot\u001b[39;00m \u001b[38;5;28misinstance\u001b[39m(result, \u001b[38;5;28mstr\u001b[39m)\n\u001b[0;32m   (...)\u001b[0m\n\u001b[1;32m    589\u001b[0m         \u001b[38;5;66;03m# Instead of returning values, set variables directly in the\u001b[39;00m\n\u001b[1;32m    590\u001b[0m         \u001b[38;5;66;03m# users namespace. Variable names given by column names\u001b[39;00m\n",
      "File \u001b[0;32m~/Library/jupyterlab-desktop/jlab_server/lib/python3.8/site-packages/sql/run/run.py:54\u001b[0m, in \u001b[0;36mrun_statements\u001b[0;34m(conn, sql, config, parameters)\u001b[0m\n\u001b[1;32m     52\u001b[0m \u001b[38;5;66;03m# regular query\u001b[39;00m\n\u001b[1;32m     53\u001b[0m \u001b[38;5;28;01melse\u001b[39;00m:\n\u001b[0;32m---> 54\u001b[0m     result \u001b[38;5;241m=\u001b[39m \u001b[43mconn\u001b[49m\u001b[38;5;241;43m.\u001b[39;49m\u001b[43mraw_execute\u001b[49m\u001b[43m(\u001b[49m\u001b[43mstatement\u001b[49m\u001b[43m,\u001b[49m\u001b[43m \u001b[49m\u001b[43mparameters\u001b[49m\u001b[38;5;241;43m=\u001b[39;49m\u001b[43mparameters\u001b[49m\u001b[43m)\u001b[49m\n\u001b[1;32m     55\u001b[0m     \u001b[38;5;28;01mif\u001b[39;00m is_spark(conn\u001b[38;5;241m.\u001b[39mdialect) \u001b[38;5;129;01mand\u001b[39;00m config\u001b[38;5;241m.\u001b[39mlazy_execution:\n",
      "File \u001b[0;32m~/Library/jupyterlab-desktop/jlab_server/lib/python3.8/site-packages/sql/connection/connection.py:824\u001b[0m, in \u001b[0;36mSQLAlchemyConnection.raw_execute\u001b[0;34m(self, query, parameters, with_)\u001b[0m\n\u001b[1;32m    823\u001b[0m \u001b[38;5;28;01mtry\u001b[39;00m:\n\u001b[0;32m--> 824\u001b[0m     \u001b[38;5;28;01mreturn\u001b[39;00m \u001b[38;5;28;43mself\u001b[39;49m\u001b[38;5;241;43m.\u001b[39;49m\u001b[43m_connection_execute\u001b[49m\u001b[43m(\u001b[49m\u001b[43mquery\u001b[49m\u001b[43m,\u001b[49m\u001b[43m \u001b[49m\u001b[43mparameters\u001b[49m\u001b[43m)\u001b[49m\n\u001b[1;32m    825\u001b[0m \u001b[38;5;28;01mexcept\u001b[39;00m StatementError \u001b[38;5;28;01mas\u001b[39;00m e:\n\u001b[1;32m    826\u001b[0m     \u001b[38;5;66;03m# add a more helpful message if the users passes :variable but\u001b[39;00m\n\u001b[1;32m    827\u001b[0m     \u001b[38;5;66;03m# the feature isn't enabled\u001b[39;00m\n",
      "File \u001b[0;32m~/Library/jupyterlab-desktop/jlab_server/lib/python3.8/site-packages/sql/connection/connection.py:731\u001b[0m, in \u001b[0;36mSQLAlchemyConnection._connection_execute\u001b[0;34m(self, query, parameters)\u001b[0m\n\u001b[1;32m    730\u001b[0m operation \u001b[38;5;241m=\u001b[39m partial(\u001b[38;5;28mself\u001b[39m\u001b[38;5;241m.\u001b[39m_execute_with_parameters, query, parameters)\n\u001b[0;32m--> 731\u001b[0m out \u001b[38;5;241m=\u001b[39m \u001b[38;5;28;43mself\u001b[39;49m\u001b[38;5;241;43m.\u001b[39;49m\u001b[43m_execute_with_error_handling\u001b[49m\u001b[43m(\u001b[49m\u001b[43moperation\u001b[49m\u001b[43m)\u001b[49m\n\u001b[1;32m    733\u001b[0m \u001b[38;5;28;01mif\u001b[39;00m \u001b[38;5;28mself\u001b[39m\u001b[38;5;241m.\u001b[39m_requires_manual_commit:\n\u001b[1;32m    734\u001b[0m     \u001b[38;5;66;03m# Calling connection.commit() when using duckdb-engine will yield\u001b[39;00m\n\u001b[1;32m    735\u001b[0m     \u001b[38;5;66;03m# empty results if we commit after a SELECT or SUMMARIZE statement,\u001b[39;00m\n\u001b[1;32m    736\u001b[0m     \u001b[38;5;66;03m# see: https://github.com/Mause/duckdb_engine/issues/734.\u001b[39;00m\n",
      "File \u001b[0;32m~/Library/jupyterlab-desktop/jlab_server/lib/python3.8/site-packages/sql/connection/connection.py:862\u001b[0m, in \u001b[0;36mSQLAlchemyConnection._execute_with_error_handling\u001b[0;34m(self, operation)\u001b[0m\n\u001b[1;32m    861\u001b[0m \u001b[38;5;28;01mtry\u001b[39;00m:\n\u001b[0;32m--> 862\u001b[0m     out \u001b[38;5;241m=\u001b[39m \u001b[43moperation\u001b[49m\u001b[43m(\u001b[49m\u001b[43m)\u001b[49m\n\u001b[1;32m    864\u001b[0m \u001b[38;5;66;03m# this is a generic error but we've seen it in postgres. it helps recover\u001b[39;00m\n\u001b[1;32m    865\u001b[0m \u001b[38;5;66;03m# from a idle session timeout (happens in psycopg 2 and psycopg 3)\u001b[39;00m\n",
      "File \u001b[0;32m~/Library/jupyterlab-desktop/jlab_server/lib/python3.8/site-packages/sql/connection/connection.py:767\u001b[0m, in \u001b[0;36mSQLAlchemyConnection._execute_with_parameters\u001b[0;34m(self, query, parameters)\u001b[0m\n\u001b[1;32m    766\u001b[0m \u001b[38;5;28;01melse\u001b[39;00m:\n\u001b[0;32m--> 767\u001b[0m     out \u001b[38;5;241m=\u001b[39m \u001b[38;5;28;43mself\u001b[39;49m\u001b[38;5;241;43m.\u001b[39;49m\u001b[43m_connection\u001b[49m\u001b[38;5;241;43m.\u001b[39;49m\u001b[43mexecute\u001b[49m\u001b[43m(\u001b[49m\n\u001b[1;32m    768\u001b[0m \u001b[43m        \u001b[49m\u001b[43msqlalchemy\u001b[49m\u001b[38;5;241;43m.\u001b[39;49m\u001b[43mtext\u001b[49m\u001b[43m(\u001b[49m\u001b[43mquery\u001b[49m\u001b[43m)\u001b[49m\u001b[43m,\u001b[49m\u001b[43m \u001b[49m\u001b[43mparameters\u001b[49m\u001b[38;5;241;43m=\u001b[39;49m\u001b[43mparameters\u001b[49m\n\u001b[1;32m    769\u001b[0m \u001b[43m    \u001b[49m\u001b[43m)\u001b[49m\n\u001b[1;32m    771\u001b[0m \u001b[38;5;28;01mreturn\u001b[39;00m out\n",
      "File \u001b[0;32m~/Library/jupyterlab-desktop/jlab_server/lib/python3.8/site-packages/sqlalchemy/engine/base.py:1418\u001b[0m, in \u001b[0;36mConnection.execute\u001b[0;34m(self, statement, parameters, execution_options)\u001b[0m\n\u001b[1;32m   1417\u001b[0m \u001b[38;5;28;01melse\u001b[39;00m:\n\u001b[0;32m-> 1418\u001b[0m     \u001b[38;5;28;01mreturn\u001b[39;00m \u001b[43mmeth\u001b[49m\u001b[43m(\u001b[49m\n\u001b[1;32m   1419\u001b[0m \u001b[43m        \u001b[49m\u001b[38;5;28;43mself\u001b[39;49m\u001b[43m,\u001b[49m\n\u001b[1;32m   1420\u001b[0m \u001b[43m        \u001b[49m\u001b[43mdistilled_parameters\u001b[49m\u001b[43m,\u001b[49m\n\u001b[1;32m   1421\u001b[0m \u001b[43m        \u001b[49m\u001b[43mexecution_options\u001b[49m\u001b[43m \u001b[49m\u001b[38;5;129;43;01mor\u001b[39;49;00m\u001b[43m \u001b[49m\u001b[43mNO_OPTIONS\u001b[49m\u001b[43m,\u001b[49m\n\u001b[1;32m   1422\u001b[0m \u001b[43m    \u001b[49m\u001b[43m)\u001b[49m\n",
      "File \u001b[0;32m~/Library/jupyterlab-desktop/jlab_server/lib/python3.8/site-packages/sqlalchemy/sql/elements.py:515\u001b[0m, in \u001b[0;36mClauseElement._execute_on_connection\u001b[0;34m(self, connection, distilled_params, execution_options)\u001b[0m\n\u001b[1;32m    514\u001b[0m         \u001b[38;5;28;01massert\u001b[39;00m \u001b[38;5;28misinstance\u001b[39m(\u001b[38;5;28mself\u001b[39m, Executable)\n\u001b[0;32m--> 515\u001b[0m     \u001b[38;5;28;01mreturn\u001b[39;00m \u001b[43mconnection\u001b[49m\u001b[38;5;241;43m.\u001b[39;49m\u001b[43m_execute_clauseelement\u001b[49m\u001b[43m(\u001b[49m\n\u001b[1;32m    516\u001b[0m \u001b[43m        \u001b[49m\u001b[38;5;28;43mself\u001b[39;49m\u001b[43m,\u001b[49m\u001b[43m \u001b[49m\u001b[43mdistilled_params\u001b[49m\u001b[43m,\u001b[49m\u001b[43m \u001b[49m\u001b[43mexecution_options\u001b[49m\n\u001b[1;32m    517\u001b[0m \u001b[43m    \u001b[49m\u001b[43m)\u001b[49m\n\u001b[1;32m    518\u001b[0m \u001b[38;5;28;01melse\u001b[39;00m:\n",
      "File \u001b[0;32m~/Library/jupyterlab-desktop/jlab_server/lib/python3.8/site-packages/sqlalchemy/engine/base.py:1640\u001b[0m, in \u001b[0;36mConnection._execute_clauseelement\u001b[0;34m(self, elem, distilled_parameters, execution_options)\u001b[0m\n\u001b[1;32m   1632\u001b[0m compiled_sql, extracted_params, cache_hit \u001b[38;5;241m=\u001b[39m elem\u001b[38;5;241m.\u001b[39m_compile_w_cache(\n\u001b[1;32m   1633\u001b[0m     dialect\u001b[38;5;241m=\u001b[39mdialect,\n\u001b[1;32m   1634\u001b[0m     compiled_cache\u001b[38;5;241m=\u001b[39mcompiled_cache,\n\u001b[0;32m   (...)\u001b[0m\n\u001b[1;32m   1638\u001b[0m     linting\u001b[38;5;241m=\u001b[39m\u001b[38;5;28mself\u001b[39m\u001b[38;5;241m.\u001b[39mdialect\u001b[38;5;241m.\u001b[39mcompiler_linting \u001b[38;5;241m|\u001b[39m compiler\u001b[38;5;241m.\u001b[39mWARN_LINTING,\n\u001b[1;32m   1639\u001b[0m )\n\u001b[0;32m-> 1640\u001b[0m ret \u001b[38;5;241m=\u001b[39m \u001b[38;5;28;43mself\u001b[39;49m\u001b[38;5;241;43m.\u001b[39;49m\u001b[43m_execute_context\u001b[49m\u001b[43m(\u001b[49m\n\u001b[1;32m   1641\u001b[0m \u001b[43m    \u001b[49m\u001b[43mdialect\u001b[49m\u001b[43m,\u001b[49m\n\u001b[1;32m   1642\u001b[0m \u001b[43m    \u001b[49m\u001b[43mdialect\u001b[49m\u001b[38;5;241;43m.\u001b[39;49m\u001b[43mexecution_ctx_cls\u001b[49m\u001b[38;5;241;43m.\u001b[39;49m\u001b[43m_init_compiled\u001b[49m\u001b[43m,\u001b[49m\n\u001b[1;32m   1643\u001b[0m \u001b[43m    \u001b[49m\u001b[43mcompiled_sql\u001b[49m\u001b[43m,\u001b[49m\n\u001b[1;32m   1644\u001b[0m \u001b[43m    \u001b[49m\u001b[43mdistilled_parameters\u001b[49m\u001b[43m,\u001b[49m\n\u001b[1;32m   1645\u001b[0m \u001b[43m    \u001b[49m\u001b[43mexecution_options\u001b[49m\u001b[43m,\u001b[49m\n\u001b[1;32m   1646\u001b[0m \u001b[43m    \u001b[49m\u001b[43mcompiled_sql\u001b[49m\u001b[43m,\u001b[49m\n\u001b[1;32m   1647\u001b[0m \u001b[43m    \u001b[49m\u001b[43mdistilled_parameters\u001b[49m\u001b[43m,\u001b[49m\n\u001b[1;32m   1648\u001b[0m \u001b[43m    \u001b[49m\u001b[43melem\u001b[49m\u001b[43m,\u001b[49m\n\u001b[1;32m   1649\u001b[0m \u001b[43m    \u001b[49m\u001b[43mextracted_params\u001b[49m\u001b[43m,\u001b[49m\n\u001b[1;32m   1650\u001b[0m \u001b[43m    \u001b[49m\u001b[43mcache_hit\u001b[49m\u001b[38;5;241;43m=\u001b[39;49m\u001b[43mcache_hit\u001b[49m\u001b[43m,\u001b[49m\n\u001b[1;32m   1651\u001b[0m \u001b[43m\u001b[49m\u001b[43m)\u001b[49m\n\u001b[1;32m   1652\u001b[0m \u001b[38;5;28;01mif\u001b[39;00m has_events:\n",
      "File \u001b[0;32m~/Library/jupyterlab-desktop/jlab_server/lib/python3.8/site-packages/sqlalchemy/engine/base.py:1846\u001b[0m, in \u001b[0;36mConnection._execute_context\u001b[0;34m(self, dialect, constructor, statement, parameters, execution_options, *args, **kw)\u001b[0m\n\u001b[1;32m   1845\u001b[0m \u001b[38;5;28;01melse\u001b[39;00m:\n\u001b[0;32m-> 1846\u001b[0m     \u001b[38;5;28;01mreturn\u001b[39;00m \u001b[38;5;28;43mself\u001b[39;49m\u001b[38;5;241;43m.\u001b[39;49m\u001b[43m_exec_single_context\u001b[49m\u001b[43m(\u001b[49m\n\u001b[1;32m   1847\u001b[0m \u001b[43m        \u001b[49m\u001b[43mdialect\u001b[49m\u001b[43m,\u001b[49m\u001b[43m \u001b[49m\u001b[43mcontext\u001b[49m\u001b[43m,\u001b[49m\u001b[43m \u001b[49m\u001b[43mstatement\u001b[49m\u001b[43m,\u001b[49m\u001b[43m \u001b[49m\u001b[43mparameters\u001b[49m\n\u001b[1;32m   1848\u001b[0m \u001b[43m    \u001b[49m\u001b[43m)\u001b[49m\n",
      "File \u001b[0;32m~/Library/jupyterlab-desktop/jlab_server/lib/python3.8/site-packages/sqlalchemy/engine/base.py:1986\u001b[0m, in \u001b[0;36mConnection._exec_single_context\u001b[0;34m(self, dialect, context, statement, parameters)\u001b[0m\n\u001b[1;32m   1985\u001b[0m \u001b[38;5;28;01mexcept\u001b[39;00m \u001b[38;5;167;01mBaseException\u001b[39;00m \u001b[38;5;28;01mas\u001b[39;00m e:\n\u001b[0;32m-> 1986\u001b[0m     \u001b[38;5;28;43mself\u001b[39;49m\u001b[38;5;241;43m.\u001b[39;49m\u001b[43m_handle_dbapi_exception\u001b[49m\u001b[43m(\u001b[49m\n\u001b[1;32m   1987\u001b[0m \u001b[43m        \u001b[49m\u001b[43me\u001b[49m\u001b[43m,\u001b[49m\u001b[43m \u001b[49m\u001b[43mstr_statement\u001b[49m\u001b[43m,\u001b[49m\u001b[43m \u001b[49m\u001b[43meffective_parameters\u001b[49m\u001b[43m,\u001b[49m\u001b[43m \u001b[49m\u001b[43mcursor\u001b[49m\u001b[43m,\u001b[49m\u001b[43m \u001b[49m\u001b[43mcontext\u001b[49m\n\u001b[1;32m   1988\u001b[0m \u001b[43m    \u001b[49m\u001b[43m)\u001b[49m\n\u001b[1;32m   1990\u001b[0m \u001b[38;5;28;01mreturn\u001b[39;00m result\n",
      "File \u001b[0;32m~/Library/jupyterlab-desktop/jlab_server/lib/python3.8/site-packages/sqlalchemy/engine/base.py:2353\u001b[0m, in \u001b[0;36mConnection._handle_dbapi_exception\u001b[0;34m(self, e, statement, parameters, cursor, context, is_sub_exec)\u001b[0m\n\u001b[1;32m   2352\u001b[0m     \u001b[38;5;28;01massert\u001b[39;00m sqlalchemy_exception \u001b[38;5;129;01mis\u001b[39;00m \u001b[38;5;129;01mnot\u001b[39;00m \u001b[38;5;28;01mNone\u001b[39;00m\n\u001b[0;32m-> 2353\u001b[0m     \u001b[38;5;28;01mraise\u001b[39;00m sqlalchemy_exception\u001b[38;5;241m.\u001b[39mwith_traceback(exc_info[\u001b[38;5;241m2\u001b[39m]) \u001b[38;5;28;01mfrom\u001b[39;00m \u001b[38;5;21;01me\u001b[39;00m\n\u001b[1;32m   2354\u001b[0m \u001b[38;5;28;01melse\u001b[39;00m:\n",
      "File \u001b[0;32m~/Library/jupyterlab-desktop/jlab_server/lib/python3.8/site-packages/sqlalchemy/engine/base.py:1967\u001b[0m, in \u001b[0;36mConnection._exec_single_context\u001b[0;34m(self, dialect, context, statement, parameters)\u001b[0m\n\u001b[1;32m   1966\u001b[0m     \u001b[38;5;28;01mif\u001b[39;00m \u001b[38;5;129;01mnot\u001b[39;00m evt_handled:\n\u001b[0;32m-> 1967\u001b[0m         \u001b[38;5;28;43mself\u001b[39;49m\u001b[38;5;241;43m.\u001b[39;49m\u001b[43mdialect\u001b[49m\u001b[38;5;241;43m.\u001b[39;49m\u001b[43mdo_execute\u001b[49m\u001b[43m(\u001b[49m\n\u001b[1;32m   1968\u001b[0m \u001b[43m            \u001b[49m\u001b[43mcursor\u001b[49m\u001b[43m,\u001b[49m\u001b[43m \u001b[49m\u001b[43mstr_statement\u001b[49m\u001b[43m,\u001b[49m\u001b[43m \u001b[49m\u001b[43meffective_parameters\u001b[49m\u001b[43m,\u001b[49m\u001b[43m \u001b[49m\u001b[43mcontext\u001b[49m\n\u001b[1;32m   1969\u001b[0m \u001b[43m        \u001b[49m\u001b[43m)\u001b[49m\n\u001b[1;32m   1971\u001b[0m \u001b[38;5;28;01mif\u001b[39;00m \u001b[38;5;28mself\u001b[39m\u001b[38;5;241m.\u001b[39m_has_events \u001b[38;5;129;01mor\u001b[39;00m \u001b[38;5;28mself\u001b[39m\u001b[38;5;241m.\u001b[39mengine\u001b[38;5;241m.\u001b[39m_has_events:\n",
      "File \u001b[0;32m~/Library/jupyterlab-desktop/jlab_server/lib/python3.8/site-packages/sqlalchemy/engine/default.py:924\u001b[0m, in \u001b[0;36mDefaultDialect.do_execute\u001b[0;34m(self, cursor, statement, parameters, context)\u001b[0m\n\u001b[1;32m    923\u001b[0m \u001b[38;5;28;01mdef\u001b[39;00m \u001b[38;5;21mdo_execute\u001b[39m(\u001b[38;5;28mself\u001b[39m, cursor, statement, parameters, context\u001b[38;5;241m=\u001b[39m\u001b[38;5;28;01mNone\u001b[39;00m):\n\u001b[0;32m--> 924\u001b[0m     \u001b[43mcursor\u001b[49m\u001b[38;5;241;43m.\u001b[39;49m\u001b[43mexecute\u001b[49m\u001b[43m(\u001b[49m\u001b[43mstatement\u001b[49m\u001b[43m,\u001b[49m\u001b[43m \u001b[49m\u001b[43mparameters\u001b[49m\u001b[43m)\u001b[49m\n",
      "\u001b[0;31mOperationalError\u001b[0m: (sqlite3.OperationalError) database or disk is full\n[SQL: SELECT city, COUNT(DISTINCT garment_facts.sale_id)\nFROM garment_facts\n    JOIN sale_dim\n    JOIN customer_dim\nGROUP BY city]\n(Background on this error at: https://sqlalche.me/e/20/e3q8)",
      "\nThe above exception was the direct cause of the following exception:\n",
      "\u001b[0;31mUsageError\u001b[0m                                Traceback (most recent call last)",
      "File \u001b[0;32m~/Library/jupyterlab-desktop/jlab_server/lib/python3.8/site-packages/ploomber_core/telemetry/telemetry.py:696\u001b[0m, in \u001b[0;36mTelemetry.log_call.<locals>._log_call.<locals>.wrapper\u001b[0;34m(*args, **kwargs)\u001b[0m\n\u001b[1;32m    695\u001b[0m     injected_args\u001b[38;5;241m.\u001b[39minsert(\u001b[38;5;241m1\u001b[39m, _payload)\n\u001b[0;32m--> 696\u001b[0m     result \u001b[38;5;241m=\u001b[39m \u001b[43mfunc\u001b[49m\u001b[43m(\u001b[49m\u001b[38;5;241;43m*\u001b[39;49m\u001b[43minjected_args\u001b[49m\u001b[43m,\u001b[49m\u001b[43m \u001b[49m\u001b[38;5;241;43m*\u001b[39;49m\u001b[38;5;241;43m*\u001b[39;49m\u001b[43mkwargs\u001b[49m\u001b[43m)\u001b[49m\n\u001b[1;32m    697\u001b[0m \u001b[38;5;28;01melse\u001b[39;00m:\n",
      "File \u001b[0;32m~/Library/jupyterlab-desktop/jlab_server/lib/python3.8/site-packages/ploomber_core/exceptions.py:128\u001b[0m, in \u001b[0;36mmodify_exceptions.<locals>.wrapper\u001b[0;34m(*args, **kwargs)\u001b[0m\n\u001b[1;32m    127\u001b[0m \u001b[38;5;28;01mtry\u001b[39;00m:\n\u001b[0;32m--> 128\u001b[0m     \u001b[38;5;28;01mreturn\u001b[39;00m \u001b[43mfn\u001b[49m\u001b[43m(\u001b[49m\u001b[38;5;241;43m*\u001b[39;49m\u001b[43margs\u001b[49m\u001b[43m,\u001b[49m\u001b[43m \u001b[49m\u001b[38;5;241;43m*\u001b[39;49m\u001b[38;5;241;43m*\u001b[39;49m\u001b[43mkwargs\u001b[49m\u001b[43m)\u001b[49m\n\u001b[1;32m    129\u001b[0m \u001b[38;5;28;01mexcept\u001b[39;00m (\u001b[38;5;167;01mValueError\u001b[39;00m, \u001b[38;5;167;01mTypeError\u001b[39;00m) \u001b[38;5;28;01mas\u001b[39;00m e:\n",
      "File \u001b[0;32m~/Library/jupyterlab-desktop/jlab_server/lib/python3.8/site-packages/sql/magic.py:625\u001b[0m, in \u001b[0;36mSqlMagic._execute\u001b[0;34m(self, payload, line, cell, local_ns, is_interactive_mode)\u001b[0m\n\u001b[1;32m    617\u001b[0m \u001b[38;5;28;01mexcept\u001b[39;00m (\n\u001b[1;32m    618\u001b[0m     ProgrammingError,\n\u001b[1;32m    619\u001b[0m     OperationalError,\n\u001b[0;32m   (...)\u001b[0m\n\u001b[1;32m    623\u001b[0m ) \u001b[38;5;28;01mas\u001b[39;00m e:\n\u001b[1;32m    624\u001b[0m     \u001b[38;5;66;03m# Sqlite apparently return all errors as OperationalError :/\u001b[39;00m\n\u001b[0;32m--> 625\u001b[0m     \u001b[43mhandle_exception\u001b[49m\u001b[43m(\u001b[49m\u001b[43me\u001b[49m\u001b[43m,\u001b[49m\u001b[43m \u001b[49m\u001b[43mcommand\u001b[49m\u001b[38;5;241;43m.\u001b[39;49m\u001b[43msql\u001b[49m\u001b[43m,\u001b[49m\u001b[43m \u001b[49m\u001b[38;5;28;43mself\u001b[39;49m\u001b[38;5;241;43m.\u001b[39;49m\u001b[43mshort_errors\u001b[49m\u001b[43m)\u001b[49m\n\u001b[1;32m    626\u001b[0m \u001b[38;5;28;01mexcept\u001b[39;00m \u001b[38;5;167;01mException\u001b[39;00m \u001b[38;5;28;01mas\u001b[39;00m e:\n\u001b[1;32m    627\u001b[0m     \u001b[38;5;66;03m# Handle non SQLAlchemy errors\u001b[39;00m\n",
      "File \u001b[0;32m~/Library/jupyterlab-desktop/jlab_server/lib/python3.8/site-packages/sql/error_handler.py:111\u001b[0m, in \u001b[0;36mhandle_exception\u001b[0;34m(error, query, short_error)\u001b[0m\n\u001b[1;32m    110\u001b[0m \u001b[38;5;28;01mif\u001b[39;00m short_error:\n\u001b[0;32m--> 111\u001b[0m     \u001b[43m_raise_error\u001b[49m\u001b[43m(\u001b[49m\u001b[43merror\u001b[49m\u001b[43m,\u001b[49m\u001b[43m \u001b[49m\u001b[43mdetailed_message\u001b[49m\u001b[43m,\u001b[49m\u001b[43m \u001b[49m\u001b[43merror_type\u001b[49m\u001b[43m)\u001b[49m\n\u001b[1;32m    112\u001b[0m \u001b[38;5;28;01melse\u001b[39;00m:\n",
      "File \u001b[0;32m~/Library/jupyterlab-desktop/jlab_server/lib/python3.8/site-packages/sql/error_handler.py:100\u001b[0m, in \u001b[0;36m_raise_error\u001b[0;34m(error, message, error_type)\u001b[0m\n\u001b[1;32m     99\u001b[0m \u001b[38;5;28;01melse\u001b[39;00m:\n\u001b[0;32m--> 100\u001b[0m     \u001b[38;5;28;01mraise\u001b[39;00m \u001b[38;5;167;01mRuntimeError\u001b[39;00m(\u001b[38;5;28mstr\u001b[39m(error)) \u001b[38;5;28;01mfrom\u001b[39;00m \u001b[38;5;21;01merror\u001b[39;00m\n",
      "\u001b[0;31mUsageError\u001b[0m: (sqlite3.OperationalError) database or disk is full\n[SQL: SELECT city, COUNT(DISTINCT garment_facts.sale_id)\nFROM garment_facts\n    JOIN sale_dim\n    JOIN customer_dim\nGROUP BY city]\n(Background on this error at: https://sqlalche.me/e/20/e3q8)\nIf you need help solving this issue, send us a message: https://ploomber.io/community",
      "\nDuring handling of the above exception, another exception occurred:\n",
      "\u001b[0;31mOSError\u001b[0m                                   Traceback (most recent call last)",
      "Cell \u001b[0;32mIn[12], line 1\u001b[0m\n\u001b[0;32m----> 1\u001b[0m \u001b[43mget_ipython\u001b[49m\u001b[43m(\u001b[49m\u001b[43m)\u001b[49m\u001b[38;5;241;43m.\u001b[39;49m\u001b[43mrun_cell_magic\u001b[49m\u001b[43m(\u001b[49m\u001b[38;5;124;43m'\u001b[39;49m\u001b[38;5;124;43msql\u001b[39;49m\u001b[38;5;124;43m'\u001b[39;49m\u001b[43m,\u001b[49m\u001b[43m \u001b[49m\u001b[38;5;124;43m'\u001b[39;49m\u001b[38;5;124;43m'\u001b[39;49m\u001b[43m,\u001b[49m\u001b[43m \u001b[49m\u001b[38;5;124;43m'\u001b[39;49m\u001b[38;5;124;43mSELECT city, COUNT(DISTINCT garment_facts.sale_id)\u001b[39;49m\u001b[38;5;130;43;01m\\n\u001b[39;49;00m\u001b[38;5;124;43mFROM garment_facts\u001b[39;49m\u001b[38;5;130;43;01m\\n\u001b[39;49;00m\u001b[38;5;124;43m    JOIN sale_dim\u001b[39;49m\u001b[38;5;130;43;01m\\n\u001b[39;49;00m\u001b[38;5;124;43m    JOIN customer_dim\u001b[39;49m\u001b[38;5;130;43;01m\\n\u001b[39;49;00m\u001b[38;5;124;43mGROUP BY city\u001b[39;49m\u001b[38;5;130;43;01m\\n\u001b[39;49;00m\u001b[38;5;124;43m'\u001b[39;49m\u001b[43m)\u001b[49m\n",
      "File \u001b[0;32m~/Library/jupyterlab-desktop/jlab_server/lib/python3.8/site-packages/IPython/core/interactiveshell.py:2417\u001b[0m, in \u001b[0;36mInteractiveShell.run_cell_magic\u001b[0;34m(self, magic_name, line, cell)\u001b[0m\n\u001b[1;32m   2415\u001b[0m \u001b[38;5;28;01mwith\u001b[39;00m \u001b[38;5;28mself\u001b[39m\u001b[38;5;241m.\u001b[39mbuiltin_trap:\n\u001b[1;32m   2416\u001b[0m     args \u001b[38;5;241m=\u001b[39m (magic_arg_s, cell)\n\u001b[0;32m-> 2417\u001b[0m     result \u001b[38;5;241m=\u001b[39m \u001b[43mfn\u001b[49m\u001b[43m(\u001b[49m\u001b[38;5;241;43m*\u001b[39;49m\u001b[43margs\u001b[49m\u001b[43m,\u001b[49m\u001b[43m \u001b[49m\u001b[38;5;241;43m*\u001b[39;49m\u001b[38;5;241;43m*\u001b[39;49m\u001b[43mkwargs\u001b[49m\u001b[43m)\u001b[49m\n\u001b[1;32m   2418\u001b[0m \u001b[38;5;28;01mreturn\u001b[39;00m result\n",
      "File \u001b[0;32m~/Library/jupyterlab-desktop/jlab_server/lib/python3.8/site-packages/sql/magic.py:369\u001b[0m, in \u001b[0;36mSqlMagic.execute\u001b[0;34m(self, line, cell, local_ns)\u001b[0m\n\u001b[1;32m    261\u001b[0m \u001b[38;5;129m@no_var_expand\u001b[39m\n\u001b[1;32m    262\u001b[0m \u001b[38;5;129m@needs_local_scope\u001b[39m\n\u001b[1;32m    263\u001b[0m \u001b[38;5;129m@line_magic\u001b[39m(\u001b[38;5;124m\"\u001b[39m\u001b[38;5;124msql\u001b[39m\u001b[38;5;124m\"\u001b[39m)\n\u001b[0;32m   (...)\u001b[0m\n\u001b[1;32m    341\u001b[0m )\n\u001b[1;32m    342\u001b[0m \u001b[38;5;28;01mdef\u001b[39;00m \u001b[38;5;21mexecute\u001b[39m(\u001b[38;5;28mself\u001b[39m, line\u001b[38;5;241m=\u001b[39m\u001b[38;5;124m\"\u001b[39m\u001b[38;5;124m\"\u001b[39m, cell\u001b[38;5;241m=\u001b[39m\u001b[38;5;124m\"\u001b[39m\u001b[38;5;124m\"\u001b[39m, local_ns\u001b[38;5;241m=\u001b[39m\u001b[38;5;28;01mNone\u001b[39;00m):\n\u001b[1;32m    343\u001b[0m     \u001b[38;5;124;03m\"\"\"\u001b[39;00m\n\u001b[1;32m    344\u001b[0m \u001b[38;5;124;03m    Runs SQL statement against a database, specified by\u001b[39;00m\n\u001b[1;32m    345\u001b[0m \u001b[38;5;124;03m    SQLAlchemy connect string.\u001b[39;00m\n\u001b[0;32m   (...)\u001b[0m\n\u001b[1;32m    367\u001b[0m \n\u001b[1;32m    368\u001b[0m \u001b[38;5;124;03m    \"\"\"\u001b[39;00m\n\u001b[0;32m--> 369\u001b[0m     \u001b[38;5;28;01mreturn\u001b[39;00m \u001b[38;5;28;43mself\u001b[39;49m\u001b[38;5;241;43m.\u001b[39;49m\u001b[43m_execute\u001b[49m\u001b[43m(\u001b[49m\n\u001b[1;32m    370\u001b[0m \u001b[43m        \u001b[49m\u001b[43mline\u001b[49m\u001b[38;5;241;43m=\u001b[39;49m\u001b[43mline\u001b[49m\u001b[43m,\u001b[49m\u001b[43m \u001b[49m\u001b[43mcell\u001b[49m\u001b[38;5;241;43m=\u001b[39;49m\u001b[43mcell\u001b[49m\u001b[43m,\u001b[49m\u001b[43m \u001b[49m\u001b[43mlocal_ns\u001b[49m\u001b[38;5;241;43m=\u001b[39;49m\u001b[43mlocal_ns\u001b[49m\u001b[43m,\u001b[49m\u001b[43m \u001b[49m\u001b[43mis_interactive_mode\u001b[49m\u001b[38;5;241;43m=\u001b[39;49m\u001b[38;5;28;43;01mFalse\u001b[39;49;00m\n\u001b[1;32m    371\u001b[0m \u001b[43m    \u001b[49m\u001b[43m)\u001b[49m\n",
      "File \u001b[0;32m~/Library/jupyterlab-desktop/jlab_server/lib/python3.8/site-packages/ploomber_core/telemetry/telemetry.py:719\u001b[0m, in \u001b[0;36mTelemetry.log_call.<locals>._log_call.<locals>.wrapper\u001b[0;34m(*args, **kwargs)\u001b[0m\n\u001b[1;32m    713\u001b[0m     error \u001b[38;5;241m=\u001b[39m \u001b[38;5;28mdict\u001b[39m(\n\u001b[1;32m    714\u001b[0m         action\u001b[38;5;241m=\u001b[39m\u001b[38;5;124mf\u001b[39m\u001b[38;5;124m\"\u001b[39m\u001b[38;5;132;01m{\u001b[39;00maction_\u001b[38;5;132;01m}\u001b[39;00m\u001b[38;5;124m-error\u001b[39m\u001b[38;5;124m\"\u001b[39m,\n\u001b[1;32m    715\u001b[0m         total_runtime\u001b[38;5;241m=\u001b[39m\u001b[38;5;28mstr\u001b[39m(datetime\u001b[38;5;241m.\u001b[39mdatetime\u001b[38;5;241m.\u001b[39mnow() \u001b[38;5;241m-\u001b[39m start),\n\u001b[1;32m    716\u001b[0m         metadata\u001b[38;5;241m=\u001b[39mmetadata_error,\n\u001b[1;32m    717\u001b[0m     )\n\u001b[1;32m    718\u001b[0m     func\u001b[38;5;241m.\u001b[39m_telemetry_error \u001b[38;5;241m=\u001b[39m error\n\u001b[0;32m--> 719\u001b[0m     \u001b[38;5;28;43mself\u001b[39;49m\u001b[38;5;241;43m.\u001b[39;49m\u001b[43mlog_api\u001b[49m\u001b[43m(\u001b[49m\u001b[38;5;241;43m*\u001b[39;49m\u001b[38;5;241;43m*\u001b[39;49m\u001b[43merror\u001b[49m\u001b[43m)\u001b[49m\n\u001b[1;32m    720\u001b[0m     \u001b[38;5;28;01mraise\u001b[39;00m\n\u001b[1;32m    721\u001b[0m \u001b[38;5;28;01melse\u001b[39;00m:\n",
      "File \u001b[0;32m~/Library/jupyterlab-desktop/jlab_server/lib/python3.8/site-packages/ploomber_core/telemetry/telemetry.py:451\u001b[0m, in \u001b[0;36mTelemetry.log_api\u001b[0;34m(self, action, client_time, total_runtime, metadata)\u001b[0m\n\u001b[1;32m    448\u001b[0m \u001b[38;5;28;01mif\u001b[39;00m client_time \u001b[38;5;129;01mis\u001b[39;00m \u001b[38;5;28;01mNone\u001b[39;00m:\n\u001b[1;32m    449\u001b[0m     client_time \u001b[38;5;241m=\u001b[39m datetime\u001b[38;5;241m.\u001b[39mdatetime\u001b[38;5;241m.\u001b[39mnow()\n\u001b[0;32m--> 451\u001b[0m (telemetry_enabled, uid, is_install) \u001b[38;5;241m=\u001b[39m \u001b[43m_get_telemetry_info\u001b[49m\u001b[43m(\u001b[49m\u001b[43m)\u001b[49m\n\u001b[1;32m    453\u001b[0m \u001b[38;5;66;03m# Check latest version\u001b[39;00m\n\u001b[1;32m    454\u001b[0m check_version(\u001b[38;5;28mself\u001b[39m\u001b[38;5;241m.\u001b[39mpackage_name, \u001b[38;5;28mself\u001b[39m\u001b[38;5;241m.\u001b[39mversion)\n",
      "File \u001b[0;32m~/Library/jupyterlab-desktop/jlab_server/lib/python3.8/site-packages/ploomber_core/telemetry/telemetry.py:345\u001b[0m, in \u001b[0;36m_get_telemetry_info\u001b[0;34m()\u001b[0m\n\u001b[1;32m    339\u001b[0m \u001b[38;5;124;03m\"\"\"\u001b[39;00m\n\u001b[1;32m    340\u001b[0m \u001b[38;5;124;03mThe function checks for the local config and uid files, returns the right\u001b[39;00m\n\u001b[1;32m    341\u001b[0m \u001b[38;5;124;03mvalues according to the config file (True/False). In addition it checks\u001b[39;00m\n\u001b[1;32m    342\u001b[0m \u001b[38;5;124;03mfor first time installation.\u001b[39;00m\n\u001b[1;32m    343\u001b[0m \u001b[38;5;124;03m\"\"\"\u001b[39;00m\n\u001b[1;32m    344\u001b[0m \u001b[38;5;66;03m# Check if telemetry is enabled, if not skip, else check for uid\u001b[39;00m\n\u001b[0;32m--> 345\u001b[0m telemetry_enabled \u001b[38;5;241m=\u001b[39m \u001b[43mcheck_telemetry_enabled\u001b[49m\u001b[43m(\u001b[49m\u001b[43m)\u001b[49m\n\u001b[1;32m    347\u001b[0m \u001b[38;5;28;01mif\u001b[39;00m telemetry_enabled:\n\u001b[1;32m    348\u001b[0m     \u001b[38;5;66;03m# Check first time install\u001b[39;00m\n\u001b[1;32m    349\u001b[0m     is_install \u001b[38;5;241m=\u001b[39m check_first_time_usage()\n",
      "File \u001b[0;32m~/Library/jupyterlab-desktop/jlab_server/lib/python3.8/site-packages/ploomber_core/telemetry/telemetry.py:206\u001b[0m, in \u001b[0;36mcheck_telemetry_enabled\u001b[0;34m()\u001b[0m\n\u001b[1;32m    203\u001b[0m \u001b[38;5;28;01mif\u001b[39;00m \u001b[38;5;124m\"\u001b[39m\u001b[38;5;124mPLOOMBER_STATS_ENABLED\u001b[39m\u001b[38;5;124m\"\u001b[39m \u001b[38;5;129;01min\u001b[39;00m os\u001b[38;5;241m.\u001b[39menviron:\n\u001b[1;32m    204\u001b[0m     \u001b[38;5;28;01mreturn\u001b[39;00m os\u001b[38;5;241m.\u001b[39menviron[\u001b[38;5;124m\"\u001b[39m\u001b[38;5;124mPLOOMBER_STATS_ENABLED\u001b[39m\u001b[38;5;124m\"\u001b[39m]\u001b[38;5;241m.\u001b[39mlower() \u001b[38;5;241m==\u001b[39m \u001b[38;5;124m\"\u001b[39m\u001b[38;5;124mtrue\u001b[39m\u001b[38;5;124m\"\u001b[39m\n\u001b[0;32m--> 206\u001b[0m settings \u001b[38;5;241m=\u001b[39m \u001b[43mUserSettings\u001b[49m\u001b[43m(\u001b[49m\u001b[43m)\u001b[49m\n\u001b[1;32m    207\u001b[0m \u001b[38;5;28;01mreturn\u001b[39;00m settings\u001b[38;5;241m.\u001b[39mstats_enabled\n",
      "File \u001b[0;32m~/Library/jupyterlab-desktop/jlab_server/lib/python3.8/site-packages/ploomber_core/config.py:32\u001b[0m, in \u001b[0;36mConfig.__init__\u001b[0;34m(self)\u001b[0m\n\u001b[1;32m     30\u001b[0m \u001b[38;5;28;01mdef\u001b[39;00m \u001b[38;5;21m__init__\u001b[39m(\u001b[38;5;28mself\u001b[39m):\n\u001b[1;32m     31\u001b[0m     \u001b[38;5;28mself\u001b[39m\u001b[38;5;241m.\u001b[39m_write_attr_changes \u001b[38;5;241m=\u001b[39m \u001b[38;5;28;01mTrue\u001b[39;00m\n\u001b[0;32m---> 32\u001b[0m     \u001b[38;5;28mself\u001b[39m\u001b[38;5;241m.\u001b[39m_writable_filesystem \u001b[38;5;241m=\u001b[39m \u001b[38;5;28;43mself\u001b[39;49m\u001b[38;5;241;43m.\u001b[39;49m\u001b[43m_filesystem_writable\u001b[49m\u001b[43m(\u001b[49m\u001b[43m)\u001b[49m\n\u001b[1;32m     33\u001b[0m     \u001b[38;5;28mself\u001b[39m\u001b[38;5;241m.\u001b[39m_init_values()\n\u001b[1;32m     35\u001b[0m     \u001b[38;5;66;03m# resolve home directory\u001b[39;00m\n",
      "File \u001b[0;32m~/Library/jupyterlab-desktop/jlab_server/lib/python3.8/site-packages/ploomber_core/config.py:174\u001b[0m, in \u001b[0;36mConfig._filesystem_writable\u001b[0;34m(self)\u001b[0m\n\u001b[1;32m    172\u001b[0m \u001b[38;5;66;03m# Checking whether we can create a file (most probably redundant)\u001b[39;00m\n\u001b[1;32m    173\u001b[0m \u001b[38;5;28;01mtry\u001b[39;00m:\n\u001b[0;32m--> 174\u001b[0m     \u001b[43mtmp\u001b[49m\u001b[38;5;241;43m.\u001b[39;49m\u001b[43mtouch\u001b[49m\u001b[43m(\u001b[49m\u001b[43m)\u001b[49m\n\u001b[1;32m    175\u001b[0m \u001b[38;5;28;01mexcept\u001b[39;00m \u001b[38;5;167;01mPermissionError\u001b[39;00m:\n\u001b[1;32m    176\u001b[0m     \u001b[38;5;28;01mreturn\u001b[39;00m \u001b[38;5;28;01mFalse\u001b[39;00m\n",
      "File \u001b[0;32m~/Library/jupyterlab-desktop/jlab_server/lib/python3.8/pathlib.py:1278\u001b[0m, in \u001b[0;36mPath.touch\u001b[0;34m(self, mode, exist_ok)\u001b[0m\n\u001b[1;32m   1276\u001b[0m \u001b[38;5;28;01mif\u001b[39;00m \u001b[38;5;129;01mnot\u001b[39;00m exist_ok:\n\u001b[1;32m   1277\u001b[0m     flags \u001b[38;5;241m|\u001b[39m\u001b[38;5;241m=\u001b[39m os\u001b[38;5;241m.\u001b[39mO_EXCL\n\u001b[0;32m-> 1278\u001b[0m fd \u001b[38;5;241m=\u001b[39m \u001b[38;5;28;43mself\u001b[39;49m\u001b[38;5;241;43m.\u001b[39;49m\u001b[43m_raw_open\u001b[49m\u001b[43m(\u001b[49m\u001b[43mflags\u001b[49m\u001b[43m,\u001b[49m\u001b[43m \u001b[49m\u001b[43mmode\u001b[49m\u001b[43m)\u001b[49m\n\u001b[1;32m   1279\u001b[0m os\u001b[38;5;241m.\u001b[39mclose(fd)\n",
      "File \u001b[0;32m~/Library/jupyterlab-desktop/jlab_server/lib/python3.8/pathlib.py:1087\u001b[0m, in \u001b[0;36mPath._raw_open\u001b[0;34m(self, flags, mode)\u001b[0m\n\u001b[1;32m   1085\u001b[0m \u001b[38;5;28;01mif\u001b[39;00m \u001b[38;5;28mself\u001b[39m\u001b[38;5;241m.\u001b[39m_closed:\n\u001b[1;32m   1086\u001b[0m     \u001b[38;5;28mself\u001b[39m\u001b[38;5;241m.\u001b[39m_raise_closed()\n\u001b[0;32m-> 1087\u001b[0m \u001b[38;5;28;01mreturn\u001b[39;00m \u001b[38;5;28;43mself\u001b[39;49m\u001b[38;5;241;43m.\u001b[39;49m\u001b[43m_accessor\u001b[49m\u001b[38;5;241;43m.\u001b[39;49m\u001b[43mopen\u001b[49m\u001b[43m(\u001b[49m\u001b[38;5;28;43mself\u001b[39;49m\u001b[43m,\u001b[49m\u001b[43m \u001b[49m\u001b[43mflags\u001b[49m\u001b[43m,\u001b[49m\u001b[43m \u001b[49m\u001b[43mmode\u001b[49m\u001b[43m)\u001b[49m\n",
      "\u001b[0;31mOSError\u001b[0m: [Errno 28] No space left on device: '/Users/christopherhuntley/.ploomber/stats/tmp_YGYA5NG8BD.txt'"
     ]
    }
   ],
   "source": [
    "%%sql\n",
    "SELECT city, COUNT(DISTINCT garment_facts.sale_id)\n",
    "FROM garment_facts\n",
    "    JOIN sale_dim\n",
    "    JOIN customer_dim\n",
    "GROUP BY city"
   ]
  },
  {
   "cell_type": "markdown",
   "metadata": {
    "id": "Rg26yRqFJzLG"
   },
   "source": [
    "**Which city had the highest total sales in 2012?** "
   ]
  },
  {
   "cell_type": "code",
   "execution_count": null,
   "metadata": {
    "id": "A7erl3jPKTbv"
   },
   "outputs": [],
   "source": [
    "%%sql\n",
    "SELECT city, SUM(sale_dim.amount)\n",
    "FROM garment_facts\n",
    "    LEFT JOIN sale_dim\n",
    "    LEFT JOIN customer_dim\n",
    "GROUP BY city"
   ]
  },
  {
   "cell_type": "markdown",
   "metadata": {
    "id": "A3TxdsDIKUAA"
   },
   "source": [
    "**Which 10 brands were the most commonly cleaned?**"
   ]
  },
  {
   "cell_type": "code",
   "execution_count": null,
   "metadata": {
    "id": "O7BLOLi8KnXD"
   },
   "outputs": [],
   "source": [
    "%%sql\n"
   ]
  },
  {
   "cell_type": "markdown",
   "metadata": {
    "id": "RcNDdCtsKn2j"
   },
   "source": [
    "**How many 'RALPH LAUREN' garments were cleaned in each year?** "
   ]
  },
  {
   "cell_type": "code",
   "execution_count": null,
   "metadata": {
    "id": "XEPT51-RK9Jt"
   },
   "outputs": [],
   "source": [
    "%%sql\n"
   ]
  },
  {
   "cell_type": "markdown",
   "metadata": {
    "id": "h-m8gugkK9ll"
   },
   "source": [
    "**How popular was `RALPH LAUREN` in each town in 2012?**"
   ]
  },
  {
   "cell_type": "code",
   "execution_count": null,
   "metadata": {
    "id": "awAvnT29LEuO"
   },
   "outputs": [],
   "source": [
    "%%sql\n"
   ]
  },
  {
   "cell_type": "markdown",
   "metadata": {},
   "source": [
    "### Now some harder ones"
   ]
  },
  {
   "cell_type": "code",
   "execution_count": null,
   "metadata": {},
   "outputs": [],
   "source": []
  }
 ],
 "metadata": {
  "colab": {
   "authorship_tag": "ABX9TyOjbWo1Z1Cl2990aGrsoV/U",
   "collapsed_sections": [],
   "name": "HW9_Decade_Of_Laundry.ipynb",
   "provenance": [],
   "toc_visible": true
  },
  "kernelspec": {
   "display_name": "Python 3 (ipykernel)",
   "language": "python",
   "name": "python3"
  },
  "language_info": {
   "codemirror_mode": {
    "name": "ipython",
    "version": 3
   },
   "file_extension": ".py",
   "mimetype": "text/x-python",
   "name": "python",
   "nbconvert_exporter": "python",
   "pygments_lexer": "ipython3",
   "version": "3.8.15"
  }
 },
 "nbformat": 4,
 "nbformat_minor": 4
}
