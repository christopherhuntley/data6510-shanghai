{
 "cells": [
  {
   "cell_type": "markdown",
   "metadata": {
    "id": "G8wBPvEUzZ2e"
   },
   "source": [
    "<img src=\"https://github.com/christopherhuntley/BUAN6510/blob/master/img/Dolan.png?raw=true\" width=\"180px\" align=\"right\">\n",
    "\n",
    "# **DATA 6510**\n",
    "# **Homework 3: A Decade of Laundry Tags** \n",
    "_Building a Data Warehouse from Source Data._\n",
    "\n",
    "This assignment is part tutorial and part exercises. The data provided by the real company behind the DeluxCare example in Lesson 1. The company \"dry cleans\" (launders) expensive shirts, dresses, jackets, suits, etc. It has been around for decades and has about a dozen locations in southeastern Connecticut.\n",
    "\n",
    "In part 1 you will \"ride along\" as we will build the data warehouse from scratch using files provided by the company. For those of you that wanted to see how SQL DDL and DML works, this is your chance. &#128578; For everybody else, **do not skip this part;** it illustrates a few things that will almost certainly appear on Quiz 3 or Quiz 4.\n",
    "\n",
    "In part 2 you will explore the business (and perhaps a bit about upper-class Connecticut residents) by crafting a few analytical queries. "
   ]
  },
  {
   "cell_type": "markdown",
   "metadata": {},
   "source": [
    "## **Part 1. Build a data warehouse from scratch.**"
   ]
  },
  {
   "cell_type": "markdown",
   "metadata": {},
   "source": [
    "### Domain: Anatomy of a Sale\n",
    "\n",
    "Before any further it may be helpful to understand the process of executing one sale:\n",
    "\n",
    "1. The customer brings in a pile of garments in need of cleaning. This marks the start of a sale. If the customer is new, then the employee collects information about th customer. \n",
    "2. The employee sorts the garments by type (shirts, pants, dresses, suits, etc.) and scans each garment's \"garment tag\" (if there is one) to determine the brand and any special handling instructions. Items with the garment tag are grouped together. \n",
    "3. Each group of items from step 2 is given a service code and prepped for cleaning. \n",
    "4. The entire order (invoice) is priced according to service types, numbers of items, and special handling instructions. Each group (garment tag) appears as one line item on the invoice. \n",
    "5. The garments are cleaned as requested and prepped for pickup. \n",
    "6. The customer returns to pick up their clothes and pays their bill. The employee closes out the invoice, marking it as paid. \n",
    "\n",
    "Everything else about our data warehouse derive from this basic process description. It forms the _business language_ used to describe our data.  "
   ]
  },
  {
   "cell_type": "markdown",
   "metadata": {},
   "source": [
    "### Source Data \n",
    "\n",
    "The data comes to us from two sources:\n",
    "- [garment_tags.csv](./data/DeluxCare/HW9_garment_tags.csv), a moderately large CSV file with data from ~90000 scanned garment tags; each tag represents a bundle of items of the same customer, sale, type, brand, etc. as they appear in the master sales records kept by company management. \n",
    "- [service_types.csv](./data/DeluxCare/HW9_ServiceTypes.csv), a decription of the service codes used to describe how the garments were to be handled; the codes are used by the point of sale system (cash register) to price each line item on the invoice. \n"
   ]
  },
  {
   "cell_type": "markdown",
   "metadata": {},
   "source": [
    "### Data Warehouse Design\n",
    "\n",
    "The ERD below lays out our or data warehouse as a classic \"star schema\" design, with \n",
    "- `GarmentFacts` (fact table) in the middle \n",
    "- `Customer`, `Brand`, `Sale`, and `ServiceType` dimensions on the periphery"
   ]
  },
  {
   "cell_type": "markdown",
   "metadata": {
    "id": "YQq7eR2F2xh5"
   },
   "source": [
    "![HW9 ERD](./img/HW9_GarmentTags_DW.png)"
   ]
  },
  {
   "cell_type": "markdown",
   "metadata": {},
   "source": [
    "Remarks: \n",
    "- `ServiceType` is a _conforming_ dimension that is _applied_ by the point of sale system. The employee selects a service code (type) from a fixed list at the time of sale. In other words, the data collection is forced to \"conform\" to this pre-defined list of service codes. \n",
    "- `Brand` and `Customer` are said to be _slow moving_ dimensions. They are less static than the `ServiceType` but are updated only when needed (e.g., for a new customer or brand). \n",
    "- `Sale` is a _fast moving_ dimension, updated with each sale. It will almost as many rows as the `GarmentFacts` table. \n",
    "- The _granularity_ (see Lesson 7) of the `GarmentFacts` table is determined by the four dimensions. In other words, no matter how many rows our `GarmentFacts` table has, the maximum number of groups we can create with a `GROUP BY` is  \n",
    "**(Number of Customers) X (Number of Brands) x (Number of Sales) x (Number of Service Types)**. "
   ]
  },
  {
   "cell_type": "markdown",
   "metadata": {},
   "source": [
    "### Initializing the Database"
   ]
  },
  {
   "cell_type": "code",
   "execution_count": null,
   "metadata": {},
   "outputs": [],
   "source": [
    "# Load %%sql magic\n",
    "!pip install jupysql\n",
    "%load_ext sql\n",
    "%config SqlMagic.displaylimit = None\n",
    "\n",
    "# Standard Imports\n",
    "import sqlite3\n",
    "import pandas as pd\n",
    "\n",
    "# SQLite database connection\n",
    "%sql sqlite:///hw3.db"
   ]
  },
  {
   "cell_type": "markdown",
   "metadata": {},
   "source": [
    "### Extracting and Loading the Data from the Source Files into the Database"
   ]
  },
  {
   "cell_type": "code",
   "execution_count": null,
   "metadata": {},
   "outputs": [],
   "source": [
    "# extract from files\n",
    "garments_df = pd.read_csv(\"./data/DeluxCare/HW9_garment_tags.csv\",dtype={'Cust_Zip':'str'})\n",
    "service_types_df = pd.read_csv(\"./data/DeluxCare/HW9_ServiceTypes.csv\")\n",
    "\n",
    "\n",
    "# connect to database\n",
    "conn = sqlite3.connect('hw3.db')\n",
    "\n",
    "garments_df.to_sql(\"garment_tags_import\", conn, if_exists='replace')\n",
    "service_types_df.to_sql(\"service_types_import\", conn, if_exists='replace')\n",
    "\n",
    "garments_df.dtypes\n"
   ]
  },
  {
   "cell_type": "code",
   "execution_count": null,
   "metadata": {},
   "outputs": [],
   "source": [
    "%%sql \n",
    "SELECT * FROM garment_tags_import LIMIT 10;"
   ]
  },
  {
   "cell_type": "code",
   "execution_count": null,
   "metadata": {},
   "outputs": [],
   "source": [
    "%%sql \n",
    "SELECT * FROM service_types_import LIMIT 10;"
   ]
  },
  {
   "cell_type": "markdown",
   "metadata": {},
   "source": [
    "### Creating New DW Tables with SQL DDL"
   ]
  },
  {
   "cell_type": "markdown",
   "metadata": {},
   "source": [
    "SQL DDL is fairly easy to read, even without any formal training. A few things to look for: \n",
    "- Each table include either `facts` or `dim` in the name to indicate its purpose.\n",
    "- The `count` column was renamed to `item_count` to avoid a naming conflict with the `COUNT()` function.\n",
    "- In SQLite, an \"autoincrement\" surrogate key (called `rowid`) is silently generated for each table _unless_ `WITHOUT ROWID` is specified.\n",
    "- For data quality auditing (traceability), original source keys are kept whenever possible. \n",
    "- SQLite only supports five data types: INTEGER, TEXT, REAL, BLOB, NUMERIC.\n",
    "- Dates are stored as TEXT because SQLite does not have a Date data type. \n",
    "- Foreign keys are defined as both columns (`cust_id`) and constraints (`FOREIGN KEY cust_id REFERENCES ...`)\n",
    "- Since SQLite does not support `ALTER TABLE` statements, `DROP TABLE IF EXISTS` is used instead to re-create each table from scratch each time the script is run. This would not work if we were to import data incrementally over time, but since we are doing this just once, it's okay. \n",
    "- A benefit of using `DROP TABLE IF EXISTS` is that we can run the notebook from top to bottom whenever we want to re-create the database. "
   ]
  },
  {
   "cell_type": "code",
   "execution_count": null,
   "metadata": {},
   "outputs": [],
   "source": [
    "%%sql\n",
    "\n",
    "DROP TABLE IF EXISTS garment_facts;\n",
    "CREATE TABLE garment_facts (\n",
    "    garm_id INTEGER PRIMARY KEY,   -- an alias for the `rowid` surrogate key automatically created by SQLite\n",
    "    \n",
    "    -- FK columns \n",
    "    cust_id INTEGER not null,      -- fk to customer_dim\n",
    "    sale_id INTEGER not null,      -- fk to sale_dim\n",
    "    brand_id INTEGER,              -- fk to brand_dim; null --> no label\n",
    "    service_code INTEGER NOT NULL, -- fk to service_dim\n",
    "    \n",
    "    -- non-FK columns\n",
    "    item_count INTEGER,            -- number of items in the group\n",
    "    garm_id_src INTEGER,            -- garment id from original source data (used for auditing)\n",
    "    \n",
    "    -- FK constraints\n",
    "    FOREIGN KEY (cust_id) REFERENCES customer_dim (cust_id),\n",
    "    FOREIGN KEY (sale_id) REFERENCES sale_dim (sale_id),\n",
    "    FOREIGN KEY (brand_id) REFERENCES brand_dim (brand_id),\n",
    "    FOREIGN KEY (service_code) REFERENCES service_dim (service_code)\n",
    "    \n",
    ");\n",
    "\n",
    "DROP TABLE IF EXISTS customer_dim;\n",
    "CREATE TABLE customer_dim (\n",
    "    cust_id INTEGER PRIMARY KEY, -- pk provided by src\n",
    "    city TEXT,                   -- city name (may be null)\n",
    "    zip TEXT                     -- zipcode / postal region code (may be null)\n",
    ") WITHOUT ROWID;\n",
    "\n",
    "DROP TABLE IF EXISTS brand_dim;\n",
    "CREATE TABLE brand_dim (\n",
    "    brand_id INTEGER PRIMARY KEY, -- surrogate pk\n",
    "    label TEXT NOT NULL           -- maker / manufacturer / designer\n",
    ");\n",
    "\n",
    "DROP TABLE IF EXISTS sale_dim;\n",
    "CREATE TABLE sale_dim (\n",
    "    sale_id INTEGER PRIMARY KEY, -- surrogate pk\n",
    "    date TEXT NOT NULL,          -- date of sale as YY-MM-DD text string\n",
    "    amount REAL NOT NULL         -- sale amount in USD\n",
    ") WITHOUT ROWID;\n",
    "\n",
    "DROP TABLE IF EXISTS service_dim;\n",
    "CREATE TABLE service_dim (\n",
    "    service_code INTEGER PRIMARY KEY,   -- PK provided by conforming dimension source\n",
    "    description TEXT NOT NULL           -- human readable TEXT (English)\n",
    ") WITHOUT ROWID;"
   ]
  },
  {
   "cell_type": "markdown",
   "metadata": {},
   "source": [
    "### Populating the New DW Tables via SQL Transformations"
   ]
  },
  {
   "cell_type": "markdown",
   "metadata": {},
   "source": [
    "**Whenever possible, we try to load the dimension tables first, starting with any conformed dimensions before the slow moving dimensions. Why? Because they represent the strongest entities.**"
   ]
  },
  {
   "cell_type": "code",
   "execution_count": null,
   "metadata": {},
   "outputs": [],
   "source": [
    "%%sql\n",
    "INSERT INTO service_dim (service_code, description) \n",
    "    SELECT `Service Code`, `Description`\n",
    "    FROM service_types_import;\n",
    "SELECT * FROM service_dim LIMIT 10;"
   ]
  },
  {
   "cell_type": "code",
   "execution_count": null,
   "metadata": {},
   "outputs": [],
   "source": [
    "%%sql \n",
    "INSERT INTO customer_dim (cust_id, city, zip)\n",
    "    SELECT DISTINCT CUST_ID, CUST_CITY, CUST_ZIP\n",
    "    FROM garment_tags_import;\n",
    "SELECT * FROM customer_dim LIMIT 10;"
   ]
  },
  {
   "cell_type": "code",
   "execution_count": null,
   "metadata": {},
   "outputs": [],
   "source": [
    "%%sql\n",
    "INSERT INTO sale_dim (sale_id, date,amount)\n",
    "    SELECT DISTINCT SALE_ID, SALE_DATE, SALE_AMOUNT\n",
    "    FROM garment_tags_import;\n",
    "SELECT * FROM sale_dim LIMIT 10; "
   ]
  },
  {
   "cell_type": "code",
   "execution_count": null,
   "metadata": {},
   "outputs": [],
   "source": [
    "%%sql\n",
    "INSERT INTO brand_dim (label)\n",
    "    SELECT DISTINCT Garm_Brand\n",
    "    FROM garment_tags_import\n",
    "    WHERE Garm_Brand IS NOT NULL;\n",
    "SELECT * FROM brand_dim LIMIT 10;"
   ]
  },
  {
   "cell_type": "markdown",
   "metadata": {},
   "source": [
    "**Once we have the dimensions worked out we can load the fact table. In the code below we had to use a `LEFT JOIN` to match up the brands with the labels as specified in the `brand_dim` table. Why a `LEFT JOIN`? Because not every garment had a label.** "
   ]
  },
  {
   "cell_type": "code",
   "execution_count": null,
   "metadata": {},
   "outputs": [],
   "source": [
    "%%sql \n",
    "INSERT INTO garment_facts (cust_id, sale_id, brand_id, service_code, item_count, garm_id_src)\n",
    "    SELECT Cust_ID as cust_id,\n",
    "           Sale_ID as sale_id,\n",
    "           brand_id,\n",
    "           Garm_Type_ID as service_code,\n",
    "           Garm_Count as item_count,\n",
    "           Garm_ID as garm_id_src\n",
    "    FROM garment_tags_import\n",
    "            LEFT JOIN brand_dim ON (garment_tags_import.Garm_Brand = brand_dim.label);"
   ]
  },
  {
   "cell_type": "markdown",
   "metadata": {},
   "source": [
    "### Validating that everything worked"
   ]
  },
  {
   "cell_type": "code",
   "execution_count": null,
   "metadata": {},
   "outputs": [],
   "source": [
    "%%sql\n",
    "-- garment_facts should have the same number of rows as garment_tags_import\n",
    "SELECT \n",
    "    (SELECT count(*) FROM garment_facts) as fact_count,\n",
    "    (SELECT count(*) FROM garment_tags_import) as tag_count"
   ]
  },
  {
   "cell_type": "markdown",
   "metadata": {},
   "source": [
    "## **Part 2. Analytical Queries**"
   ]
  },
  {
   "cell_type": "markdown",
   "metadata": {
    "id": "5xF78J1JCiRd"
   },
   "source": [
    "**How many sales were made in each town?**"
   ]
  },
  {
   "cell_type": "code",
   "execution_count": null,
   "metadata": {
    "id": "U9CEzy74QZd8"
   },
   "outputs": [],
   "source": [
    "%%sql"
   ]
  },
  {
   "cell_type": "markdown",
   "metadata": {
    "id": "Rg26yRqFJzLG"
   },
   "source": [
    "**Which town had the highest total sales in 2012?** "
   ]
  },
  {
   "cell_type": "code",
   "execution_count": null,
   "metadata": {
    "id": "A7erl3jPKTbv"
   },
   "outputs": [],
   "source": [
    "%%sql"
   ]
  },
  {
   "cell_type": "markdown",
   "metadata": {
    "id": "A3TxdsDIKUAA"
   },
   "source": [
    "**Which 10 brands were the most common?**"
   ]
  },
  {
   "cell_type": "code",
   "execution_count": null,
   "metadata": {
    "id": "O7BLOLi8KnXD"
   },
   "outputs": [],
   "source": [
    "%%sql"
   ]
  },
  {
   "cell_type": "markdown",
   "metadata": {
    "id": "RcNDdCtsKn2j"
   },
   "source": [
    "**How many 'RALPH LAUREN' garments were cleaned in each year?** "
   ]
  },
  {
   "cell_type": "code",
   "execution_count": null,
   "metadata": {
    "id": "XEPT51-RK9Jt"
   },
   "outputs": [],
   "source": [
    "%%sql"
   ]
  },
  {
   "cell_type": "markdown",
   "metadata": {
    "id": "h-m8gugkK9ll"
   },
   "source": [
    "**How popular was `RALPH LAUREN` in each town in 2012?**"
   ]
  },
  {
   "cell_type": "code",
   "execution_count": null,
   "metadata": {
    "id": "awAvnT29LEuO"
   },
   "outputs": [],
   "source": [
    "%%sql"
   ]
  }
 ],
 "metadata": {
  "colab": {
   "authorship_tag": "ABX9TyOjbWo1Z1Cl2990aGrsoV/U",
   "collapsed_sections": [],
   "name": "HW9_Decade_Of_Laundry.ipynb",
   "provenance": [],
   "toc_visible": true
  },
  "kernelspec": {
   "display_name": "Python 3 (ipykernel)",
   "language": "python",
   "name": "python3"
  },
  "language_info": {
   "codemirror_mode": {
    "name": "ipython",
    "version": 3
   },
   "file_extension": ".py",
   "mimetype": "text/x-python",
   "name": "python",
   "nbconvert_exporter": "python",
   "pygments_lexer": "ipython3",
   "version": "3.8.15"
  }
 },
 "nbformat": 4,
 "nbformat_minor": 4
}
