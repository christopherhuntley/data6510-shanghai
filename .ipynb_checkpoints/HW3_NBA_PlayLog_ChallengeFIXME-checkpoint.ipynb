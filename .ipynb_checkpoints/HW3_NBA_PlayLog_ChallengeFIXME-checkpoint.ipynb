{
  "nbformat": 4,
  "nbformat_minor": 0,
  "metadata": {
    "colab": {
      "name": "HW4_NBA_PlayLog_Challenge.ipynb",
      "provenance": [],
      "collapsed_sections": [],
      "authorship_tag": "ABX9TyPUdpAfOGweOuOWFq/br5nV"
    },
    "kernelspec": {
      "name": "python3",
      "display_name": "Python 3"
    }
  },
  "cells": [
    {
      "cell_type": "markdown",
      "metadata": {
        "id": "G8wBPvEUzZ2e"
      },
      "source": [
        "<img src=\"https://github.com/christopherhuntley/DATA6510/blob/master/img/Dolan.png?raw=true\" width=\"180px\" align=\"right\">\n",
        "\n",
        "# **DATA 6510**\n",
        "# **Homework 4: The NBA PlayLog DB Challenge** \n",
        "_From ERD to Live Database._\n",
        "\n",
        "\n",
        "In this assignment you will build the NBA PlayLog database from just source data and an ERD. The source data is for two games, with some of the same players appearing in both games, just to be sure we can handle a full season of games."
      ]
    },
    {
      "cell_type": "markdown",
      "metadata": {
        "id": "YQq7eR2F2xh5"
      },
      "source": [
        "## **1. Study the ERD.**\n",
        "\n",
        "![NBA PlayLog ERD](https://github.com/christopherhuntley/DATA6510/raw/master/img/L9_NBA_PlayLog_ERD.png)\n",
        "\n",
        "\n",
        "\n"
      ]
    },
    {
      "cell_type": "markdown",
      "metadata": {
        "id": "-XfrR2Nx7HIx"
      },
      "source": [
        "## **2. Create a fresh NBA PlayLog DB.**\n",
        "\n",
        "\n",
        "\n"
      ]
    },
    {
      "cell_type": "code",
      "metadata": {
        "id": "yaSefTJF93-z",
        "colab": {
          "base_uri": "https://localhost:8080/"
        },
        "outputId": "a5e71fcf-69d1-4dae-ec2f-ba6ea5733f9a"
      },
      "source": [
        "# download the source data from GitHub\n",
        "!wget https://raw.githubusercontent.com/christopherhuntley/DATA6510/master/data/NBA/PlayLog21900001-NOP%40TOR.csv\n",
        "!wget https://raw.githubusercontent.com/christopherhuntley/DATA6510/master/data/NBA/PlayLog21900017-TOR%40BOS.csv"
      ],
      "execution_count": 1,
      "outputs": [
        {
          "output_type": "stream",
          "name": "stdout",
          "text": [
            "--2021-12-03 01:35:23--  https://raw.githubusercontent.com/christopherhuntley/DATA6510/master/data/NBA/PlayLog21900001-NOP%40TOR.csv\n",
            "Resolving raw.githubusercontent.com (raw.githubusercontent.com)... 185.199.108.133, 185.199.109.133, 185.199.110.133, ...\n",
            "Connecting to raw.githubusercontent.com (raw.githubusercontent.com)|185.199.108.133|:443... connected.\n",
            "HTTP request sent, awaiting response... 200 OK\n",
            "Length: 167211 (163K) [text/plain]\n",
            "Saving to: ‘PlayLog21900001-NOP@TOR.csv’\n",
            "\n",
            "\r          PlayLog21   0%[                    ]       0  --.-KB/s               \rPlayLog21900001-NOP 100%[===================>] 163.29K  --.-KB/s    in 0.01s   \n",
            "\n",
            "2021-12-03 01:35:23 (11.6 MB/s) - ‘PlayLog21900001-NOP@TOR.csv’ saved [167211/167211]\n",
            "\n",
            "--2021-12-03 01:35:23--  https://raw.githubusercontent.com/christopherhuntley/DATA6510/master/data/NBA/PlayLog21900017-TOR%40BOS.csv\n",
            "Resolving raw.githubusercontent.com (raw.githubusercontent.com)... 185.199.109.133, 185.199.108.133, 185.199.110.133, ...\n",
            "Connecting to raw.githubusercontent.com (raw.githubusercontent.com)|185.199.109.133|:443... connected.\n",
            "HTTP request sent, awaiting response... 200 OK\n",
            "Length: 143318 (140K) [text/plain]\n",
            "Saving to: ‘PlayLog21900017-TOR@BOS.csv’\n",
            "\n",
            "PlayLog21900017-TOR 100%[===================>] 139.96K  --.-KB/s    in 0.02s   \n",
            "\n",
            "2021-12-03 01:35:24 (8.63 MB/s) - ‘PlayLog21900017-TOR@BOS.csv’ saved [143318/143318]\n",
            "\n"
          ]
        }
      ]
    },
    {
      "cell_type": "code",
      "metadata": {
        "id": "anQi59a29e5z",
        "colab": {
          "base_uri": "https://localhost:8080/"
        },
        "outputId": "0a679ec2-f96b-407f-9566-6cd10182fa8c"
      },
      "source": [
        "# Mount Google Drive\n",
        "from google.colab import drive\n",
        "drive.mount('/content/drive')\n",
        "\n",
        "# Create the DATA6510/data/MoviesTonight folder in Google Drive\n",
        "from pathlib import Path\n",
        "\n",
        "data_root = Path(\"./drive/My Drive/Colab Notebooks/DATA6510\")\n",
        "if not data_root.exists():\n",
        "  print(\n",
        "      '''\n",
        "      Warning! The folder '/Colab Notebooks/DATA6510' could not be found in the connected Google Drive. \n",
        "      Please make 100% sure that both Colab and Chrome are set up use your @student.fairfield.edu account. \n",
        "      For now, a new folder with the correct path has been created in whatever Google Drive it found. \n",
        "      ''')\n",
        "data_root = data_root / 'data' / 'NBA'\n",
        "data_root.mkdir(parents=True, exist_ok=True)\n",
        "\n"
      ],
      "execution_count": 2,
      "outputs": [
        {
          "output_type": "stream",
          "name": "stdout",
          "text": [
            "Mounted at /content/drive\n"
          ]
        }
      ]
    },
    {
      "cell_type": "code",
      "metadata": {
        "id": "1YEVibwn-oub"
      },
      "source": [
        "%%bash\n",
        "# create (or refresh) the symlink\n",
        "rm -rf data6510\n",
        "ln -s drive/My\\ Drive/Colab\\ Notebooks/DATA6510 data6510\n",
        "\n",
        "# delete old copy of the database file\n",
        "rm -rf data6510/data/NBA/NBA_PlayLog.db"
      ],
      "execution_count": 3,
      "outputs": []
    },
    {
      "cell_type": "code",
      "metadata": {
        "id": "Ute9amKJ-uDU",
        "colab": {
          "base_uri": "https://localhost:8080/",
          "height": 35
        },
        "outputId": "7295787b-7ca3-48ba-f253-b8648ef6d6b5"
      },
      "source": [
        "# Load %%sql magic\n",
        "%load_ext sql\n",
        "\n",
        "# Standard Imports\n",
        "import sqlite3\n",
        "import pandas as pd\n",
        "\n",
        "# Database connection\n",
        "%sql sqlite:///data6510/data/NBA/NBA_PlayLog.db"
      ],
      "execution_count": 4,
      "outputs": [
        {
          "output_type": "execute_result",
          "data": {
            "application/vnd.google.colaboratory.intrinsic+json": {
              "type": "string"
            },
            "text/plain": [
              "'Connected: @data6510/data/NBA/NBA_PlayLog.db'"
            ]
          },
          "metadata": {},
          "execution_count": 4
        }
      ]
    },
    {
      "cell_type": "code",
      "metadata": {
        "id": "sSFPGuSWdc31",
        "colab": {
          "base_uri": "https://localhost:8080/"
        },
        "outputId": "7d7f07dd-ea54-4fd1-fa49-9774db6f8b56"
      },
      "source": [
        "# Load the data from csv files\n",
        "# ONLY RUN THIS ONCE TO AVOID DATA DUPLICATION\n",
        "\n",
        "# data_conf configures the rest so we can easily add files\n",
        "data_conf = [('PlayLog_import','PlayLog21900001-NOP@TOR.csv'),('PlayLog_import','PlayLog21900017-TOR@BOS.csv')]\n",
        "\n",
        "# connect to the database (kept in Google Drive)\n",
        "conn = sqlite3.connect('data6510/data/NBA/NBA_PlayLog.db') \n",
        "with conn:\n",
        "\n",
        "  # handles each CSV file we have configured at top\n",
        "  for tbl,fname in data_conf:\n",
        "\n",
        "    # tbl is the import table in the database; fname is the CSV file name\n",
        "    print(tbl,fname)\n",
        "\n",
        "    # Load the CSV file into a DataFrame\n",
        "    df = pd.read_csv(fname)\n",
        "\n",
        "    # determine home and away from the fname\n",
        "    df['home_team'] = fname.split('@')[0][-3:]\n",
        "    df['away_team'] = fname.split('@')[1][0:3]\n",
        "\n",
        "    # Load into the import table\n",
        "    df.to_sql(tbl,conn,if_exists='append',index=False)"
      ],
      "execution_count": 5,
      "outputs": [
        {
          "output_type": "stream",
          "name": "stdout",
          "text": [
            "PlayLog_import PlayLog21900001-NOP@TOR.csv\n",
            "PlayLog_import PlayLog21900017-TOR@BOS.csv\n"
          ]
        }
      ]
    },
    {
      "cell_type": "code",
      "metadata": {
        "id": "sFCn_imXRBYc",
        "colab": {
          "base_uri": "https://localhost:8080/",
          "height": 116
        },
        "outputId": "61c23f03-84ba-49e9-9b4e-74c64e894bc5"
      },
      "source": [
        "%%sql\n",
        "-- A quick check to make sure the data loaded\n",
        "SELECT distinct home_team,away_team \n",
        "FROM PlayLog_import \n",
        "LIMIT 2;"
      ],
      "execution_count": 6,
      "outputs": [
        {
          "output_type": "stream",
          "name": "stdout",
          "text": [
            " * sqlite:///data6510/data/NBA/NBA_PlayLog.db\n",
            "Done.\n"
          ]
        },
        {
          "output_type": "execute_result",
          "data": {
            "text/html": [
              "<table>\n",
              "    <thead>\n",
              "        <tr>\n",
              "            <th>home_team</th>\n",
              "            <th>away_team</th>\n",
              "        </tr>\n",
              "    </thead>\n",
              "    <tbody>\n",
              "        <tr>\n",
              "            <td>NOP</td>\n",
              "            <td>TOR</td>\n",
              "        </tr>\n",
              "        <tr>\n",
              "            <td>TOR</td>\n",
              "            <td>BOS</td>\n",
              "        </tr>\n",
              "    </tbody>\n",
              "</table>"
            ],
            "text/plain": [
              "[('NOP', 'TOR'), ('TOR', 'BOS')]"
            ]
          },
          "metadata": {},
          "execution_count": 6
        }
      ]
    },
    {
      "cell_type": "markdown",
      "metadata": {
        "id": "MxodRS_t_u-r"
      },
      "source": [
        "## **3. Write and debug SQL DDL** \n",
        "Write SQL DDL for your tables. \n",
        "- Remember, we're using SQLite, not MySQL. Use the right data types. \n",
        "- Name each table in the plural form, with lowercase letters and underscores.\n",
        "- You will need to create the tables in the right order; otherwise the FKs constraints won't work.\n",
        "- Use `DROP TABLE IF EXISTS ...` statements to clear out each table before the `CREATE ...` statements. \n"
      ]
    },
    {
      "cell_type": "code",
      "metadata": {
        "id": "ANeOoa6uArBD"
      },
      "source": [
        ""
      ],
      "execution_count": null,
      "outputs": []
    },
    {
      "cell_type": "markdown",
      "metadata": {
        "id": "0HlAs-8W_ebZ"
      },
      "source": [
        "## **4. Populate tables from `PlayLog_import`.**\n",
        "Remember that the order matters. "
      ]
    },
    {
      "cell_type": "code",
      "metadata": {
        "id": "n7BKecaS8-cL"
      },
      "source": [
        ""
      ],
      "execution_count": null,
      "outputs": []
    },
    {
      "cell_type": "markdown",
      "metadata": {
        "id": "5xF78J1JCiRd"
      },
      "source": [
        "## **5. Test with `SELECT` queries.**\n",
        "These are up to you. However, you should at least be able to recreate the results from Homework 2A _without_ using the `PlayLog_import` table. "
      ]
    },
    {
      "cell_type": "code",
      "metadata": {
        "id": "Elqr2_vJX5VL"
      },
      "source": [
        ""
      ],
      "execution_count": null,
      "outputs": []
    },
    {
      "cell_type": "markdown",
      "metadata": {
        "id": "qrwnfPIEX75i"
      },
      "source": [
        "## **6. Drop the `PlayLog_import` table.**"
      ]
    },
    {
      "cell_type": "code",
      "metadata": {
        "id": "U9CEzy74QZd8"
      },
      "source": [
        ""
      ],
      "execution_count": null,
      "outputs": []
    },
    {
      "cell_type": "markdown",
      "metadata": {
        "id": "79g0IWAjYoEG"
      },
      "source": [
        "Then run this cell to force SQLite to delete the dropped table and minimize the file size. "
      ]
    },
    {
      "cell_type": "code",
      "metadata": {
        "id": "c8GJlvq2Yzon"
      },
      "source": [
        "%%sql\n",
        "vacuum;"
      ],
      "execution_count": null,
      "outputs": []
    },
    {
      "cell_type": "markdown",
      "metadata": {
        "id": "ldKpS5zpWHnT"
      },
      "source": [
        "## **6. Do it all again, from the top.**\n",
        "From the Colab menus select `Runtime` $\\rightarrow$ `Restart and run all`. If you get an error, then debug it. "
      ]
    },
    {
      "cell_type": "markdown",
      "metadata": {
        "id": "wy8s1DegIK8-"
      },
      "source": [
        "## **Turn it in!**"
      ]
    }
  ]
}