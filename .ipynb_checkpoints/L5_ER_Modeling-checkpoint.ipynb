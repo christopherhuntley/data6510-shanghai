{
 "cells": [
  {
   "cell_type": "markdown",
   "metadata": {},
   "source": [
    "<img src=\"./img/Dolan.png\" width=\"180px\" align=\"right\">\n",
    "\n",
    "# **DATA 6510**\n",
    "# **Lesson 5: Entity Relationship Modeling** \n",
    "_A Visual Approach to Database Design._"
   ]
  },
  {
   "cell_type": "markdown",
   "metadata": {
    "id": "5rHzwUorF5ab"
   },
   "source": [
    "## **Learning Objectives**\n",
    "### **Theory / Be able to explain ...**\n",
    "- Entity Relationship notation and interpretation\n",
    "- Key distinctions between entities and attributes\n",
    "- The various kinds of relationships and how they affect database design\n",
    "- How Entity-Attribute-Value databases can be useful for data without fixed database schema\n",
    "\n",
    "### **Skills / Know how to ...**\n",
    "- Draw Entity Relationship Diagrams\n",
    "- Assess the validity of entity types\n",
    "- Identify potential integrity issues before committing to table designs\n",
    "\n",
    "--------"
   ]
  },
  {
   "cell_type": "markdown",
   "metadata": {},
   "source": [
    "## **BIG PICTURE: Data modeling is not about data**\n",
    "\n",
    "**Data modeling is something we do *before* we have data.** It's the design activity that makes it possible to collect data for a given purpose. So, data modeling is about what we will do with the data and what we can expect to find as we collect it. The data itself ends up being a collection of artifacts that gets us from data collection to data usage. \n"
   ]
  },
  {
   "cell_type": "markdown",
   "metadata": {},
   "source": [
    "So, whenever we start design of a new database (i.e., the receptacle for our data) the most important questions are:\n",
    "- What exists now?\n",
    "- What is the data about?\n",
    "- What is the data going to be used for?\n",
    "- How long does the data need to be kept?\n",
    "- Who is going to use the data? \n"
   ]
  },
  {
   "cell_type": "markdown",
   "metadata": {},
   "source": [
    "Only after we get answers to these questions can we begin to think about the tables, columns, keys, constraints, etc. For example, let's consider the \"What exists now?\" question. What exists now may include any or all of the following: \n",
    "- a paper process used to collect dead tree data and produce reports\n",
    "- people whose jobs are to work with the current data sources every day, perhaps with an organizational hierarchy that determines data access permissions\n",
    "- online systems that need data in a specific format or produce data in a (not necessarily the same) format\n",
    "- end users that don't currently know they need the data \n",
    "- a laundry list of complaints about the current system (or lack of one)\n",
    "- ...\n",
    "It goes on and on. "
   ]
  },
  {
   "cell_type": "markdown",
   "metadata": {},
   "source": [
    "The purpose of data modeling is to capture enough detail about the data requirements as possible before we make any technology decisions we might regret later. If, for example, we find that some data needs to be separate from other data because of different sources or user access permissions, then we need to take that into account when designing our tables. Similarly, if some data is permanent and other data is only useful for a couple of weeks, then perhaps we will want to keep them separate as well. "
   ]
  },
  {
   "cell_type": "markdown",
   "metadata": {
    "id": "aVKAjKlGheMm"
   },
   "source": [
    "In this lesson we will use Entity Relationship Modeling to capture data requirements in an intuitive way that can be explained to clients and power users. It is like writing a draft of the user manual for the data before anything else. "
   ]
  },
  {
   "cell_type": "markdown",
   "metadata": {},
   "source": [
    "---\n",
    "## **Entity Relationship Diagrams**"
   ]
  },
  {
   "cell_type": "markdown",
   "metadata": {},
   "source": [
    "Entity Relationship models have been around almost as long as relational databases. Peter Chen first developed the theory in the mid-1970s, a time when relational databases were still pretty exotic, to solve a serious conceptual problem. People understood how to read and write files but following all the rules needed to build relational databases was a challenge.  \n"
   ]
  },
  {
   "cell_type": "markdown",
   "metadata": {},
   "source": [
    "ER diagrams (ERDs) are designed to be just specific enough to be useful without introducing any unnecessary details that are best left for later. Consider this ERD from Lesson 1:"
   ]
  },
  {
   "cell_type": "markdown",
   "metadata": {},
   "source": [
    "![Cleaners ERD](./img/L6_erd1.png)"
   ]
  },
  {
   "cell_type": "markdown",
   "metadata": {},
   "source": [
    "- **Each box represents an entity class or type.** Any given type can model any number of instances. So, for example, the `Customer` entity (type) can represent millions of customers (instances)."
   ]
  },
  {
   "cell_type": "markdown",
   "metadata": {},
   "source": [
    "- **The attributes are listed inside the box.** Traditionally, primary key attributes (identifiers like `customer_id`) are listed at the top and the foreign key attributes at the bottom, with non-key attributes in between. If an attribute is both a primary key and foreign key then group it with the primary keys attributes."
   ]
  },
  {
   "cell_type": "markdown",
   "metadata": {},
   "source": [
    "> Note: in the earliest stages of the requirements process, we may omit the attributes entirely, focusing on just the entities and relationships."
   ]
  },
  {
   "cell_type": "markdown",
   "metadata": {},
   "source": [
    "- **Relationships are shown with lines connecting the boxes.** The notation at each end of a connecting line represents how many entity instances there are at that end. The relationship shown in the diagram indicates that:\n",
    "  - each `Customer` instance can generate zero of more `Invoice` instances\n",
    "  - each `Invoice` instance is generated by one and only one `Customer`"
   ]
  },
  {
   "cell_type": "markdown",
   "metadata": {},
   "source": [
    "With this much detail we can say:\n",
    "- what tables we will need in the database\n",
    "- what columns are on each table\n",
    "- what foreign keys are needed and what tables they refer to"
   ]
  },
  {
   "cell_type": "markdown",
   "metadata": {},
   "source": [
    "What we don't care about (yet) includes \n",
    "- the data types of the attributes\n",
    "- how the keys are generated and managed\n",
    "- how many rows of data are to be in each table\n",
    "- how the tables will be populated with data\n",
    "- how data will be updated or deleted from the tables"
   ]
  },
  {
   "cell_type": "markdown",
   "metadata": {
    "id": "NekcmKiCsxQm"
   },
   "source": [
    "These last few things are for logical design. However, since those things left for a database administrator (usually not the analyst), we are just interested in the general database structure, not its implementation in SQL. "
   ]
  },
  {
   "cell_type": "markdown",
   "metadata": {},
   "source": [
    "## **ERDs as Conceptual Storytelling**"
   ]
  },
  {
   "cell_type": "markdown",
   "metadata": {},
   "source": [
    "The key insight of entity relationship modeling $-$ the one that makes it so useful for database design $-$ is that **databases exist to tell stories**. They describe things that people care about enough to record for later. Entity-relationship diagramming is a visual language for telling database stories before we actually have data."
   ]
  },
  {
   "cell_type": "markdown",
   "metadata": {},
   "source": [
    "In the visual language of ERDs there are just two kinds of sentences:\n",
    "- Description: entity A **is described by** attributes X, Y, and Z \n",
    "- Action: entity A **acts upon** entity B"
   ]
  },
  {
   "cell_type": "markdown",
   "metadata": {},
   "source": [
    "In these stories, the **entities and attributes are the descriptive nouns**, while the **relationships are the action verbs**. "
   ]
  },
  {
   "cell_type": "markdown",
   "metadata": {
    "id": "EDSvJAd3atPB"
   },
   "source": [
    "We will take these one at a time and then discuss some of the more interesting special cases. "
   ]
  },
  {
   "cell_type": "markdown",
   "metadata": {},
   "source": [
    "## **Entities and Attributes**"
   ]
  },
  {
   "cell_type": "markdown",
   "metadata": {},
   "source": [
    "In principle, any particular thing could be considered an entity or an attribute. Often it's hard to tell which is which, at least at first, before we know the context for our database stories. "
   ]
  },
  {
   "cell_type": "markdown",
   "metadata": {},
   "source": [
    "The difference between an entity and an attribute is that entities always have a unique identity within the **domain model** (i.e., context). Recall that in Lesson 4 we defined the relational model using set mappings from **domains** to **codomains**: "
   ]
  },
  {
   "cell_type": "markdown",
   "metadata": {},
   "source": [
    "![Relation mappings from Lesson 4](./img/L4_Relations.png)\n"
   ]
  },
  {
   "cell_type": "markdown",
   "metadata": {},
   "source": [
    "**The items in the domain set are the entities represented by a table. The mappings to the codomains are the attributes.** While entities are by definition unique, we could map any given **domain entity** to **attribute values** in any number of codomains. Like the entities, the attribute values themselves are unique but the **attribute mappings** have no such constraint. We could map several entities to the same attribute value or even map an entity to itself (i.e., where codomain = domain) several times if we like. It is in this sense that **entities are unique** while **attribute mappings** are not."
   ]
  },
  {
   "cell_type": "markdown",
   "metadata": {},
   "source": [
    "To determine if a given item is an entity, we look for **identifier attributes** that make sense in the story context. For example, does a bank need to track individual dollar bills (via serial numbers) or just the number of dollars in a person's account? If the former then dollars are entities. If the latter, then dollar amounts are just values used to describe something else (a customer's account, a financial transaction, etc.)."
   ]
  },
  {
   "cell_type": "markdown",
   "metadata": {},
   "source": [
    "> **Tip:** Identifier attributes should be immutable, never changing once they have been set. If one is ever tempted to modify an identifier then it is not really an identifier. So, for example, while we informally use people's names as identifiers, names can change and thus make poor identifiers. We are better off defining a new attribute (an id number, for example) and letting the name be just another non-key attribute, perhaps indexed for speedy lookups but not a candidate key. "
   ]
  },
  {
   "cell_type": "markdown",
   "metadata": {},
   "source": [
    "Besides the need for unique identifiers, there is another sense in which entities must be unique. **Each entity is always one thing and only one thing.** If an entity is composed of multiple things, then it is actually an **associative entity** that connects other things together. Each of these connected things is an entity, as is the association itself. "
   ]
  },
  {
   "cell_type": "markdown",
   "metadata": {},
   "source": [
    "Let's consider, for example, a marriage between two people. Is that one thing (a marriage) or three things (marriage plus two spouses)? In early versions of the database story it may be just a marriage license with a date, few signatures, and an id number. However, as the story gets fleshed out, one may find the need to represent the people getting married. While it is tempting to just add the details about these people to the marriage license itself, this makes the idea of a marriage license much more complex than it has to be. It also complicates questions like \"Has Toby been married before?\" or \"Is Toby *currently married* to somebody else?\" Instead of looking up Toby (and finding licenses), we would have to scan through licenses to find any with Toby's name. A much better, more savvy, way to do it is to **register each person** separately and then **reference** them on the marriage license. As long as the licenses are **indexed** by person $-$ easily done if each person has a unique identifier $-$ we could find any of Toby's previous marriages on file with one lookup."
   ]
  },
  {
   "cell_type": "markdown",
   "metadata": {
    "id": "_AYIvnUVaYuB",
    "tags": []
   },
   "source": [
    "Once we have the entities worked out, the attributes are usually pretty easy to suss out. All we need to know in an ERD is what they are named, and whether any of them are identifiers (primary keys) or references (foreign keys). Data types and other constraints (e.g., allowed combinations of attribute values) can wait until logical design (in SQL). \n"
   ]
  },
  {
   "cell_type": "markdown",
   "metadata": {},
   "source": [
    "---\n",
    "## **Relationships**"
   ]
  },
  {
   "cell_type": "markdown",
   "metadata": {},
   "source": [
    "Relationships are how the entities in our stories interact. They provide the action. How that action plays out depends on the natures of the entities and their interactions. "
   ]
  },
  {
   "cell_type": "markdown",
   "metadata": {},
   "source": [
    "Continuing our marriage example, here are three different scenarios, each as a different ERD:"
   ]
  },
  {
   "cell_type": "markdown",
   "metadata": {},
   "source": [
    "![Three Marriage Proposals](./img/L6_Marriage_ERD.png)"
   ]
  },
  {
   "cell_type": "markdown",
   "metadata": {},
   "source": [
    "Scenario A represents the case where people are just names on a marriage license. Each person is listed as either `spouse1` or `spouse2`. This is a very static story with no action. It is almost as if nobody will ever read the story after it is written.\n"
   ]
  },
  {
   "cell_type": "markdown",
   "metadata": {},
   "source": [
    "Scenario B represents a person-centric case, where all that matters is who is currently married to whom. (It's a rare unary mapping of an entity domain onto itself.) Notice the phrasing of the text on the relationship. It describes the action (or more like a condition, depending on your views of marriage) of being married to another person. It is assumed that if person X is married to person Y then the relationship would be noted on both entities. If a person is unmarried, then the `spouseID` would be left blank."
   ]
  },
  {
   "cell_type": "markdown",
   "metadata": {},
   "source": [
    "Scenario C separates out the marriage license from the people getting married. In this case we can add more attributes to the `Marriage License` and `Person` entities to indicate things like birthdates, divorce dates, etc. Generally, this is likely how your state records marriages. It is up to them to enforce the \"can't have more than one marriage at a time\" law. \n"
   ]
  },
  {
   "cell_type": "markdown",
   "metadata": {
    "id": "EXPGWJKoz1Gx"
   },
   "source": [
    "> Note that Scenario C allows for marriage to be between more than 2 people. Why? Because standard ERD graphic language doesn't distinguish between \"more than 1\" and \"many\". That marriage is between two people is a constraint that would be handled in logical design, to be enforced using SQL controls. "
   ]
  },
  {
   "cell_type": "markdown",
   "metadata": {},
   "source": [
    "### **Degrees**"
   ]
  },
  {
   "cell_type": "markdown",
   "metadata": {},
   "source": [
    "The degree of a relationship is **how many entity *types*** are being connected."
   ]
  },
  {
   "cell_type": "markdown",
   "metadata": {},
   "source": [
    "By far the most common relationship is between two entity types. That is called a **binary relationship**, represented by scenario C in the marriage example. In the many-to-many relationship depicted, there can be just about any number of entities on either end. However, there are only two entity types involved. "
   ]
  },
  {
   "cell_type": "markdown",
   "metadata": {},
   "source": [
    "A **unary relationship** is one where the associations are among entities with the same entity type. A unary relationship was shown in scenario B. One can conceive of a unary relationship between rail cars on a train. Each car has 0 or 1 cars immediately before and 0 or cars after it. However, every rail car is a car."
   ]
  },
  {
   "cell_type": "markdown",
   "metadata": {
    "id": "gvCX0aLbp8iS"
   },
   "source": [
    "> We can have higher degree relationships (ternary, quaternary, etc.) as well. These are not very common and can be confusing to interpret. Often in such cases the designer will create an **associative entity** that represents the relationship itself. We only mention higher degree relationships in passing because you may see one in the wild someday. "
   ]
  },
  {
   "cell_type": "markdown",
   "metadata": {},
   "source": [
    "### **Maximum Cardinalities**"
   ]
  },
  {
   "cell_type": "markdown",
   "metadata": {},
   "source": [
    "A cardinality is a count of items in a set. (In fact, the counting numbers 1, 2, 3, etc. are sometimes called the cardinal numbers.) "
   ]
  },
  {
   "cell_type": "markdown",
   "metadata": {},
   "source": [
    "In database design the placements of foreign keys (i.e., which tables) are determined by the maximum cardinalities of the relationships. In our ERD notation, there are three possibilities:"
   ]
  },
  {
   "cell_type": "markdown",
   "metadata": {},
   "source": [
    "![Maximum Cardinalities](./img/L6_Max_Cardinalities.png)"
   ]
  },
  {
   "cell_type": "markdown",
   "metadata": {},
   "source": [
    "**In the one-to-one case, we will need foreign keys on or both ends of the relationship.** Given an entity on one side, we will need to be able to look up the entity on the other end. "
   ]
  },
  {
   "cell_type": "markdown",
   "metadata": {},
   "source": [
    "**In the one-to-many case we will always place the foreign key on the many end of the relationship.** If we were to put it on the one end then we would need to refer to a list of entities on the other end, which is not allowed by the relational model. Instead, we add a foreign key attribute to the entity on the many end (the crows foot) to indicate *which one* of the entity instances in the other type it is referring to. "
   ]
  },
  {
   "cell_type": "markdown",
   "metadata": {},
   "source": [
    "**In the many-to-many case we will eventually need to create an associative entity with foreign keys to the tables at either end.** This in effect converts the many-to-many relationship into two one-to-many relationships with a new entity type. In our ERDs that's fine, but in SQL we will need to create a new table for the cross-references. \n"
   ]
  },
  {
   "cell_type": "markdown",
   "metadata": {},
   "source": [
    "> The ERD diagrams shown here use \"crows foot\" notation with a triangular shape for \"many\" ends and a single cross hatch for the \"one\" ends. Other notations, including the original Chen models for the 1970s and the UML class diagrams used by software engineers, permit more specificity (\"maximum of 2\") but are a bit more verbose. Finally, as we shall see, there is no need for so much specificity when designing tables and columns.  "
   ]
  },
  {
   "cell_type": "markdown",
   "metadata": {},
   "source": [
    "### **Minimum Cardinalities**"
   ]
  },
  {
   "cell_type": "markdown",
   "metadata": {},
   "source": [
    "Minimum cardinalities indicate whether a relationship is optional or mandatory on each end. "
   ]
  },
  {
   "cell_type": "markdown",
   "metadata": {},
   "source": [
    "![Minimum Cardinalities](./img/L6_Min_Cardinalities.png)"
   ]
  },
  {
   "cell_type": "markdown",
   "metadata": {
    "id": "MSHIE5GMVm6M"
   },
   "source": [
    "The minimum cardinalities (either 0 or 1) are shown to the inside of the maximum cardinalities. These have implications for the placement of foreign keys and the order in which entities are created (i.e., some entities may have to precede others to maintain referential integrity). We will explore both in the Special Cases section below. "
   ]
  },
  {
   "cell_type": "markdown",
   "metadata": {
    "id": "WDeiyFopAyJp"
   },
   "source": [
    "---\n",
    "## **Special Cases**"
   ]
  },
  {
   "cell_type": "markdown",
   "metadata": {},
   "source": [
    "### **Strong Entities and Weak Entities**"
   ]
  },
  {
   "cell_type": "markdown",
   "metadata": {},
   "source": [
    "An entity type is said to be **strong** if we can create entities without having to consult another type. Strong entities do not have any mandatory foreign keys to worry about. "
   ]
  },
  {
   "cell_type": "markdown",
   "metadata": {},
   "source": [
    "A weak entity is one that has a mandatory foreign key dependency. In other words, the entity cannot exist without being preceded by the entity on the other end of the relationship. "
   ]
  },
  {
   "cell_type": "markdown",
   "metadata": {},
   "source": [
    "We can identify weak entities by looking for either\n",
    "- the presence of a foreign key that cannot be null\n",
    "- an entity on the *other side* of the relationship that is mandatory (i.e., has a minimum cardinality of 1)"
   ]
  },
  {
   "cell_type": "markdown",
   "metadata": {},
   "source": [
    "Returning to the ERDs we used for minimum cardinalities, we see two examples of weak entities. "
   ]
  },
  {
   "cell_type": "markdown",
   "metadata": {},
   "source": [
    "![Minimum Cardinalities](./img/L6_Min_Cardinalities.png)"
   ]
  },
  {
   "cell_type": "markdown",
   "metadata": {},
   "source": [
    "- In the **mandatory-mandatory** case, both A and B are weak, depending on each other, a situation we call **twinning**. In this case neither entity can precede the other. In order to comply with referential integrity constraints, entity B cannot exist without a corresponding A entity, which in turn requires a B entity. For entity A is it a little less strict, in that the B entity may already exist at the time we create entity A. However, if it doesn't then we are faced with creating two entities (an A and a B) at the same time. "
   ]
  },
  {
   "cell_type": "markdown",
   "metadata": {},
   "source": [
    "- In the **mandatory-optional** case, mandatory entity A is the **parent** of the **child** entity B. To comply with the integrity rules, we just have to make sure that the parent precedes the child. If, however, the parent subsequently gets deleted, then the child either has to be deleted too or reassigned a new parent before deleting the current one."
   ]
  },
  {
   "cell_type": "markdown",
   "metadata": {},
   "source": [
    "- In the **optional-optional** case, both A and B can be considered strong because they do not have any required dependencies. "
   ]
  },
  {
   "cell_type": "markdown",
   "metadata": {},
   "source": [
    "> Note that it is possible to have twinning and parent-child relationships in many-to-many relationships. However, the terms used here would apply to the one-to-many relationships in the derived associate entity. "
   ]
  },
  {
   "cell_type": "markdown",
   "metadata": {
    "id": "4rUKFpLipn74",
    "jp-MarkdownHeadingCollapsed": true,
    "tags": []
   },
   "source": [
    "Why do we care about all this? Because it tells us in what order we need to _load data_ into the database, with strong entities (tables without FKs) coming before their weaker dependents (tables with FKs to already loaded tables). Further, in some cases we can't load anything at all without temporarily suspending referential integrity rules using transaction control.  "
   ]
  },
  {
   "cell_type": "markdown",
   "metadata": {},
   "source": [
    "### **IS-A Relationships: Subtypes and Supertypes**"
   ]
  },
  {
   "cell_type": "markdown",
   "metadata": {
    "id": "ZFknug79pJu2"
   },
   "source": [
    "A subtype is a special case of its supertype. If entity type B is a subtype of A, then B has an **is-a** relationship with A: each B entity is a type A as well. A and B will have overlapping attributes, with type B **inheriting** all of type A's attributes. There are several ways to represent this on an ERD, but the cleanest is to just create a parent-child relationship, with the parent as the supertype and the child as the subtype. \n"
   ]
  },
  {
   "cell_type": "markdown",
   "metadata": {
    "jupyter": {
     "source_hidden": true
    },
    "tags": []
   },
   "source": [
    "---\n",
    "## **PRO TIPS: Converting ERDs to Relations**"
   ]
  },
  {
   "cell_type": "markdown",
   "metadata": {},
   "source": [
    "It is pretty easy to convert between ERDs and database table schema. The process is fairly formulaic and can even be automated. For example, MySQL Workbench can draw an ERD given any set of related tables in a MySQL database. Going the other way, from an ERD to tables, is only a little more complex. Here is a usual process, which works for just about anything except special cases like type inheritance. "
   ]
  },
  {
   "cell_type": "markdown",
   "metadata": {},
   "source": [
    "**Step 1. Convert many-to-many relationships to *associative* entities.**  "
   ]
  },
  {
   "cell_type": "markdown",
   "metadata": {},
   "source": [
    "![Associative Entity](./img/L6_Associative_Entity.png)\n",
    "\n"
   ]
  },
  {
   "cell_type": "markdown",
   "metadata": {},
   "source": [
    "An associative entity represents the connections implied by a many-to-many relationship. (It is common practice to name the associative entity after the entities it connects.) Also note the directions of the one-to-many relationships. The associative entity is always on the many side of each relationship from which it derives. In the logical design stage, this associative entity will become a so-called **cross table** (short for \"cross reference table\") with one foreign key per connected entity. "
   ]
  },
  {
   "cell_type": "markdown",
   "metadata": {
    "id": "BXSLtJy6sv3K"
   },
   "source": [
    "**Step 2. Write out each entity type as a table schema using CREATE TABLE queries.** \n",
    "- Table names are drawn from the entity class names, though pluralized by common convention \n",
    "- Attributes are the columns\n",
    "- Keys are as indicated on the ERD\n",
    "- Data types are determined in part on what the database allows\n",
    "\n",
    " \n",
    "\n",
    "\n"
   ]
  },
  {
   "cell_type": "markdown",
   "metadata": {},
   "source": [
    "We will pick up from here in the next lesson, where will build a database from scratch. "
   ]
  },
  {
   "cell_type": "markdown",
   "metadata": {},
   "source": [
    "## **Case: Movies Tonight, Part 1**"
   ]
  },
  {
   "cell_type": "markdown",
   "metadata": {},
   "source": [
    "### **An Ancient App**"
   ]
  },
  {
   "cell_type": "markdown",
   "metadata": {},
   "source": [
    "Movies Tonight was an ancient web app built as a tech demo in the days before broadband, CSS, web services, ReST APIs, JSON, and all the other technologies we now take for granted. It was designed to show what a rich user interface could look like once we had all of those things.\n"
   ]
  },
  {
   "cell_type": "markdown",
   "metadata": {},
   "source": [
    "It provides information about every movie shown in Riverside, California, on Thanksgiving 1996. It has dropdown menus to select the theater, movie, title, and time. Below the dropdown menus it shows links to all movie showings that meet the given selections. Selecting nothing is equivalent to selecting all. "
   ]
  },
  {
   "cell_type": "markdown",
   "metadata": {},
   "source": [
    "> For those who may be wondering ... Yes, your instructor built the app over a weekend before a Tuesday morning class. And yes, the visual design is truly hideous."
   ]
  },
  {
   "cell_type": "markdown",
   "metadata": {},
   "source": [
    "![Movies Tonight UI](https://github.com/christopherhuntley/DATA6510/raw/master/img/L5_Movies_Tonight_UI.png)"
   ]
  },
  {
   "cell_type": "markdown",
   "metadata": {},
   "source": [
    "> **Through some sort of Internet miracle, the app still works in most browsers.** The code is ancient $–$ Javascript was just 2 years old at the time $–$ and won’t work in some modern browsers. "
   ]
  },
  {
   "cell_type": "markdown",
   "metadata": {},
   "source": [
    "While the web design was only barely passable, there is a gem hidden in the source code: all the data in a compressed format and parser functions used to extract the data into usable data records (about movies, theaters, and shows). The idea was that the javascript would be generated by a webserver each time the page was loaded. Then the user would continue on without ever needing to refresh the page. Everything on the screen was *generated* in Javascript, which was a truly radical idea at the time but is how most web pages are designed today.\n",
    "> **Note for web geeks:** [XMLHttpRequest](https://en.wikipedia.org/wiki/XMLHttpRequest) did not exist yet; that didn't happen until 2008. This is the truly old school way to do one page web apps.\n",
    "\n"
   ]
  },
  {
   "cell_type": "markdown",
   "metadata": {},
   "source": [
    "![Movies Tonight Source](./img/L5_Movies_Tonight_Source.png)"
   ]
  },
  {
   "cell_type": "markdown",
   "metadata": {},
   "source": [
    "### **Data Model**"
   ]
  },
  {
   "cell_type": "markdown",
   "metadata": {},
   "source": [
    "After normalization, the database has five tables, as illustrated in the following ERD."
   ]
  },
  {
   "cell_type": "markdown",
   "metadata": {},
   "source": [
    "![Movies Tonight ERD](./img/L6_MoviesTonight_v2.png)"
   ]
  },
  {
   "cell_type": "markdown",
   "metadata": {},
   "source": [
    "There are three strong entities:\n",
    "- **Theater**, which has the name, location (address), phone number of the place where the movie is showing\n",
    "- **Movie**, which has the title and rating for the film being shown\n",
    "- **Artist**, which have the name and biography of each actor or director in the movies\n",
    "\n"
   ]
  },
  {
   "cell_type": "markdown",
   "metadata": {},
   "source": [
    "There are two associative (weak) entities:\n",
    "- **Show**, which provides the time (`showtime`) when the given movie (`movieID`) is being shown at a given theater (`theaterID`)\n",
    "- **Credit**, which connects each artist (`artistID`) to each movie (`movieID`) as they appear in the movie credits before/after the movie; the `ccode` indicates whether the artist is listed as an _actor_ (A) or a _director_ (D); some people appear as both, with two lines of credit, for a given movie. "
   ]
  },
  {
   "cell_type": "markdown",
   "metadata": {},
   "source": [
    "### **The Live Database**"
   ]
  },
  {
   "cell_type": "markdown",
   "metadata": {},
   "source": [
    "Run each of the cells below, one at a time, to see thew database in action. Study the queries to be sure you understand exactly how and why they work."
   ]
  },
  {
   "cell_type": "code",
   "execution_count": null,
   "metadata": {},
   "outputs": [],
   "source": [
    "# Load %%sql magic\n",
    "!pip install jupysql\n",
    "%load_ext sql\n",
    "%config SqlMagic.displaylimit = None"
   ]
  },
  {
   "cell_type": "code",
   "execution_count": null,
   "metadata": {},
   "outputs": [],
   "source": [
    "%sql sqlite:///data/MoviesTonight/MoviesTonight.db"
   ]
  },
  {
   "cell_type": "markdown",
   "metadata": {},
   "source": [
    "#### **What movies titles were showing?**"
   ]
  },
  {
   "cell_type": "code",
   "execution_count": null,
   "metadata": {},
   "outputs": [],
   "source": [
    "%%sql\n",
    "SELECT DISTINCT title\n",
    "FROM movies;"
   ]
  },
  {
   "cell_type": "markdown",
   "metadata": {},
   "source": [
    "#### **What is the earliest time when we can see a show?**"
   ]
  },
  {
   "cell_type": "code",
   "execution_count": null,
   "metadata": {},
   "outputs": [],
   "source": [
    "%%sql\n",
    "SELECT MIN(showtime)\n",
    "FROM shows"
   ]
  },
  {
   "cell_type": "markdown",
   "metadata": {},
   "source": [
    "#### **In what movies did Eli Wallach appear?**"
   ]
  },
  {
   "cell_type": "code",
   "execution_count": null,
   "metadata": {},
   "outputs": [],
   "source": [
    "%%sql\n",
    "SELECT DISTINCT movieID, title\n",
    "FROM CREDITS\n",
    "      JOIN MOVIES USING (movieID)\n",
    "      JOIN ARTISTS USING (artistID)\n",
    "WHERE NAME = 'Eli Wallach'"
   ]
  },
  {
   "cell_type": "markdown",
   "metadata": {},
   "source": [
    "#### **Who were Eli Wallach's costars (note: actors only) in movies released in 1996?** Be sure to include movie titles."
   ]
  },
  {
   "cell_type": "code",
   "execution_count": null,
   "metadata": {},
   "outputs": [],
   "source": [
    "%%sql\n",
    "SELECT distinct a2.name, m.title\n",
    "FROM artists AS a1\n",
    "  JOIN credits AS c1 USING (artistID)\n",
    "  JOIN movies as m USING (movieID)\n",
    "  JOIN credits AS c2 USING (movieID)\n",
    "  JOIN artists AS a2 ON (a2.artistID = c2.artistID)\n",
    "WHERE a1.name = 'Eli Wallach' AND c2.credit_code = 'A' AND a2.name <> 'Eli Wallach'"
   ]
  },
  {
   "cell_type": "markdown",
   "metadata": {},
   "source": [
    "### **Which artists were both actor and director in the same movie?**"
   ]
  },
  {
   "cell_type": "code",
   "execution_count": null,
   "metadata": {},
   "outputs": [],
   "source": [
    "%%sql\n",
    "SELECT artists.name, movies.title\n",
    "FROM artists\n",
    "        JOIN credits AS c1 USING (artistID)\n",
    "        JOIN movies USING (movieID)\n",
    "        JOIN credits AS c2 ON (c1.artistID=c2.artistID AND c1.movieID=c2.movieID)\n",
    "WHERE c1.credit_code = 'A' AND c2.credit_code = 'D'"
   ]
  },
  {
   "cell_type": "markdown",
   "metadata": {},
   "source": [
    "### **How many artists were there in the above query?**"
   ]
  },
  {
   "cell_type": "code",
   "execution_count": null,
   "metadata": {},
   "outputs": [],
   "source": [
    "%%sql\n",
    "WITH multiple_credits AS (\n",
    "  SELECT artists.name,movies.title\n",
    "  FROM credits\n",
    "        JOIN artists USING (artistID)\n",
    "        JOIN movies USING (movieID)\n",
    "  GROUP BY artistID,movieID,artists.name,movies.title\n",
    "  HAVING count(*)>1\n",
    ")\n",
    "SELECT COUNT(*) AS `actors who are also directors`\n",
    "FROM multiple_credits"
   ]
  },
  {
   "cell_type": "markdown",
   "metadata": {
    "id": "qVL7n_Rys_95"
   },
   "source": [
    "---\n",
    "## **Congratulations! You've made it to the end of Lesson 5.**\n",
    "\n",
    "We have covered the essential theory of Entity Relationship Modeling. It is surprisingly concise! However, there is also an art to ER modeling that is hard to develop without practice.### **Which artists were both actors and directors in movies released in 1996? (That's actor and director in the same movie.)**\n"
   ]
  }
 ],
 "metadata": {
  "colab": {
   "authorship_tag": "ABX9TyP7KehTPtZ8AsC+x0bIKVb1",
   "mount_file_id": "11MBPducEj0HgT0u-nrCE60AvHJQnPR3y",
   "provenance": []
  },
  "kernelspec": {
   "display_name": "Python 3 (ipykernel)",
   "language": "python",
   "name": "python3"
  },
  "language_info": {
   "codemirror_mode": {
    "name": "ipython",
    "version": 3
   },
   "file_extension": ".py",
   "mimetype": "text/x-python",
   "name": "python",
   "nbconvert_exporter": "python",
   "pygments_lexer": "ipython3",
   "version": "3.8.15"
  }
 },
 "nbformat": 4,
 "nbformat_minor": 4
}
