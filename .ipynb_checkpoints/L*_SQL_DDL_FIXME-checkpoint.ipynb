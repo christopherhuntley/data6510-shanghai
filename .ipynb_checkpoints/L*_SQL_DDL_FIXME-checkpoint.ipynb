{
  "nbformat": 4,
  "nbformat_minor": 0,
  "metadata": {
    "colab": {
      "name": "L7_SQL_DDL.ipynb",
      "provenance": [],
      "collapsed_sections": [],
      "mount_file_id": "11MBPducEj0HgT0u-nrCE60AvHJQnPR3y",
      "authorship_tag": "ABX9TyM/5bg73LD29CIbLctY4yF5"
    },
    "kernelspec": {
      "name": "python3",
      "display_name": "Python 3"
    }
  },
  "cells": [
    {
      "cell_type": "markdown",
      "metadata": {
        "id": "5rHzwUorF5ab"
      },
      "source": [
        "<img src=\"https://github.com/christopherhuntley/DATA6510/blob/master/img/Dolan.png?raw=true\" width=\"180px\" align=\"right\">\n",
        "\n",
        "# **DATA 6510**\n",
        "# **Lesson 7: SQL DDL** \n",
        "_Logical Design in SQL._\n",
        "\n",
        "## **Learning Objectives**\n",
        "### **Theory / Be able to explain ...**\n",
        "- SQL data types, constraints, and triggers\n",
        "- Cascading updates and delete to prevent referential integrity violations\n",
        "- Logical design decisions to convert data models into table schema\n",
        "\n",
        "### **Skills / Know how to ...**\n",
        "- Write SQL DDL code to create, modify, and drop tables\n",
        "- Identify various types of SQL DDL statements\n",
        "\n",
        "\n",
        "--------\n",
        "## **LESSON 7 HIGHLIGHTS**"
      ]
    },
    {
      "cell_type": "code",
      "metadata": {
        "id": "I95WVwkCnTJF",
        "colab": {
          "base_uri": "https://localhost:8080/",
          "height": 580
        },
        "cellView": "form",
        "outputId": "ea6d03b6-6fa4-4388-a29c-d1e56d6ae554"
      },
      "source": [
        "#@title Run this cell if video does not appear\n",
        "%%html\n",
        "<div style=\"max-width:1000px\">\n",
        "  <div style=\"position: relative;padding-bottom: 56.25%;height: 0;\">\n",
        "    <iframe style=\"position: absolute;top: 0;left: 0;width: 100%;height: 100%;\" rel=\"0\" modestbranding=\"1\"  src=\"https://www.youtube.com/embed/U_zMsL6JmFc\" frameborder=\"0\" allow=\"accelerometer; autoplay; encrypted-media; gyroscope; picture-in-picture\" allowfullscreen></iframe>\n",
        "  </div>\n",
        "</div>"
      ],
      "execution_count": null,
      "outputs": [
        {
          "output_type": "display_data",
          "data": {
            "text/html": [
              "<div style=\"max-width:1000px\">\n",
              "  <div style=\"position: relative;padding-bottom: 56.25%;height: 0;\">\n",
              "    <iframe style=\"position: absolute;top: 0;left: 0;width: 100%;height: 100%;\" rel=\"0\" modestbranding=\"1\"  src=\"https://www.youtube.com/embed/U_zMsL6JmFc\" frameborder=\"0\" allow=\"accelerometer; autoplay; encrypted-media; gyroscope; picture-in-picture\" allowfullscreen></iframe>\n",
              "  </div>\n",
              "</div>"
            ],
            "text/plain": [
              "<IPython.core.display.HTML object>"
            ]
          },
          "metadata": {
            "tags": []
          }
        }
      ]
    },
    {
      "cell_type": "markdown",
      "metadata": {
        "id": "aVKAjKlGheMm"
      },
      "source": [
        "---\n",
        "## **BIG PICTURE: The SQL Fine Print**\n",
        "In the early stages of systems design we go to great pains to separate design models from technical implementation details. We see this in database design most starkly. While the relational model defines domains and codomains, it does not address data types. ER diagrams can model concepts that can't actually be implemented in relational databases without a translation step. Even the rigorous laws of the normalization process come with plenty of exceptions to allow for special cases. We can define even more normal forms but at some point it just makes sense to get on with implementation. \n",
        "\n",
        "Now it is finally time to put all those details back in. There is a lot more to SQL than just `SELECT` queries!\n",
        "\n",
        "SQL is both a language and a platform. The language is a place for logical design. We create tables and define all the necessary rules to keep our data clean and informative. We then use yet more SQL to populate and maintain the tables. That's all built into the SQL language and is for the most part derived from the Relational Data Model. \n",
        "\n",
        "The SQL platform is 100% about implementation. Where does the data reside? How is it backed up? Who has access to the data and what are they allowed to do once they get there? These things are also supported in the SQL language, *even though they are technically not part of the Relational Database Model*. \n",
        "\n",
        "In this lesson we will cover SQL Data Definition Language (DDL) statements needed to implement a database design. But first, we will review some of the logical design details we didn't cover in module 3. \n",
        " "
      ]
    },
    {
      "cell_type": "markdown",
      "metadata": {
        "id": "NekcmKiCsxQm"
      },
      "source": [
        "---\n",
        "## **Logical Design Decisions**\n",
        "\n",
        "In this section we review a few logical design issues with SQL code implications.\n",
        "\n",
        "What's logical design again? Didn't we already cover that? \n",
        "\n",
        "Logical design is about making decisions that **may be difficult to undo afterwards.** Before we incur the technical debt $-$ note that debt here is not about money but having options $-$ we want to be very sure that we have the conceptual requirements correct. Logical design goes past that, finally spending the technical capital we have built up through our conceptual design work.\n",
        "\n",
        "### **Coding Conventions**\n",
        "> There are only two hard things in Computer Science: cache invalidation and naming things. -- Phil Karlton\n",
        "\n",
        "In order to minimize typo bugs and reduce the mental burden for SQL users, it is important to always follow a consistent naming convention. It should be possible to *just know* if a query has a typo bug or a given column is likely to be spelled a certain way without having to read documentation. That's where conventions come into play. \n",
        "\n",
        "In the old days when most SQL coders were coming from COBOL or Fortran backgrounds, most developers followed naming conventions like:\n",
        "- Table names in `ALL_CAPS`\n",
        "- Column names in `Initial_Caps`\n",
        "- Short but descriptive names for everything, like variables in another language\n",
        "- All table and columns names in the singular form\n",
        "\n",
        "However, as the old languages died out, SQL coders began to ignore the old naming conventions in favor of a style more like what they were used to:\n",
        "- Table names with `Initial_Caps` (or `no_caps_at_all`)\n",
        "- Column names in `lower_case_letters`\n",
        "- Longer table names, especially in big databases with *thousands* of tables\n",
        "- Collective (plural) table names and scalar (singular) column names\n",
        "\n",
        "Names are important but not all of the story here. Coding *style* matters too. By being consistent and intentional, we can actually eliminate bugs! Some examples:\n",
        "- Use uppercase for SQL keywords like `SELECT` or `AS`. This makes it clear what parts of a statement are syntax versus names of things. That way the next coder will know where to look for typos. \n",
        "- Avoid long lines of text. Instead, break statements into logical chunks (e.g., clauses in a `SELECT` query), one line at a time. Use indentation to indicate that a statement continues onto the next line. \n",
        "- When choosing data types, always prefer the standard ones over vendor-specific ones *unless* there is a major performance benefit and you don't mind being locked into a specific vendor's products forever.\n",
        "\n",
        "For what it's worth, there are [style guides](https://www.sqlstyle.guide/) that dictate many of these rules so we don't have to decide. Pick a set of rules and then be consistent. SQL itself doesn't care, but every other SQL coder who works with you certainly will. \n",
        "\n",
        " \n"
      ]
    },
    {
      "cell_type": "markdown",
      "metadata": {
        "id": "Wz-90R2ZFVAz"
      },
      "source": [
        "### **Data Types** \n",
        "\n",
        "The ANSI SQL standard defines a bunch of data types, grouped here into into five kinds:\n",
        "- Binary \n",
        "  - `BOOLEAN`: True or False\n",
        "  - `BLOB` (Binary Large Object): Images and other binary data\n",
        "- Text\n",
        "  - `CHAR`: Strings of text of a fixed length\n",
        "  - `VARCHAR`: Strings of text of variable but limited length\n",
        "  - `CLOB` (Character Large Object): Strings of text without a maximum length (may affect performance)\n",
        "- Integer Numbers\n",
        "  - `INTEGER`: A standard integer with a maximum value \n",
        "  - `SMALLINT`: A space-saving version of `INTEGER` with a smaller maximum value\n",
        "  - `BIGINT`: integers without a maximum value (may affect performance) \n",
        "- Decimal Numbers\n",
        "  - `DECIMAL`: classic fixed precision rational numbers\n",
        "  - `FLOAT`: floating point numbers with a maximum precision\n",
        "  - `REAL`: floating point without limited precision (may affect performance) \n",
        "- Temporal Data\n",
        "  - `DATE`: Calendar dates\n",
        "  - `TIME`: Time of day\n",
        "  - `TIMESTAMP`: Date plus time; some DBMSes also have `DATETIME` type\n",
        "  - `INTERVAL`: Used for times between temporal values\n",
        "\n",
        "While these types are \"standard\" not every DBMS vendor supports them all. The following are generally safe \"consensus\" choices that should survive a migration from one SQL dialect to another: \n",
        "- `VARCHAR`\n",
        "- `INTEGER`\n",
        "- `DECIMAL`\n",
        "- `DATE`\n",
        "- `TIMESTAMP`\n",
        "\n",
        "Even with these are some surprises, like that `TIMESTAMP` has special meaning in MySQL or that SQLite doesn't have a `DATE` type at all. \n",
        "\n",
        "**Always RTFM for the DBMS you are working with beforehand. Then bookmark the relevant sections so you can refer back when needed.**"
      ]
    },
    {
      "cell_type": "markdown",
      "metadata": {
        "id": "FDWxUbP_K0cj"
      },
      "source": [
        "### **Indexes and Keys**\n",
        "Indexes and keys were discussed in Lesson 4. The keys decisions usually come down to:\n",
        "- **Create a surrogate primary key or use existing columns?** As a general rule we prefer surrogate keys, but there may be legitimate reasons for not doing so. For example, cross tables derived from associative entities (see *Converting ERDs to Relations* in Lesson 6) will often use a composite primary key composed of the table's *foreign keys*. That's a matter of preference, however. \n",
        "- **Create indexes for selected non-key columns to allow fast lookups?** The advantage is speed but the storage costs for the indexes can be significant. So, be judicious with indexes, using them only when the cost can be justified.\n",
        "- **How do we want to enforce referential integrity for the foreign keys?** This is best addressed with constraint actions, as explained in the next section. "
      ]
    },
    {
      "cell_type": "markdown",
      "metadata": {
        "id": "erfA-rZ9FYNE"
      },
      "source": [
        "### **Column Constraints**\n",
        "\n",
        "A **constraint** is a rule that must be satisfied. SQL constraints are of two types:\n",
        "- Rules that apply to a single column value\n",
        "- Rules that involve multiple columns, rows, or tables\n",
        "\n",
        "Here we will consider the former, leaving the latter for Lesson 8. \n",
        "\n",
        "Single-column constraints set rules for handling the kinds of special cases we can spot on an ER model:\n",
        "![Minimum Cardinalities](https://github.com/christopherhuntley/DATA6510/raw/master/img/L6_Min_Cardinalities.png)\n",
        "\n",
        "- Is the column value mandatory or can we leave it blank? Is there a default value to use if the value is not specified? \n",
        "- Do values in the column have to be unique?\n",
        "- Is a column \"domain native\" or auto-numbered like a surrogate key? \n",
        "- Is the column a primary key (with all that entails)?\n",
        "- Is the column a foreign key? If so, what does it refer to? \n",
        "- What should we do if an action would violate referential integrity?\n",
        "\n",
        "The last issue, where updating or deleting a table row would trigger a referential integrity violation, has four possible **constraint actions**:\n",
        "- **Cascade Update**: if the key of the foreign entity has changed then update the column to match.\n",
        "- **Cascade Delete**: if the foreign entity has been deleted, then also delete any rows with referential integrity constraints; use this for mandatory parent-child relationships.\n",
        "- **Set Null**: if the foreign key column allows null values, then set the value to null if needed; use this when the relationship is optional.\n",
        "- **Restrict**: throw an error; this is the default rule, used when none of the above apply. \n",
        "\n",
        "For obvious reasons, we would prefer not to throw errors (i.e., halt a transaction) if there is some other way to protect the data. \n",
        "\n",
        "\n",
        "\n"
      ]
    },
    {
      "cell_type": "markdown",
      "metadata": {
        "id": "EDSvJAd3atPB"
      },
      "source": [
        "---\n",
        "## **SQL `CREATE TABLE` (and `DROP TABLE`) Statements**\n",
        "\n",
        "Like we did in Lesson 2, we will start a minimal table definition and add features as we go along. \n",
        "\n",
        "**Heads Up:** The examples given below are based on MySQL syntax. There may be minor differences if using another SQL dialect. As always, check the manual to be sure.\n",
        "\n",
        "### **Column Names and Data Types**\n",
        "The minimal syntax to create a new table in SQL is\n",
        "```sql\n",
        "CREATE TABLE  tablename (\n",
        "  column1 datatype1,\n",
        "  column2 datatype2,\n",
        "  ...\n",
        ");\n",
        "```\n",
        "\n",
        "- `column1`, `column2`, are the column names.\n",
        "- `datatype1`, `datatype2`, ... are SQL data types, which can be DMBS vendor specific.\n",
        "- There is no `,` after the last column. \n",
        "- Unless backticks \\``like this`\\` are used, all names must follow requirements (no spaces,etc.) and conventions (lowercase, etc.). \n",
        "\n",
        "> Some database administrators always use backticks around names. However, this practice affects readability of the code and, further, can cause seemingly nonsensical errors when a code forgets the trailing backtick on a name. It's an easy mistake; just typing a quote where you meant to have a backtick can cause lots of code immediately after the quote to become invisible to the SQL interpreter. The code becomes part of the name instead of the name being part of the code. \n",
        "\n",
        "Here is a snippet from the baseball database with just column definitions:\n",
        "```sql\n",
        "CREATE TABLE `Batting` (\n",
        "  `playerID` varchar(255),\n",
        "  `yearID` int(11),\n",
        "  `stint` int(11),\n",
        "  `teamID` varchar(255),\n",
        "  `lgID` varchar(255),\n",
        "  `G` int(11),\n",
        "  `AB` int(11),\n",
        "  `R` int(11),\n",
        "  ...\n",
        ");\n",
        "```\n",
        "\n",
        "- Note that the data types are in lowercase. However, since most editors (but not `%%sql` magic in Colab) support text coloring to show keywords, this is not as big a deal as it used to be. \n",
        "- Also, the `int(11)` data type is an older version of the `INTEGER` data type. (In fact `INTEGER` is an alias for `int(11)`. The implementation is the same, but that may change in the future.) For forward compatibility, new databases should use the more the modern `INTEGER` data type instead. \n",
        "\n",
        "### **Column Constraints**\n",
        "```sql \n",
        "CREATE TABLE  tablename (\n",
        "  column1 datatype1 constraint1,\n",
        "  column2 datatype2 constraint2,\n",
        "  ...\n",
        ");\n",
        "```\n",
        "\n",
        "Constraints generally come in four varieties:\n",
        "- `NOT NULL`\n",
        "- `UNIQUE`\n",
        "- `DEFAULT` defaultvalue\n",
        "- `AUTO_INCREMENT` (in MySQL, though other vendors use different names)\n",
        "\n",
        "It is possible to chain constraints one after another. `NOT NULL UNIQUE` happens to work the same as `PRIMARY KEY`. \n",
        "\n",
        "Once again, here is the `Batting` table from the baseball database.\n",
        "```sql\n",
        "CREATE TABLE `Batting` (\n",
        "  `playerID` varchar(255) NOT NULL,\n",
        "  `yearID` int(11) NOT NULL,\n",
        "  `stint` int(11) DEFAULT 1,\n",
        "  `teamID` varchar(255) NOT NULL,\n",
        "  `lgID` varchar(255) DEFAULT NULL,\n",
        "  `G` int(11) DEFAULT 0,\n",
        "  `AB` int(11) DEFAULT 0,\n",
        "  `R` int(11) DEFAULT 0,\n",
        "  ...\n",
        ");\n",
        "```\n",
        "\n",
        "### **Indexes**\n",
        "We can index a column with a special index constraint, usually located after all the column definitions. \n",
        "\n",
        "```sql \n",
        "CREATE TABLE  tablename (\n",
        "  column1 datatype1 constraint1,\n",
        "  column2 datatype2 constraint2,\n",
        "  column3 datatype3 constraint3,\n",
        "  ...\n",
        "  INDEX (column2,column3)\n",
        ");\n",
        "```\n",
        " \n",
        "- The `INDEX` constraint can include any subset of the columns. It will index each *combination* of the column values it finds.\n",
        "- There can be multiple `INDEX` constraints. \n",
        "- Some SQL dialects require indexes and constraints to be given unique names. \n",
        "\n",
        "### **Primary Keys**\n",
        "There are actually two ways to define a primary key, depending on how many columns are involved.\n",
        "\n",
        "**One PK Column: in the column definition**\n",
        "\n",
        "```sql \n",
        "CREATE TABLE  tablename (\n",
        "  pkcolumn datatype1 constraint1 PRIMARY KEY,\n",
        "  column2 datatype2 constraint2,\n",
        "  ...\n",
        ");\n",
        "```\n",
        "\n",
        "\n",
        "**Composite PK: as a separate index constraint**\n",
        " \n",
        "```sql \n",
        "CREATE TABLE  tablename (\n",
        "  pkcolumn1 datatype1 constraint1,\n",
        "  pkcolumn2 datatype2 constraint2,\n",
        "  column3 datatype3 constraint3,\n",
        "  ...\n",
        "  PRIMARY KEY (pkcolumn1,pkcolumn2)\n",
        ");\n",
        "```\n",
        "\n",
        "**This syntax also works, of course, if there is only one PK column.**\n",
        "\n",
        "Just to be different, SQLite has a special column definition syntax just for surrogate keys:\n",
        "```\n",
        "pkcolumn INTEGER PRIMARY KEY\n",
        "```\n",
        "\n",
        "This creates the surrogate key as an alias of the automatically-generated `rowid` index column.\n",
        "\n",
        "Here's is the `Batting` table again:\n",
        "\n",
        "```sql\n",
        "CREATE TABLE `Batting` (\n",
        "  `playerID` varchar(255) NOT NULL,\n",
        "  `yearID` int(11) NOT NULL,\n",
        "  `stint` int(11) DEFAULT 1,\n",
        "  `teamID` varchar(255) NOT NULL,\n",
        "  ...\n",
        "  PRIMARY KEY (`playerID`,`yearID`,`stint`, `teamID`)\n",
        ");\n",
        "``` \n",
        "\n",
        "### **Foreign Keys**\n",
        "Foreign keys work a lot like indexes and primary keys, except there are special rules for handling referential integrity. They are actually a kind of constraint, this time on the entire table instead of just one column. (Otherwise, how would composite foreign keys work?)\n",
        "\n",
        "```sql\n",
        "CREATE TABLE tablename (\n",
        "  ...\n",
        "  fkcolumn datatype_fk constraint_fk,\n",
        "  FOREIGN KEY (fkcolumn) REFERENCES ftable (fpk)\n",
        "    ON DELETE delete_action\n",
        "    ON UPDATE update_action\n",
        ");\n",
        "```\n",
        "\n",
        "- Foreign key columns like `fkcolumn` must be defined before the `FOREIGN KEY` constraint, with a data type and possibly column constraints\n",
        "- If a foreign key is a composite, then define each of the columns and then list them all inside the constraint\n",
        "- `ftable` is the name of the foreign table\n",
        "- `fpk` is the primary key of the foreign table; composite primary keys can be used.\n",
        "- `ON DELETE` and `ON UPDATE` are both optional; if included the `update_action` and `delete_action` are always one of `CASCADE`,`SET NULL`, or `RESTRICT` (throw an error). Almost always we want `CASCADE`. \n",
        "- There can be multiple foreign keys. If a given column has multiple foreign keys then you should give the constraint a name.\n",
        "\n",
        "Here is the `Batting` table again.\n",
        "\n",
        "```sql\n",
        "CREATE TABLE `Batting` (\n",
        "  `playerID` varchar(255) NOT NULL,\n",
        "  `yearID` int(11) NOT NULL,\n",
        "  `stint` int(11) DEFAULT 1,\n",
        "  `teamID` varchar(255) NOT NULL,\n",
        "  ...\n",
        "  PRIMARY KEY (`playerID`,`yearID`,`stint`,`teamID`),\n",
        "  FOREIGN KEY (`playerID) REFERENCES `Master` (`playerID`)\n",
        "    ON DELETE CASCADE\n",
        "    ON UPDATE CASCADE\n",
        ");\n",
        "```\n",
        "\n",
        "### **Removing a table with `DROP TABLE`**\n",
        "\n",
        "Dropping a table will remove all traces of a table from the database. The syntax is:\n",
        "```sql\n",
        "DROP TABLE tablename;\n",
        "```\n",
        "\n",
        "This will throw an error if the table doesn't exist. So, most of the time we use this syntax instead: \n",
        "\n",
        "```sql\n",
        "DROP TABLE IF EXISTS tablename;\n",
        "```\n",
        "\n",
        "When would we ever need to drop a table? \n",
        "- To remove temporary tables intended to be used just for the duration of some complex database operation.\n",
        "- When reloading a database from a backup, we will want to clear out old table definitions. \n",
        "- While in the earliest drafts of our code, when the table definitions are in flux, it's often easier to recreate a table from scratch (by rerunning the code) than to alter a table in place. \n",
        "\n",
        "\n",
        "\n",
        "\n",
        "\n",
        "\n",
        "\n",
        "\n",
        "\n",
        "\n",
        "\n",
        "\n",
        "\n",
        "\n",
        "\n",
        "\n",
        "\n",
        "\n",
        "\n",
        "\n"
      ]
    },
    {
      "cell_type": "markdown",
      "metadata": {
        "id": "_AYIvnUVaYuB"
      },
      "source": [
        "---\n",
        "## **SQL `ALTER TABLE` Statements**\n",
        "\n",
        "It is possible to modify a table after it has been created, provided the changes don't violate an integrity constraint. Possibilities include:\n",
        "- Adding new columns\n",
        "- Modifying column names, data types, constraints\n",
        "- Removing a column\n",
        "- Adding or dropping indexes (primary keys, foreign keys, etc.) \n",
        "- Adding or dropping other kinds of table constraints\n",
        "\n",
        "Given the similarities to `CREATE TABLE` statements, the following is given without further comment. \n",
        "\n",
        "### **Adding a New Column**\n",
        "\n",
        "```sql\n",
        "ALTER TABLE tablename \n",
        "  ADD COLUMN columnname datatype constraints;\n",
        "```\n",
        "\n",
        "### **Modifying a Column Data Type or Constraints**\n",
        "```sql\n",
        "ALTER TABLE tablename \n",
        "  MODIFY COLUMN old_columnname new_columnname datatype constraints;\n",
        "```\n",
        "\n",
        "### **Renaming a Column**\n",
        "```sql\n",
        "ALTER TABLE tablename \n",
        "  CHANGE COLUMN columnname datatype constraints;\n",
        "```\n",
        "\n",
        "### **Dropping a Column**\n",
        "```sql\n",
        "ALTER TABLE tablename \n",
        "  DROP COLUMN columnname;\n",
        "```\n",
        "\n",
        "### **Adding an Index or Key**\n",
        "```sql\n",
        "ALTER TABLE tablename ADD PRIMARY KEY (pkcol);\n",
        "ALTER TABLE tablename ADD INDEX (indexcolumn);\n",
        "ALTER TABLE tablename \n",
        "  ADD FOREIGN KEY (fkcolumn) \n",
        "    REFERENCES ftable (fpk);\n",
        "```"
      ]
    },
    {
      "cell_type": "markdown",
      "metadata": {
        "id": "XPw9r9OmqE4E"
      },
      "source": [
        "---\n",
        "## **SQL Admin Utilities**\n",
        "Some SQL DDL statements go beyond the relational model. These are typically for database administration tasks that are invisible to most users. \n",
        "\n",
        "### **`USE`, `CREATE DATABASE`, and `DROP DATABASE` Statements**\n",
        "When working with multiple database connections, it can be useful to switch between them as needed with the `USE` statement:\n",
        "```sql\n",
        "USE databasename;\n",
        "```\n",
        "The databasename is usually returned when establishing a database connection. \n",
        "\n",
        "If the database does not exist, then we can create one:\n",
        "```sql\n",
        "CREATE DATABASE databasename;\n",
        "```\n",
        "\n",
        "Finally, we can drop a database if we no longer need it anymore:\n",
        "```sql\n",
        "DROP DATABASE databasename;\n",
        "```\n",
        "\n",
        "For obvious reasons, the `CREATE DATABASE` and `DROP DATABASE` commands generally require special administrator permissions within the DBMS. \n",
        "\n",
        "### **`GRANT` and `REVOKE` Statements**\n",
        "With the exception of SQLite and MS Access, every other major database system has user access controls that grant permissions for certain actions.\n",
        "\n",
        "Permissions are granted on a per database and per table basis.\n",
        "\n",
        "```sql\n",
        "GRANT sql_actions ON databasename.tablename TO username@location IDENTIFIED BY password\n",
        "```\n",
        "- `sql_actions` is a list of allowed SQL statements (`SELECT`, etc.). Use `ALL` to allow all possible actions.\n",
        "- The `databasename` and tablename can use `*` wildcards.\n",
        "- The `username` only exists in the DBMS; it is not a user account in the OS. \n",
        "- The `location` is usually `localhost`, which means the database is on the same server (host) as the SQL client. That would generally be true for a web server, for example. However, the `location` can also be an IP address (or wildcard) if the user is accessing the database remotely.\n",
        "- The password is stored in the DBMS itself, in an encrypted format. \n",
        "- The `GRANT` statement should not be in version control. If you know what that means then you'll understand why. \n",
        "\n",
        "The reverse of `GRANT` is `REVOKE`.\n",
        "```sql\n",
        "REVOKE sql_actions ON databasename.tablename FROM username@location;\n",
        "```\n",
        "\n",
        "### **Vacuuming out Indexes and other Stale data**\n",
        "When data is added to an indexed column, the database has to update its index accordingly. It's a relatively expensive but necessary operation. However, when we delete data from an indexed column, there is almost harm to just leaving the data in the index, skipping over it instead of deleting it. That avoids the cost of updating the index. \n",
        "\n",
        "We call this sort of thing a **soft delete**. A soft delete marks data for deletion at a later time, when it won't delay more important and timely operations. It is often quicker to delete lots of things at once than to delete them one at a time. \n",
        "\n",
        "At some point however, soft deletes can make our tables like an episode of *Hoarders*, with lots of leftover artifacts to navigate around. Everything then grinds to halt. \n",
        "\n",
        "Vacuuming is the process of rebuilding an index (or sometimes a whole table) to eliminate all the soft deletes. For a large database, this process may take a while. This is the kind of thing a database administrator will schedule for the middle of the night when it will affect the fewest users. \n",
        "\n",
        "Vacuuming out stale data is implemented in various ways, depending on the vendor. However, both PostreSQL and SQLite support a one line SQL command that handles all tables in the database.\n",
        "\n",
        "```sql\n",
        "VACUUM;\n",
        "```\n",
        "\n",
        "### **Metadata Queries**\n",
        "One of the convenient features of SQL is that **databases contain their own metadata about themselves**. This allows a lot of this structural information to be accessed in SQL queries. \n",
        "\n",
        "Unfortunately, how to access the metadata varies from vendor to vendor. For example:\n",
        "- In MySQL, information about tables, columns, etc. is kept in the `INFORMATION_SCHEMA` database. The user has to be granted permissions to it like any other database. Alternatively, if we want a list of tables in the current database, we can use the MySQL-specific `SHOW TABLES` and `DESCRIBE` statements. \n",
        "- In SQLite, we can use the `pragma.table_info()` function within a `SELECT` statement to get information about the columns of a specific table. To get a list of all tables, we query the `sqlite_master` table.  \n",
        "\n",
        "### **Dump Files**\n",
        "Databases systems are not like other software you may have encountered before. They are **always** reading and writing from/to storage. Thus, making a backup is not simply a matter of shutting down the DBMS and copying some files. That would both take the applications they support offline and possibly corrupt data. \n",
        "\n",
        "Instead, the DBMS provides a way to export the current state of the database to disk as a *dump file*. A dump file is a (possibly very very long) list of SQL statements that recreate the database. These files can then be archived like any other file. If needed the database can be loaded (or reloaded) from a dump file. \n",
        "\n",
        "Since dump files are written in SQL, this gives the database administrator the ability to rewrite the SQL when migrating the data from one SQL dialect to another. So, if Oracle does things differently from Microsoft SQL Server, then the SQL syntax, data types, etc. in the dump files are adjusted accordingly. \n",
        "\n"
      ]
    },
    {
      "cell_type": "markdown",
      "metadata": {
        "id": "DKpvT0vaTrwH"
      },
      "source": [
        "---\n",
        "## **Movies Tonight, Part 3**\n",
        "\n",
        "We continue the Movies Tonight case by converting the ERD and relations into SQLite DDL code. The database will reside in Google Drive so that in Lesson 8 we can continue right where we left off. Please run any code cells you find. They will do the work but only if you run them. \n",
        "\n",
        "### **Conceptual Design**\n",
        "![ERD from Lesson 5](https://github.com/christopherhuntley/DATA6510/raw/master/img/L6_MoviesTonight_v2.png)\n",
        "\n",
        "- `Artist(`**`artistID`**, `name)`\n",
        "- `Movie(`**`movieID`**, `title,rating)`\n",
        "- `Theater(`**`theaterID`**, `name, location, phone)`\n",
        "- `Credit(`**`creditID`**, `ccode`, <u>`movieID`</u>,<u>`artistID`</u>`)`\n",
        "- `Show(`**`showID`**, `showtime`, <u>`movieID`</u>,<u>`theaterID`</u>`)` \n",
        "\n",
        "### **System Admin Tasks**\n",
        "\n",
        "The code below creates a folder in Google Drive for our SQLite database. \n",
        "\n",
        "\n",
        "\n",
        "\n",
        "\n",
        "\n",
        "\n",
        "\n",
        "\n"
      ]
    },
    {
      "cell_type": "code",
      "metadata": {
        "id": "c9bA8GVFP2-a",
        "colab": {
          "base_uri": "https://localhost:8080/"
        },
        "outputId": "ed7f9b35-84a4-4d8d-ba97-34ea5d93f41c"
      },
      "source": [
        "# Mount Google Drive\n",
        "from google.colab import drive\n",
        "drive.mount('/content/drive')\n",
        "\n",
        "# Create the DATA6510/data/MoviesTonight folder in Google Drive\n",
        "from pathlib import Path\n",
        "data_root = Path(\"./drive/My Drive/Colab Notebooks/DATA6510\")\n",
        "if not data_root.exists():\n",
        "  print(\n",
        "      '''\n",
        "      Warning! The folder '/Colab Notebooks/DATA6510' could not be found in the connected Google Drive. \n",
        "      Please make 100% sure that both Colab and Chrome are set up use your @student.fairfield.edu account. \n",
        "      For now, a new folder with the correct path has been created in whatever Google Drive it found. \n",
        "      ''')\n",
        "data_root = data_root / 'data' / 'MoviesTonight'\n",
        "data_root.mkdir(parents=True, exist_ok=True)"
      ],
      "execution_count": null,
      "outputs": [
        {
          "output_type": "stream",
          "name": "stdout",
          "text": [
            "Drive already mounted at /content/drive; to attempt to forcibly remount, call drive.mount(\"/content/drive\", force_remount=True).\n"
          ]
        }
      ]
    },
    {
      "cell_type": "markdown",
      "metadata": {
        "id": "TtxsS59QQbKm"
      },
      "source": [
        "This cell creates a symlink so that SQLite can find the new Google Drive folder. "
      ]
    },
    {
      "cell_type": "code",
      "metadata": {
        "id": "eHAm_VbbRB8K",
        "colab": {
          "base_uri": "https://localhost:8080/"
        },
        "outputId": "8d72e772-4e29-4227-adad-fd45009eb0bf"
      },
      "source": [
        "%%bash\n",
        "ln -s drive/My\\ Drive/Colab\\ Notebooks/DATA6510 data6510"
      ],
      "execution_count": null,
      "outputs": [
        {
          "output_type": "stream",
          "name": "stderr",
          "text": [
            "ln: failed to create symbolic link 'data6510/DATA6510': File exists\n"
          ]
        }
      ]
    },
    {
      "cell_type": "markdown",
      "metadata": {
        "id": "KDybCiooRc4-"
      },
      "source": [
        "The Google Drive ready to hold our data, we now move on to setting up %%sql magic and SQLite. While we are at it, we will create the new database file. "
      ]
    },
    {
      "cell_type": "code",
      "metadata": {
        "id": "cVYV_R8YRo9b",
        "colab": {
          "base_uri": "https://localhost:8080/",
          "height": 70
        },
        "outputId": "9028d13d-1823-44e2-e34e-ec97729fbf0e"
      },
      "source": [
        "# Load %%sql magic\n",
        "%load_ext sql\n",
        "\n",
        "# Standard Imports\n",
        "import sqlite3\n",
        "import pandas as pd\n",
        "\n",
        "# Database connection\n",
        "%sql sqlite:///data6510/data/MoviesTonight/MoviesTonight.db"
      ],
      "execution_count": null,
      "outputs": [
        {
          "output_type": "stream",
          "name": "stdout",
          "text": [
            "The sql extension is already loaded. To reload it, use:\n",
            "  %reload_ext sql\n"
          ]
        },
        {
          "output_type": "execute_result",
          "data": {
            "application/vnd.google.colaboratory.intrinsic+json": {
              "type": "string"
            },
            "text/plain": [
              "'Connected: @data6510/data/MoviesTonight/MoviesTonight.db'"
            ]
          },
          "metadata": {},
          "execution_count": 6
        }
      ]
    },
    {
      "cell_type": "markdown",
      "metadata": {
        "id": "KT9a1MD0P1bN"
      },
      "source": [
        "### **SQL Table Definitions**\n",
        "With the database initialized and ready for input, we can define the tables all at once in a single cell. \n",
        "\n",
        "- Notice the order in which the tables are defined. The strong entities come before the weak ones. We will load data in that order as well.\n",
        "- Comments are used to tell us what the code does and why.\n",
        "- `DROP TABLE` statements are used to clear out everything so we can start over. The effect is that we can rerun the code whenever we like without triggering any errors. "
      ]
    },
    {
      "cell_type": "code",
      "metadata": {
        "id": "Q7691pqtSw6M",
        "colab": {
          "base_uri": "https://localhost:8080/"
        },
        "outputId": "354a3dde-e968-4bad-9b98-d7545ede0623"
      },
      "source": [
        "%%sql\n",
        "\n",
        "/* ------ Table Definitions ----------*/\n",
        "\n",
        "-- The theaters table \n",
        "\n",
        "DROP TABLE IF EXISTS theaters;    -- Start over from scratch\n",
        "CREATE TABLE theaters(\n",
        "  theaterID INTEGER PRIMARY KEY,  -- SQLites uses this syntax for surrogate keys\n",
        "  name TEXT NOT NULL,             -- SQLite uses TEXT datatype for all text\n",
        "  location TEXT NOT NULL,\n",
        "  phone TEXT\n",
        ");\n",
        "\n",
        "-- The movies table\n",
        "\n",
        "DROP TABLE IF EXISTS movies;\n",
        "CREATE TABLE movies (\n",
        "  movieID INTEGER PRIMARY KEY,  \n",
        "  title TEXT NOT NULL,             \n",
        "  rating TEXT\n",
        ");\n",
        "\n",
        "-- The artists table\n",
        "\n",
        "DROP TABLE IF EXISTS artists;\n",
        "CREATE TABLE artists (\n",
        "    artistID INTEGER PRIMARY KEY,\n",
        "    name TEXT NOT NULL,\n",
        "    bio TEXT                       -- Included for future use\n",
        "); \n",
        "\n",
        "-- The shows table\n",
        "\n",
        "DROP TABLE IF EXISTS shows;\n",
        "CREATE TABLE shows (\n",
        "    showID INTEGER PRIMARY KEY,\n",
        "    showtime TEXT NOT NULL,        -- We may revisit the data type later\n",
        "    movieID INTEGER NOT NULL,\n",
        "    theaterID INTEGER NOT NULL,\n",
        "    FOREIGN KEY (movieID) REFERENCES movies (movieID)\n",
        "      ON DELETE CASCADE\n",
        "      ON UPDATE CASCADE,\n",
        "    FOREIGN KEY (theaterID) REFERENCES theaters (theaterID)\n",
        "      ON DELETE CASCADE\n",
        "      ON UPDATE CASCADE\n",
        ");\n",
        "\n",
        "-- The credits table\n",
        "\n",
        "DROP TABLE IF EXISTS credits;\n",
        "CREATE TABLE credits (\n",
        "    creditID INTEGER PRIMARY KEY,\n",
        "    credit_code TEXT NOT NULL,\n",
        "    movieID INTEGER NOT NULL,\n",
        "    artistID INTEGER NOT NULL,\n",
        "    FOREIGN KEY (movieID) REFERENCES movies (movieID)\n",
        "      ON DELETE CASCADE\n",
        "      ON UPDATE CASCADE,\n",
        "    FOREIGN KEY (artistID) REFERENCES artists (artistID)\n",
        "      ON DELETE CASCADE\n",
        "      ON UPDATE CASCADE\n",
        ");"
      ],
      "execution_count": null,
      "outputs": [
        {
          "output_type": "stream",
          "name": "stdout",
          "text": [
            " * sqlite:///data6510/data/MoviesTonight/MoviesTonight.db\n",
            "Done.\n",
            "Done.\n",
            "Done.\n",
            "Done.\n",
            "Done.\n",
            "Done.\n",
            "Done.\n",
            "Done.\n",
            "Done.\n",
            "Done.\n"
          ]
        },
        {
          "output_type": "execute_result",
          "data": {
            "text/plain": [
              "[]"
            ]
          },
          "metadata": {},
          "execution_count": 7
        }
      ]
    },
    {
      "cell_type": "markdown",
      "metadata": {
        "id": "www2vN5LTlDo"
      },
      "source": [
        "---\n",
        "## **PRO TIPS: How to create a table from existing CSV data**\n",
        "\n",
        "Importing data from files is often thought of as a database administrator function. However, analysts will find that they have to do this for themselves from time to time. \n",
        "\n",
        "The most common data text format for tabular data is CSV (comma separated values), which just about everything from Excel to Tableau, and even pandas can open with just a line or two. Unfortunately, SQL does not have native support for CSV files. Instead, each database vendor provided their own utilities, often included in a proprietary client app. None of that works in Colab, of course. \n",
        "\n",
        "Here we will consider two different ways to import CSV data from a file into a table. \n",
        "\n",
        "### **Import $\\rightarrow$ Dump $\\rightarrow$ Load**\n",
        "While we can't run desktop software in Colab, we can run it locally on our own computers and then upload to our databases in the cloud.\n",
        "\n",
        "For what follows we will assume that you are using MySQL or SQLite. \n",
        "\n",
        "**Step 1. Fire up a database client app connected to a local *mirror* copy of the database.** \n",
        "- In MySQL that means using [MySQL Workbench](https://www.mysql.com/products/workbench/) connected to a [MySQL server](https://www.mysql.com/products/standard/) running on your local computer. \n",
        "- In SQLite that means using the `sqlite3` [command line app](https://sqlite.org/cli.html) or a third-party package like [Sequel Pro](https://www.sequelpro.com/).\n",
        "\n",
        "**Step 2. Import the data.** \n",
        "- MySQL Workbench has a function just for this purpose. \n",
        "- In `sqlite3` we will need to set the mode to `csv` and then import the file. \n",
        "In both cases, a new table can be created if needed. Otherwise, data will be appended to an existing table. \n",
        "\n",
        "**Step 3. Export the data to a dump file.**\n",
        "- MySQL has a command line utility called `mysqldump` for this. Or, we can use the export features of the MySQL Workbench app. \n",
        "- In SQLite, we can just copy the database file itself. (We did this in Lesson 1, by the way.)\n",
        "\n",
        "**Step 4. Load the dump file to somewhere Colab can find it.**\n",
        "- For MySQL, upload the file to our cloud workspace (e.g., Google Drive). Then run the dump file by either i) copying the code into a cell or ii) using pandas (see below).\n",
        "- For SQLite, all we need to do is open a database connection. It's already loaded. \n",
        "\n",
        "**Please consider the Import $\\rightarrow$ Dump $\\rightarrow$ Load technique as a last resort. There are so many ways it could go wrong. The second technique is much easier, but you will need to know a few lines of Python first.** \n",
        "\n",
        "### **Using pandas**\n",
        "The pandas package knows all about CSV files. It can also connect to SQL databases. It's all in the [pandas IO docs](https://pandas.pydata.org/pandas-docs/stable/user_guide/io.html).\n",
        "\n",
        "The process then is exactly the same, regardless of the database vendor. The pandas package takes care of it all for us. \n",
        "\n",
        "**Step 1. Use `pd.read_csv()` to import the data into a `DataFrame`.** You may need to read through the [`pd.read_csv()` documentation](https://pandas.pydata.org/pandas-docs/stable/user_guide/io.html#io-read-csv-table) to get the data types and other details right. \n",
        "\n",
        "**Step 2. Use the `DataFrame.to_sql()` method to import the data to your database.**\n",
        "As with  `pd.read_csv()`, it might help to read the [`DataFrame.to_sql()` documenation](https://pandas.pydata.org/pandas-docs/stable/user_guide/io.html#io-sql). \n",
        "\n",
        "\n",
        "**We will see exactly this technique used for the Movies Tonight data in Lesson 8.**\n"
      ]
    },
    {
      "cell_type": "markdown",
      "metadata": {
        "id": "f65_eey7BvoV"
      },
      "source": [
        "---\n",
        "## **SQL AND BEYOND: SQLAlchemy and Object Relational Mapping**\n",
        "\n",
        "If we dig into the innards of `%%sql` magic we find that it is mostly a *wrapper* for [SQLAlchemy](https://www.sqlalchemy.org/), a Python library that does all the heavy lifting of connecting to databases, sending SQL requests, and formatting SQL responses. \n",
        "\n",
        "For example, the following Python code connects to our MoviesTonight database and displays metadata for the tables found inside.\n",
        "\n",
        "\n",
        "\n",
        "\n",
        "\n",
        "\n",
        "\n",
        "\n",
        "\n",
        "\n",
        "\n",
        "\n",
        " \n",
        "\n",
        "\n",
        "\n",
        "\n",
        "\n",
        "\n",
        "\n",
        "  \n",
        "\n",
        " \n",
        "\n",
        "\n",
        "\n",
        "\n",
        "\n",
        "\n"
      ]
    },
    {
      "cell_type": "code",
      "metadata": {
        "colab": {
          "base_uri": "https://localhost:8080/"
        },
        "id": "pPWwFJgYbYHG",
        "outputId": "6d5cbaaf-ade2-475e-e9cf-e775a70b9243"
      },
      "source": [
        "from sqlalchemy import create_engine\n",
        "engine = create_engine('sqlite:///data6510/data/MoviesTonight/MoviesTonight.db')\n",
        "\n",
        "with engine.connect() as conn:\n",
        "  resultset = conn.execute(\"SELECT * FROM sqlite_master\") \n",
        "  for row in resultset:\n",
        "    print(row)"
      ],
      "execution_count": null,
      "outputs": [
        {
          "output_type": "stream",
          "text": [
            "('table', 'theaters', 'theaters', 2, 'CREATE TABLE theaters(\\n  theaterID INTEGER PRIMARY KEY, -- SQLites uses this syntax for surrogate keys\\n  name TEXT NOT NULL,             -- SQLite uses TEXT datatype for all text\\n  location TEXT NOT NULL,\\n  phone TEXT\\n)')\n",
            "('table', 'movies', 'movies', 3, 'CREATE TABLE movies (\\n  movieID INTEGER PRIMARY KEY,  \\n  title TEXT NOT NULL,             \\n  rating TEXT\\n)')\n",
            "('table', 'artists', 'artists', 4, 'CREATE TABLE artists (\\n    artistID INTEGER PRIMARY KEY,\\n    name TEXT NOT NULL,\\n    bio TEXT                       -- Included for future use\\n)')\n",
            "('table', 'shows', 'shows', 5, 'CREATE TABLE shows (\\n    showID INTEGER PRIMARY KEY,\\n    showtime TEXT NOT NULL,        -- We may revisit the data type later\\n    movieID INTEGER  ... (113 characters truncated) ... E CASCADE\\n      ON UPDATE CASCADE,\\n    FOREIGN KEY (theaterID) REFERENCES theaters (theaterID)\\n      ON DELETE CASCADE\\n      ON UPDATE CASCADE\\n)')\n",
            "('table', 'credits', 'credits', 6, 'CREATE TABLE credits (\\n    creditID INTEGER PRIMARY KEY,\\n    credit_code TEXT NOT NULL,\\n    movieID INTEGER NOT NULL,\\n    artistID INTEGER NOT NU ... (71 characters truncated) ... LETE CASCADE\\n      ON UPDATE CASCADE,\\n    FOREIGN KEY (artistID) REFERENCES artists (artistID)\\n      ON DELETE CASCADE\\n      ON UPDATE CASCADE\\n)')\n",
            "('table', 'DATASET', 'DATASET', 7, 'CREATE TABLE \"DATASET\" (\\n\"TName\" TEXT,\\n  \"Location\" TEXT,\\n  \"Phone\" TEXT,\\n  \"MTitle\" TEXT,\\n  \"ShowTime\" TEXT,\\n  \"Rating\" TEXT,\\n  \"CCode\" TEXT,\\n  \"CName\" TEXT\\n)')\n"
          ],
          "name": "stdout"
        }
      ]
    },
    {
      "cell_type": "markdown",
      "metadata": {
        "id": "eReaBZSMeuaJ"
      },
      "source": [
        "Each row is a *tuple* -- that's a Python thing -- with a table and the SQL DDL used to create it. Even the comments are there. "
      ]
    },
    {
      "cell_type": "markdown",
      "metadata": {
        "id": "CtDn1dAdfVdO"
      },
      "source": [
        "> What follows is mostly for the software engineers who might be taking the class. If that's not you, then just try to follow along with the concepts in bold without worrying too much about the coding details. \n",
        "\n",
        "SQLAlchemy is more than just a database engine, however. It can also be used for **object relational mapping (ORM)**. ORM is a solution to the **impedance mismatch** problem in object oriented languages like Java, C#, or Python. In object oriented languages things like entities and relationships are represented by software objects. These objects are defined in similar fashion to relational entities but can include functionality (methods) as well as data. The code is written in **object classes**, which can be instantiated as **object instances** in code. (That's just like how a table represents an entity class but each row represents an entity instance.)\n",
        "\n",
        "**So, if the programmer has to define object classes anyway, why do it yet again in SQL code? After all, that's just one more thing to have to keep track of as they are developing their code.** ORM makes it so they don't have to. Instead they create *mappings* called *schema* that translate their software objects into equivalent SQL code. \n",
        "\n",
        "In SQLAlchemy, the programmers extend a special `Base` class in their Python code that automatically translates (maps) from objects to tables (and back again):\n"
      ]
    },
    {
      "cell_type": "code",
      "metadata": {
        "id": "cOfZ72vyMbXK"
      },
      "source": [
        "# Import sqlachemy module\n",
        "from sqlalchemy import *\n",
        "from sqlalchemy.ext.automap import automap_base\n",
        "\n",
        "# sqlalchemy creates metadata about tables by inspecting the database\n",
        "# The fancy name for this is reflection (as in describe yourself based on what you see in the mirror)\n",
        "Base = automap_base()\n",
        "Base.prepare(engine, reflect=True)\n",
        "\n",
        "# define the Python class Movie from the table metadata\n",
        "Movie = Base.classes.movies"
      ],
      "execution_count": null,
      "outputs": []
    },
    {
      "cell_type": "markdown",
      "metadata": {
        "id": "_5Rl49-0WI2P"
      },
      "source": [
        "The programmers can then ignore SQL for the most part, creating and using their software objects as they choose. Then, when needed they can **persist** (store) objects in the database for retrieval later. SQL is generated as needed behind the scenes.  \n"
      ]
    },
    {
      "cell_type": "code",
      "metadata": {
        "id": "a6pTvd_BU2Mu"
      },
      "source": [
        "# A session object represents a series of database transactions\n",
        "from sqlalchemy.orm import sessionmaker\n",
        "Session = sessionmaker(bind=engine)\n",
        "session = Session()\n",
        " \n",
        "# create a new movie object \n",
        "movie = Movie(title='Romeo + Juliet',rating ='PG-13')\n",
        " \n",
        "# queue it up for insertion into the database; this generates a SQL query\n",
        "session.add(movie)\n",
        " \n",
        "# run the necessary SQL queries to sync the objects \n",
        "session.commit()"
      ],
      "execution_count": null,
      "outputs": []
    },
    {
      "cell_type": "code",
      "metadata": {
        "colab": {
          "base_uri": "https://localhost:8080/",
          "height": 578
        },
        "id": "nwKsCNVaV8k3",
        "outputId": "39a35104-5958-4f5f-be87-371806482025"
      },
      "source": [
        "%%sql\n",
        "-- Confirm that the movie has been added\n",
        "SELECT * FROM movies;"
      ],
      "execution_count": null,
      "outputs": [
        {
          "output_type": "stream",
          "text": [
            " * sqlite:///buan6510/data/MoviesTonight/MoviesTonight.db\n",
            "Done.\n"
          ],
          "name": "stdout"
        },
        {
          "output_type": "execute_result",
          "data": {
            "text/html": [
              "<table>\n",
              "    <thead>\n",
              "        <tr>\n",
              "            <th>movieID</th>\n",
              "            <th>title</th>\n",
              "            <th>rating</th>\n",
              "        </tr>\n",
              "    </thead>\n",
              "    <tbody>\n",
              "        <tr>\n",
              "            <td>1</td>\n",
              "            <td>Associate, The</td>\n",
              "            <td>PG-13</td>\n",
              "        </tr>\n",
              "        <tr>\n",
              "            <td>2</td>\n",
              "            <td>Ghost &amp; The Darkness, The</td>\n",
              "            <td>R</td>\n",
              "        </tr>\n",
              "        <tr>\n",
              "            <td>3</td>\n",
              "            <td>Independence Day</td>\n",
              "            <td>PG-13</td>\n",
              "        </tr>\n",
              "        <tr>\n",
              "            <td>4</td>\n",
              "            <td>D3: The Mighty Ducks</td>\n",
              "            <td>PG</td>\n",
              "        </tr>\n",
              "        <tr>\n",
              "            <td>5</td>\n",
              "            <td>Dear God</td>\n",
              "            <td>None</td>\n",
              "        </tr>\n",
              "        <tr>\n",
              "            <td>6</td>\n",
              "            <td>First Wives Club, The</td>\n",
              "            <td>PG-13</td>\n",
              "        </tr>\n",
              "        <tr>\n",
              "            <td>7</td>\n",
              "            <td>High School High</td>\n",
              "            <td>PG-13</td>\n",
              "        </tr>\n",
              "        <tr>\n",
              "            <td>8</td>\n",
              "            <td>Larger Than Life</td>\n",
              "            <td>PG</td>\n",
              "        </tr>\n",
              "        <tr>\n",
              "            <td>9</td>\n",
              "            <td>Mirror Has Two Faces, The</td>\n",
              "            <td>PG-13</td>\n",
              "        </tr>\n",
              "        <tr>\n",
              "            <td>10</td>\n",
              "            <td>Ransom</td>\n",
              "            <td>R</td>\n",
              "        </tr>\n",
              "        <tr>\n",
              "            <td>11</td>\n",
              "            <td>Sleepers</td>\n",
              "            <td>None</td>\n",
              "        </tr>\n",
              "        <tr>\n",
              "            <td>12</td>\n",
              "            <td>Space Jam</td>\n",
              "            <td>PG</td>\n",
              "        </tr>\n",
              "        <tr>\n",
              "            <td>13</td>\n",
              "            <td>Stephen King&#x27;s Thinner</td>\n",
              "            <td>None</td>\n",
              "        </tr>\n",
              "        <tr>\n",
              "            <td>14</td>\n",
              "            <td>Michael Collins</td>\n",
              "            <td>R</td>\n",
              "        </tr>\n",
              "        <tr>\n",
              "            <td>15</td>\n",
              "            <td>Romeo &amp; Juliet</td>\n",
              "            <td>R</td>\n",
              "        </tr>\n",
              "        <tr>\n",
              "            <td>16</td>\n",
              "            <td>Big Night</td>\n",
              "            <td>R</td>\n",
              "        </tr>\n",
              "        <tr>\n",
              "            <td>17</td>\n",
              "            <td>Fly Away Home</td>\n",
              "            <td>PG</td>\n",
              "        </tr>\n",
              "        <tr>\n",
              "            <td>18</td>\n",
              "            <td>Nutty Professor, The</td>\n",
              "            <td>PG-13</td>\n",
              "        </tr>\n",
              "        <tr>\n",
              "            <td>19</td>\n",
              "            <td>Phenomenon</td>\n",
              "            <td>PG</td>\n",
              "        </tr>\n",
              "        <tr>\n",
              "            <td>20</td>\n",
              "            <td>Set It Off</td>\n",
              "            <td>R</td>\n",
              "        </tr>\n",
              "        <tr>\n",
              "            <td>21</td>\n",
              "            <td>Surviving Picasso</td>\n",
              "            <td>R</td>\n",
              "        </tr>\n",
              "        <tr>\n",
              "            <td>22</td>\n",
              "            <td>Very Brady Sequel, A</td>\n",
              "            <td>PG-13</td>\n",
              "        </tr>\n",
              "        <tr>\n",
              "            <td>23</td>\n",
              "            <td>That Thing You Do</td>\n",
              "            <td>PG</td>\n",
              "        </tr>\n",
              "        <tr>\n",
              "            <td>24</td>\n",
              "            <td>Romeo + Juliet</td>\n",
              "            <td>PG-13</td>\n",
              "        </tr>\n",
              "    </tbody>\n",
              "</table>"
            ],
            "text/plain": [
              "[(1, 'Associate, The', 'PG-13'),\n",
              " (2, 'Ghost & The Darkness, The', 'R'),\n",
              " (3, 'Independence Day', 'PG-13'),\n",
              " (4, 'D3: The Mighty Ducks', 'PG'),\n",
              " (5, 'Dear God', None),\n",
              " (6, 'First Wives Club, The', 'PG-13'),\n",
              " (7, 'High School High', 'PG-13'),\n",
              " (8, 'Larger Than Life', 'PG'),\n",
              " (9, 'Mirror Has Two Faces, The', 'PG-13'),\n",
              " (10, 'Ransom', 'R'),\n",
              " (11, 'Sleepers', None),\n",
              " (12, 'Space Jam', 'PG'),\n",
              " (13, \"Stephen King's Thinner\", None),\n",
              " (14, 'Michael Collins', 'R'),\n",
              " (15, 'Romeo & Juliet', 'R'),\n",
              " (16, 'Big Night', 'R'),\n",
              " (17, 'Fly Away Home', 'PG'),\n",
              " (18, 'Nutty Professor, The', 'PG-13'),\n",
              " (19, 'Phenomenon', 'PG'),\n",
              " (20, 'Set It Off', 'R'),\n",
              " (21, 'Surviving Picasso', 'R'),\n",
              " (22, 'Very Brady Sequel, A', 'PG-13'),\n",
              " (23, 'That Thing You Do', 'PG'),\n",
              " (24, 'Romeo + Juliet', 'PG-13')]"
            ]
          },
          "metadata": {
            "tags": []
          },
          "execution_count": 53
        }
      ]
    },
    {
      "cell_type": "markdown",
      "metadata": {
        "id": "jqXwQxh3WfGq"
      },
      "source": [
        "We can delete objects as well."
      ]
    },
    {
      "cell_type": "code",
      "metadata": {
        "id": "_Wi3m60bWX6M"
      },
      "source": [
        "# retrieve a copy of the movie from the database\n",
        "movie2 = session.query(Movie).filter_by(title = 'Romeo + Juliet').first()\n",
        "\n",
        "# delete the movie\n",
        "session.delete(movie2)\n",
        "session.commit()      # makes sure it's not just soft deleted\n",
        " \n",
        "# close the session now that we're done with it\n",
        "session.close()       # any uncommitted changes are rolled back"
      ],
      "execution_count": null,
      "outputs": []
    },
    {
      "cell_type": "code",
      "metadata": {
        "colab": {
          "base_uri": "https://localhost:8080/",
          "height": 557
        },
        "id": "KzDlmhwnWzKQ",
        "outputId": "85d8b180-c85a-4070-a96e-0a9625ab676c"
      },
      "source": [
        "%%sql\n",
        "-- Confirm that the movie was deleted\n",
        "SELECT * FROM movies;"
      ],
      "execution_count": null,
      "outputs": [
        {
          "output_type": "stream",
          "text": [
            " * sqlite:///buan6510/data/MoviesTonight/MoviesTonight.db\n",
            "Done.\n"
          ],
          "name": "stdout"
        },
        {
          "output_type": "execute_result",
          "data": {
            "text/html": [
              "<table>\n",
              "    <thead>\n",
              "        <tr>\n",
              "            <th>movieID</th>\n",
              "            <th>title</th>\n",
              "            <th>rating</th>\n",
              "        </tr>\n",
              "    </thead>\n",
              "    <tbody>\n",
              "        <tr>\n",
              "            <td>1</td>\n",
              "            <td>Associate, The</td>\n",
              "            <td>PG-13</td>\n",
              "        </tr>\n",
              "        <tr>\n",
              "            <td>2</td>\n",
              "            <td>Ghost &amp; The Darkness, The</td>\n",
              "            <td>R</td>\n",
              "        </tr>\n",
              "        <tr>\n",
              "            <td>3</td>\n",
              "            <td>Independence Day</td>\n",
              "            <td>PG-13</td>\n",
              "        </tr>\n",
              "        <tr>\n",
              "            <td>4</td>\n",
              "            <td>D3: The Mighty Ducks</td>\n",
              "            <td>PG</td>\n",
              "        </tr>\n",
              "        <tr>\n",
              "            <td>5</td>\n",
              "            <td>Dear God</td>\n",
              "            <td>None</td>\n",
              "        </tr>\n",
              "        <tr>\n",
              "            <td>6</td>\n",
              "            <td>First Wives Club, The</td>\n",
              "            <td>PG-13</td>\n",
              "        </tr>\n",
              "        <tr>\n",
              "            <td>7</td>\n",
              "            <td>High School High</td>\n",
              "            <td>PG-13</td>\n",
              "        </tr>\n",
              "        <tr>\n",
              "            <td>8</td>\n",
              "            <td>Larger Than Life</td>\n",
              "            <td>PG</td>\n",
              "        </tr>\n",
              "        <tr>\n",
              "            <td>9</td>\n",
              "            <td>Mirror Has Two Faces, The</td>\n",
              "            <td>PG-13</td>\n",
              "        </tr>\n",
              "        <tr>\n",
              "            <td>10</td>\n",
              "            <td>Ransom</td>\n",
              "            <td>R</td>\n",
              "        </tr>\n",
              "        <tr>\n",
              "            <td>11</td>\n",
              "            <td>Sleepers</td>\n",
              "            <td>None</td>\n",
              "        </tr>\n",
              "        <tr>\n",
              "            <td>12</td>\n",
              "            <td>Space Jam</td>\n",
              "            <td>PG</td>\n",
              "        </tr>\n",
              "        <tr>\n",
              "            <td>13</td>\n",
              "            <td>Stephen King&#x27;s Thinner</td>\n",
              "            <td>None</td>\n",
              "        </tr>\n",
              "        <tr>\n",
              "            <td>14</td>\n",
              "            <td>Michael Collins</td>\n",
              "            <td>R</td>\n",
              "        </tr>\n",
              "        <tr>\n",
              "            <td>15</td>\n",
              "            <td>Romeo &amp; Juliet</td>\n",
              "            <td>R</td>\n",
              "        </tr>\n",
              "        <tr>\n",
              "            <td>16</td>\n",
              "            <td>Big Night</td>\n",
              "            <td>R</td>\n",
              "        </tr>\n",
              "        <tr>\n",
              "            <td>17</td>\n",
              "            <td>Fly Away Home</td>\n",
              "            <td>PG</td>\n",
              "        </tr>\n",
              "        <tr>\n",
              "            <td>18</td>\n",
              "            <td>Nutty Professor, The</td>\n",
              "            <td>PG-13</td>\n",
              "        </tr>\n",
              "        <tr>\n",
              "            <td>19</td>\n",
              "            <td>Phenomenon</td>\n",
              "            <td>PG</td>\n",
              "        </tr>\n",
              "        <tr>\n",
              "            <td>20</td>\n",
              "            <td>Set It Off</td>\n",
              "            <td>R</td>\n",
              "        </tr>\n",
              "        <tr>\n",
              "            <td>21</td>\n",
              "            <td>Surviving Picasso</td>\n",
              "            <td>R</td>\n",
              "        </tr>\n",
              "        <tr>\n",
              "            <td>22</td>\n",
              "            <td>Very Brady Sequel, A</td>\n",
              "            <td>PG-13</td>\n",
              "        </tr>\n",
              "        <tr>\n",
              "            <td>23</td>\n",
              "            <td>That Thing You Do</td>\n",
              "            <td>PG</td>\n",
              "        </tr>\n",
              "    </tbody>\n",
              "</table>"
            ],
            "text/plain": [
              "[(1, 'Associate, The', 'PG-13'),\n",
              " (2, 'Ghost & The Darkness, The', 'R'),\n",
              " (3, 'Independence Day', 'PG-13'),\n",
              " (4, 'D3: The Mighty Ducks', 'PG'),\n",
              " (5, 'Dear God', None),\n",
              " (6, 'First Wives Club, The', 'PG-13'),\n",
              " (7, 'High School High', 'PG-13'),\n",
              " (8, 'Larger Than Life', 'PG'),\n",
              " (9, 'Mirror Has Two Faces, The', 'PG-13'),\n",
              " (10, 'Ransom', 'R'),\n",
              " (11, 'Sleepers', None),\n",
              " (12, 'Space Jam', 'PG'),\n",
              " (13, \"Stephen King's Thinner\", None),\n",
              " (14, 'Michael Collins', 'R'),\n",
              " (15, 'Romeo & Juliet', 'R'),\n",
              " (16, 'Big Night', 'R'),\n",
              " (17, 'Fly Away Home', 'PG'),\n",
              " (18, 'Nutty Professor, The', 'PG-13'),\n",
              " (19, 'Phenomenon', 'PG'),\n",
              " (20, 'Set It Off', 'R'),\n",
              " (21, 'Surviving Picasso', 'R'),\n",
              " (22, 'Very Brady Sequel, A', 'PG-13'),\n",
              " (23, 'That Thing You Do', 'PG')]"
            ]
          },
          "metadata": {
            "tags": []
          },
          "execution_count": 58
        }
      ]
    },
    {
      "cell_type": "markdown",
      "metadata": {
        "id": "eraVB-azXdSy"
      },
      "source": [
        "SqlAlchemy can handle foreign keys and even inserting lists of mapped objects all at once. However, you'll need to read the SqlAlchemy docs to find out how. "
      ]
    },
    {
      "cell_type": "markdown",
      "metadata": {
        "id": "qVL7n_Rys_95"
      },
      "source": [
        "---\n",
        "## **Congratulations! You've made it to the end of Lesson 7.**\n",
        "\n",
        "Now that we finally know how to create a database from scratch, all we have left to learn is how to work with data once it's in the database. That's in Lesson 8, of course. After that it's all about applying what we already know. \n",
        "\n"
      ]
    },
    {
      "cell_type": "markdown",
      "metadata": {
        "id": "wEkhlPF5A9w1"
      },
      "source": [
        "## **On your way out ... Be sure to save your work**.\n",
        "In Google Drive, drag this notebook file into your `DATA6510` folder so you can find it next time."
      ]
    }
  ]
}