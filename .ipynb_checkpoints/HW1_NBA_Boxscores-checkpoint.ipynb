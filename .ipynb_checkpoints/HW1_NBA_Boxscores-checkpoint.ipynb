{
 "cells": [
  {
   "cell_type": "markdown",
   "metadata": {
    "id": "-nUUsBlIrmCu"
   },
   "source": [
    "<img src=\"https://github.com/christopherhuntley/BUAN6510/blob/master/img/Dolan.png?raw=true\" width=\"180px\" align=\"right\">\n",
    "\n",
    "# **DATA 6510**\n",
    "# **Homework 2: Do It Yourself NBA Box Scores** \n",
    "_Fun with NBA game logs, with a couple challenges thrown in for the experts_\n",
    "\n",
    "## **Learning Objectives**\n",
    "### **Theory / Be able to explain ...**\n",
    "- The common forms for SQL `SELECT` queries\n",
    "- How aggregation is used to summarize data\n",
    "- The differences between transaction data and analytical data \n",
    "\n",
    "### **Skills / Know how to ...**\n",
    "- Write and debug SQL select queries within a Colab notebook\n",
    "- Create basic summary data from transaction data"
   ]
  },
  {
   "cell_type": "markdown",
   "metadata": {
    "id": "_6AbBJCyqVHv"
   },
   "source": [
    "---\n",
    "## **Boilerplate: Software and Database Setup**\n",
    "\n",
    "\n"
   ]
  },
  {
   "cell_type": "markdown",
   "metadata": {
    "id": "1KWQBOzfsdMN"
   },
   "source": [
    "The code below $\\downarrow$ will get you started. Rerun if your Colab session times out. "
   ]
  },
  {
   "cell_type": "code",
   "execution_count": null,
   "metadata": {
    "colab": {
     "base_uri": "https://localhost:8080/",
     "height": 36
    },
    "id": "l-dvGOANsWOs",
    "outputId": "c34c76ec-74fd-461b-cc03-cf990cf63bad"
   },
   "outputs": [
    {
     "data": {
      "application/vnd.google.colaboratory.intrinsic+json": {
       "type": "string"
      },
      "text/plain": [
       "'Connected: @NBAPlayDB.db'"
      ]
     },
     "execution_count": 1,
     "metadata": {},
     "output_type": "execute_result"
    }
   ],
   "source": [
    "# Load %%sql magic\n",
    "%load_ext sql\n",
    "\n",
    "# Standard Imports\n",
    "import sqlite3\n",
    "import pandas as pd\n",
    "\n",
    "# Initialize a SQLite database connection\n",
    "conn = sqlite3.connect('NBAPlayDB.db')\n",
    "\n",
    "# Extract data from CSV files in the cloud\n",
    "play_log_df = pd.read_csv(\"https://raw.githubusercontent.com/christopherhuntley/DATA6510/master/data/NBA/GamePlayLog_2019-10-22_NOL_TOR.csv\")\n",
    "play_facts_df = pd.read_csv(\"https://raw.githubusercontent.com/christopherhuntley/DATA6510/master/data/NBA/GamePlayFacts_2019-10-22_NOL_TOR.csv\",index_col=0)\n",
    "\n",
    "# Load data into the SQLite database\n",
    "play_log_df.to_sql('PlayLog',conn,if_exists='replace',index_label=\"playLogID\")\n",
    "play_facts_df.to_sql('PlayFacts',conn,if_exists='replace',index_label=\"playFactID\")\n",
    "\n",
    "# Establish a %%sql magic connection to the database\n",
    "%sql sqlite:///NBAPlayDB.db"
   ]
  },
  {
   "cell_type": "markdown",
   "metadata": {
    "id": "02qgaiypowNg"
   },
   "source": [
    "---\n",
    "## **Overview**"
   ]
  },
  {
   "cell_type": "markdown",
   "metadata": {
    "id": "rflQ85d9pQhT"
   },
   "source": [
    "## **The Goal**\n",
    "\n",
    "We will use SQL queries to reconstruct the box score shown below from the original play-by-play data. (If you don't know what a box score is then [this might help](https://jr.nba.com/how-to-read-a-box-score/).)\n",
    "\n",
    "Actually we will try this twice, each with a different data source:\n",
    "1. A statistician's log of every play, recorded in real time while the game was in progress. The log is what is known as **transaction** data; the emphasis is on recording events accurately as they are occuring.\n",
    "2. A summary for each play in the log, generated after the game. The summaries are **analytical** data, crafted after the fact to simplify the work of the game analysts and fans. \n",
    "\n",
    "**As we shall see, there are significant differences between transaction data and analytical data. Also, we will see that the quality of the analytical data is totally dependent on the transaction data.** \n",
    "\n",
    "![Box Score](https://github.com/christopherhuntley/BUAN6510/raw/master/img/HW2_box_score.png)\n",
    "\n",
    "## **What do we consider a valid box score?**\n",
    "\n",
    "### Player Stats\n",
    "At a minimum, the box score must include the following data for each player:\n",
    "- `player`: Player Name\n",
    "- `team`: Player Team\n",
    "- `min`: Minutes Played\n",
    "- `reb`: Total Rebounds\n",
    "- `ast`: Assists\n",
    "- `pts`: Points Scored\n",
    "\n",
    "One can, of course, calculate lots of more advanced statistics like:\n",
    "- `fta`: Free throws attempted\n",
    "- `ftm`: Free throws made\n",
    "- `2pa`: 2-point field goals attempted\n",
    "- `2pm`: 2-point field goals made\n",
    "- `3pa`: 3-point field goals attempted\n",
    "- `3pm`: 3-point field goals made\n",
    "- `blk`: blocked shots\n",
    "- `fls`: fouls\n",
    "- `+/-`: the net score difference while the player is in the game, normalized to 36 minutes of playing time. \n",
    "\n",
    "Note: We won't require these advanced statistics but there is no harm in trying if you are so inclined.\n",
    "\n",
    "### Team Stats\n",
    "In addition to the player data, we desire to know the final score and point totals for each quarter. \n",
    " \n",
    "## **Source Data**\n",
    "\n",
    "The data is kept in Google Drive:\n",
    "- https://docs.google.com/spreadsheets/d/1gVKRFBQdHOLUL5vx5GXOPi9eLqJI0uI2iAdGM2lMAIY/edit?usp=sharing\n",
    "- https://docs.google.com/spreadsheets/d/1nknL5nkdvChlswGyNbNF2zSbONSY3EO8r7hB10sO2vI/edit?usp=sharing\n",
    "\n",
    "When asked, open each file in Google Sheets. You might want to keep these spreadsheets open when you work out your SQL queries. \n",
    "\n",
    "In the database setup section we created the `NBAPlayDB.db` database (viewable in the file browser to your left) and then loaded each CSV as a separate table (`PlayLog` and `PlayFacts`). Rerun as needed if your session goes stale. \n",
    "\n",
    "The queries below show the first 10 rows of each table. "
   ]
  },
  {
   "cell_type": "code",
   "execution_count": null,
   "metadata": {
    "colab": {
     "base_uri": "https://localhost:8080/",
     "height": 633
    },
    "id": "8BBxWYxZrZ7T",
    "outputId": "d4dbc0d5-6b41-491f-f50b-e2fdcd5387c1"
   },
   "outputs": [
    {
     "name": "stdout",
     "output_type": "stream",
     "text": [
      " * sqlite:///NBAPlayDB.db\n",
      "Done.\n"
     ]
    },
    {
     "data": {
      "text/html": [
       "<table>\n",
       "    <thead>\n",
       "        <tr>\n",
       "            <th>playLogID</th>\n",
       "            <th>a1</th>\n",
       "            <th>a2</th>\n",
       "            <th>a3</th>\n",
       "            <th>a4</th>\n",
       "            <th>a5</th>\n",
       "            <th>h1</th>\n",
       "            <th>h2</th>\n",
       "            <th>h3</th>\n",
       "            <th>h4</th>\n",
       "            <th>h5</th>\n",
       "            <th>period</th>\n",
       "            <th>away_score</th>\n",
       "            <th>home_score</th>\n",
       "            <th>remaining_time</th>\n",
       "            <th>elapsed</th>\n",
       "            <th>play_length</th>\n",
       "            <th>play_id</th>\n",
       "            <th>team</th>\n",
       "            <th>player</th>\n",
       "            <th>event_type</th>\n",
       "            <th>reason</th>\n",
       "            <th>assist</th>\n",
       "            <th>away</th>\n",
       "            <th>home</th>\n",
       "            <th>block</th>\n",
       "            <th>entered</th>\n",
       "            <th>left</th>\n",
       "            <th>num</th>\n",
       "            <th>opponent</th>\n",
       "            <th>outof</th>\n",
       "            <th>points</th>\n",
       "            <th>possession</th>\n",
       "            <th>steal</th>\n",
       "            <th>shot_result</th>\n",
       "            <th>shot_distance</th>\n",
       "            <th>original_x</th>\n",
       "            <th>original_y</th>\n",
       "            <th>converted_x</th>\n",
       "            <th>converted_y</th>\n",
       "            <th>play_description</th>\n",
       "        </tr>\n",
       "    </thead>\n",
       "    <tbody>\n",
       "        <tr>\n",
       "            <td>0</td>\n",
       "            <td>Jrue Holiday</td>\n",
       "            <td>Brandon Ingram</td>\n",
       "            <td>Derrick Favors</td>\n",
       "            <td>JJ Redick</td>\n",
       "            <td>Lonzo Ball</td>\n",
       "            <td>OG Anunoby</td>\n",
       "            <td>Pascal Siakam</td>\n",
       "            <td>Marc Gasol</td>\n",
       "            <td>Kyle Lowry</td>\n",
       "            <td>Fred VanVleet</td>\n",
       "            <td>1</td>\n",
       "            <td>0</td>\n",
       "            <td>0</td>\n",
       "            <td>0:12:00</td>\n",
       "            <td>0:00:00</td>\n",
       "            <td>0:00:00</td>\n",
       "            <td>2</td>\n",
       "            <td>None</td>\n",
       "            <td>None</td>\n",
       "            <td>start of period</td>\n",
       "            <td>None</td>\n",
       "            <td>None</td>\n",
       "            <td>None</td>\n",
       "            <td>None</td>\n",
       "            <td>None</td>\n",
       "            <td>None</td>\n",
       "            <td>None</td>\n",
       "            <td>None</td>\n",
       "            <td>None</td>\n",
       "            <td>None</td>\n",
       "            <td>None</td>\n",
       "            <td>None</td>\n",
       "            <td>None</td>\n",
       "            <td>None</td>\n",
       "            <td>None</td>\n",
       "            <td>None</td>\n",
       "            <td>None</td>\n",
       "            <td>None</td>\n",
       "            <td>None</td>\n",
       "            <td>None</td>\n",
       "        </tr>\n",
       "        <tr>\n",
       "            <td>1</td>\n",
       "            <td>Jrue Holiday</td>\n",
       "            <td>Brandon Ingram</td>\n",
       "            <td>Derrick Favors</td>\n",
       "            <td>JJ Redick</td>\n",
       "            <td>Lonzo Ball</td>\n",
       "            <td>OG Anunoby</td>\n",
       "            <td>Pascal Siakam</td>\n",
       "            <td>Marc Gasol</td>\n",
       "            <td>Kyle Lowry</td>\n",
       "            <td>Fred VanVleet</td>\n",
       "            <td>1</td>\n",
       "            <td>0</td>\n",
       "            <td>0</td>\n",
       "            <td>0:12:00</td>\n",
       "            <td>0:00:00</td>\n",
       "            <td>0:00:00</td>\n",
       "            <td>4</td>\n",
       "            <td>NOP</td>\n",
       "            <td>Marc Gasol</td>\n",
       "            <td>jump ball</td>\n",
       "            <td>None</td>\n",
       "            <td>None</td>\n",
       "            <td>Derrick Favors</td>\n",
       "            <td>Marc Gasol</td>\n",
       "            <td>None</td>\n",
       "            <td>None</td>\n",
       "            <td>None</td>\n",
       "            <td>None</td>\n",
       "            <td>None</td>\n",
       "            <td>None</td>\n",
       "            <td>None</td>\n",
       "            <td>Lonzo Ball</td>\n",
       "            <td>None</td>\n",
       "            <td>None</td>\n",
       "            <td>None</td>\n",
       "            <td>None</td>\n",
       "            <td>None</td>\n",
       "            <td>None</td>\n",
       "            <td>None</td>\n",
       "            <td>Jump Ball Gasol vs. Favors: Tip to Ball</td>\n",
       "        </tr>\n",
       "        <tr>\n",
       "            <td>2</td>\n",
       "            <td>Jrue Holiday</td>\n",
       "            <td>Brandon Ingram</td>\n",
       "            <td>Derrick Favors</td>\n",
       "            <td>JJ Redick</td>\n",
       "            <td>Lonzo Ball</td>\n",
       "            <td>OG Anunoby</td>\n",
       "            <td>Pascal Siakam</td>\n",
       "            <td>Marc Gasol</td>\n",
       "            <td>Kyle Lowry</td>\n",
       "            <td>Fred VanVleet</td>\n",
       "            <td>1</td>\n",
       "            <td>0</td>\n",
       "            <td>0</td>\n",
       "            <td>0:11:48</td>\n",
       "            <td>0:00:12</td>\n",
       "            <td>0:00:12</td>\n",
       "            <td>7</td>\n",
       "            <td>NOP</td>\n",
       "            <td>Lonzo Ball</td>\n",
       "            <td>miss</td>\n",
       "            <td>None</td>\n",
       "            <td>None</td>\n",
       "            <td>None</td>\n",
       "            <td>None</td>\n",
       "            <td>None</td>\n",
       "            <td>None</td>\n",
       "            <td>None</td>\n",
       "            <td>None</td>\n",
       "            <td>None</td>\n",
       "            <td>None</td>\n",
       "            <td>0.0</td>\n",
       "            <td>None</td>\n",
       "            <td>None</td>\n",
       "            <td>missed</td>\n",
       "            <td>11.0</td>\n",
       "            <td>2.0</td>\n",
       "            <td>114.0</td>\n",
       "            <td>24.8</td>\n",
       "            <td>16.4</td>\n",
       "            <td>MISS Ball 11&#x27; Driving Floating Jump Shot</td>\n",
       "        </tr>\n",
       "        <tr>\n",
       "            <td>3</td>\n",
       "            <td>Jrue Holiday</td>\n",
       "            <td>Brandon Ingram</td>\n",
       "            <td>Derrick Favors</td>\n",
       "            <td>JJ Redick</td>\n",
       "            <td>Lonzo Ball</td>\n",
       "            <td>OG Anunoby</td>\n",
       "            <td>Pascal Siakam</td>\n",
       "            <td>Marc Gasol</td>\n",
       "            <td>Kyle Lowry</td>\n",
       "            <td>Fred VanVleet</td>\n",
       "            <td>1</td>\n",
       "            <td>0</td>\n",
       "            <td>0</td>\n",
       "            <td>0:11:47</td>\n",
       "            <td>0:00:13</td>\n",
       "            <td>0:00:01</td>\n",
       "            <td>8</td>\n",
       "            <td>NOP</td>\n",
       "            <td>Derrick Favors</td>\n",
       "            <td>rebound</td>\n",
       "            <td>None</td>\n",
       "            <td>None</td>\n",
       "            <td>None</td>\n",
       "            <td>None</td>\n",
       "            <td>None</td>\n",
       "            <td>None</td>\n",
       "            <td>None</td>\n",
       "            <td>None</td>\n",
       "            <td>None</td>\n",
       "            <td>None</td>\n",
       "            <td>None</td>\n",
       "            <td>None</td>\n",
       "            <td>None</td>\n",
       "            <td>None</td>\n",
       "            <td>None</td>\n",
       "            <td>None</td>\n",
       "            <td>None</td>\n",
       "            <td>None</td>\n",
       "            <td>None</td>\n",
       "            <td>Favors REBOUND (Off:1 Def:0)</td>\n",
       "        </tr>\n",
       "        <tr>\n",
       "            <td>4</td>\n",
       "            <td>Jrue Holiday</td>\n",
       "            <td>Brandon Ingram</td>\n",
       "            <td>Derrick Favors</td>\n",
       "            <td>JJ Redick</td>\n",
       "            <td>Lonzo Ball</td>\n",
       "            <td>OG Anunoby</td>\n",
       "            <td>Pascal Siakam</td>\n",
       "            <td>Marc Gasol</td>\n",
       "            <td>Kyle Lowry</td>\n",
       "            <td>Fred VanVleet</td>\n",
       "            <td>1</td>\n",
       "            <td>2</td>\n",
       "            <td>0</td>\n",
       "            <td>0:11:47</td>\n",
       "            <td>0:00:13</td>\n",
       "            <td>0:00:00</td>\n",
       "            <td>9</td>\n",
       "            <td>NOP</td>\n",
       "            <td>Derrick Favors</td>\n",
       "            <td>shot</td>\n",
       "            <td>None</td>\n",
       "            <td>None</td>\n",
       "            <td>None</td>\n",
       "            <td>None</td>\n",
       "            <td>None</td>\n",
       "            <td>None</td>\n",
       "            <td>None</td>\n",
       "            <td>None</td>\n",
       "            <td>None</td>\n",
       "            <td>None</td>\n",
       "            <td>2.0</td>\n",
       "            <td>None</td>\n",
       "            <td>None</td>\n",
       "            <td>made</td>\n",
       "            <td>1.0</td>\n",
       "            <td>0.0</td>\n",
       "            <td>-6.0</td>\n",
       "            <td>25.0</td>\n",
       "            <td>4.4</td>\n",
       "            <td>Favors 1&#x27; Tip Layup Shot (2 PTS)</td>\n",
       "        </tr>\n",
       "        <tr>\n",
       "            <td>5</td>\n",
       "            <td>Jrue Holiday</td>\n",
       "            <td>Brandon Ingram</td>\n",
       "            <td>Derrick Favors</td>\n",
       "            <td>JJ Redick</td>\n",
       "            <td>Lonzo Ball</td>\n",
       "            <td>OG Anunoby</td>\n",
       "            <td>Pascal Siakam</td>\n",
       "            <td>Marc Gasol</td>\n",
       "            <td>Kyle Lowry</td>\n",
       "            <td>Fred VanVleet</td>\n",
       "            <td>1</td>\n",
       "            <td>2</td>\n",
       "            <td>0</td>\n",
       "            <td>0:11:29</td>\n",
       "            <td>0:00:31</td>\n",
       "            <td>0:00:18</td>\n",
       "            <td>10</td>\n",
       "            <td>TOR</td>\n",
       "            <td>OG Anunoby</td>\n",
       "            <td>miss</td>\n",
       "            <td>None</td>\n",
       "            <td>None</td>\n",
       "            <td>None</td>\n",
       "            <td>None</td>\n",
       "            <td>None</td>\n",
       "            <td>None</td>\n",
       "            <td>None</td>\n",
       "            <td>None</td>\n",
       "            <td>None</td>\n",
       "            <td>None</td>\n",
       "            <td>0.0</td>\n",
       "            <td>None</td>\n",
       "            <td>None</td>\n",
       "            <td>missed</td>\n",
       "            <td>3.0</td>\n",
       "            <td>15.0</td>\n",
       "            <td>28.0</td>\n",
       "            <td>26.5</td>\n",
       "            <td>86.2</td>\n",
       "            <td>MISS Anunoby 3&#x27; Driving Layup</td>\n",
       "        </tr>\n",
       "        <tr>\n",
       "            <td>6</td>\n",
       "            <td>Jrue Holiday</td>\n",
       "            <td>Brandon Ingram</td>\n",
       "            <td>Derrick Favors</td>\n",
       "            <td>JJ Redick</td>\n",
       "            <td>Lonzo Ball</td>\n",
       "            <td>OG Anunoby</td>\n",
       "            <td>Pascal Siakam</td>\n",
       "            <td>Marc Gasol</td>\n",
       "            <td>Kyle Lowry</td>\n",
       "            <td>Fred VanVleet</td>\n",
       "            <td>1</td>\n",
       "            <td>2</td>\n",
       "            <td>0</td>\n",
       "            <td>0:11:25</td>\n",
       "            <td>0:00:35</td>\n",
       "            <td>0:00:04</td>\n",
       "            <td>11</td>\n",
       "            <td>NOP</td>\n",
       "            <td>JJ Redick</td>\n",
       "            <td>rebound</td>\n",
       "            <td>None</td>\n",
       "            <td>None</td>\n",
       "            <td>None</td>\n",
       "            <td>None</td>\n",
       "            <td>None</td>\n",
       "            <td>None</td>\n",
       "            <td>None</td>\n",
       "            <td>None</td>\n",
       "            <td>None</td>\n",
       "            <td>None</td>\n",
       "            <td>None</td>\n",
       "            <td>None</td>\n",
       "            <td>None</td>\n",
       "            <td>None</td>\n",
       "            <td>None</td>\n",
       "            <td>None</td>\n",
       "            <td>None</td>\n",
       "            <td>None</td>\n",
       "            <td>None</td>\n",
       "            <td>Redick REBOUND (Off:0 Def:1)</td>\n",
       "        </tr>\n",
       "        <tr>\n",
       "            <td>7</td>\n",
       "            <td>Jrue Holiday</td>\n",
       "            <td>Brandon Ingram</td>\n",
       "            <td>Derrick Favors</td>\n",
       "            <td>JJ Redick</td>\n",
       "            <td>Lonzo Ball</td>\n",
       "            <td>OG Anunoby</td>\n",
       "            <td>Pascal Siakam</td>\n",
       "            <td>Marc Gasol</td>\n",
       "            <td>Kyle Lowry</td>\n",
       "            <td>Fred VanVleet</td>\n",
       "            <td>1</td>\n",
       "            <td>2</td>\n",
       "            <td>0</td>\n",
       "            <td>0:11:16</td>\n",
       "            <td>0:00:44</td>\n",
       "            <td>0:00:09</td>\n",
       "            <td>12</td>\n",
       "            <td>NOP</td>\n",
       "            <td>Jrue Holiday</td>\n",
       "            <td>miss</td>\n",
       "            <td>None</td>\n",
       "            <td>None</td>\n",
       "            <td>None</td>\n",
       "            <td>None</td>\n",
       "            <td>None</td>\n",
       "            <td>None</td>\n",
       "            <td>None</td>\n",
       "            <td>None</td>\n",
       "            <td>None</td>\n",
       "            <td>None</td>\n",
       "            <td>0.0</td>\n",
       "            <td>None</td>\n",
       "            <td>None</td>\n",
       "            <td>missed</td>\n",
       "            <td>8.0</td>\n",
       "            <td>81.0</td>\n",
       "            <td>-1.0</td>\n",
       "            <td>16.9</td>\n",
       "            <td>4.9</td>\n",
       "            <td>MISS Holiday 8&#x27; Driving Finger Roll Layup</td>\n",
       "        </tr>\n",
       "        <tr>\n",
       "            <td>8</td>\n",
       "            <td>Jrue Holiday</td>\n",
       "            <td>Brandon Ingram</td>\n",
       "            <td>Derrick Favors</td>\n",
       "            <td>JJ Redick</td>\n",
       "            <td>Lonzo Ball</td>\n",
       "            <td>OG Anunoby</td>\n",
       "            <td>Pascal Siakam</td>\n",
       "            <td>Marc Gasol</td>\n",
       "            <td>Kyle Lowry</td>\n",
       "            <td>Fred VanVleet</td>\n",
       "            <td>1</td>\n",
       "            <td>2</td>\n",
       "            <td>0</td>\n",
       "            <td>0:11:15</td>\n",
       "            <td>0:00:45</td>\n",
       "            <td>0:00:01</td>\n",
       "            <td>13</td>\n",
       "            <td>TOR</td>\n",
       "            <td>Fred VanVleet</td>\n",
       "            <td>rebound</td>\n",
       "            <td>None</td>\n",
       "            <td>None</td>\n",
       "            <td>None</td>\n",
       "            <td>None</td>\n",
       "            <td>None</td>\n",
       "            <td>None</td>\n",
       "            <td>None</td>\n",
       "            <td>None</td>\n",
       "            <td>None</td>\n",
       "            <td>None</td>\n",
       "            <td>None</td>\n",
       "            <td>None</td>\n",
       "            <td>None</td>\n",
       "            <td>None</td>\n",
       "            <td>None</td>\n",
       "            <td>None</td>\n",
       "            <td>None</td>\n",
       "            <td>None</td>\n",
       "            <td>None</td>\n",
       "            <td>VanVleet REBOUND (Off:0 Def:1)</td>\n",
       "        </tr>\n",
       "        <tr>\n",
       "            <td>9</td>\n",
       "            <td>Jrue Holiday</td>\n",
       "            <td>Brandon Ingram</td>\n",
       "            <td>Derrick Favors</td>\n",
       "            <td>JJ Redick</td>\n",
       "            <td>Lonzo Ball</td>\n",
       "            <td>OG Anunoby</td>\n",
       "            <td>Pascal Siakam</td>\n",
       "            <td>Marc Gasol</td>\n",
       "            <td>Kyle Lowry</td>\n",
       "            <td>Fred VanVleet</td>\n",
       "            <td>1</td>\n",
       "            <td>2</td>\n",
       "            <td>0</td>\n",
       "            <td>0:11:11</td>\n",
       "            <td>0:00:49</td>\n",
       "            <td>0:00:04</td>\n",
       "            <td>14</td>\n",
       "            <td>TOR</td>\n",
       "            <td>Kyle Lowry</td>\n",
       "            <td>miss</td>\n",
       "            <td>None</td>\n",
       "            <td>None</td>\n",
       "            <td>None</td>\n",
       "            <td>None</td>\n",
       "            <td>None</td>\n",
       "            <td>None</td>\n",
       "            <td>None</td>\n",
       "            <td>None</td>\n",
       "            <td>None</td>\n",
       "            <td>None</td>\n",
       "            <td>0.0</td>\n",
       "            <td>None</td>\n",
       "            <td>None</td>\n",
       "            <td>missed</td>\n",
       "            <td>25.0</td>\n",
       "            <td>178.0</td>\n",
       "            <td>176.0</td>\n",
       "            <td>42.8</td>\n",
       "            <td>71.4</td>\n",
       "            <td>MISS Lowry 25&#x27; 3PT Running Pull-Up Jump Shot</td>\n",
       "        </tr>\n",
       "    </tbody>\n",
       "</table>"
      ],
      "text/plain": [
       "[(0, 'Jrue Holiday', 'Brandon Ingram', 'Derrick Favors', 'JJ Redick', 'Lonzo Ball', 'OG Anunoby', 'Pascal Siakam', 'Marc Gasol', 'Kyle Lowry', 'Fred VanVleet', 1, 0, 0, '0:12:00', '0:00:00', '0:00:00', 2, None, None, 'start of period', None, None, None, None, None, None, None, None, None, None, None, None, None, None, None, None, None, None, None, None),\n",
       " (1, 'Jrue Holiday', 'Brandon Ingram', 'Derrick Favors', 'JJ Redick', 'Lonzo Ball', 'OG Anunoby', 'Pascal Siakam', 'Marc Gasol', 'Kyle Lowry', 'Fred VanVleet', 1, 0, 0, '0:12:00', '0:00:00', '0:00:00', 4, 'NOP', 'Marc Gasol', 'jump ball', None, None, 'Derrick Favors', 'Marc Gasol', None, None, None, None, None, None, None, 'Lonzo Ball', None, None, None, None, None, None, None, 'Jump Ball Gasol vs. Favors: Tip to Ball'),\n",
       " (2, 'Jrue Holiday', 'Brandon Ingram', 'Derrick Favors', 'JJ Redick', 'Lonzo Ball', 'OG Anunoby', 'Pascal Siakam', 'Marc Gasol', 'Kyle Lowry', 'Fred VanVleet', 1, 0, 0, '0:11:48', '0:00:12', '0:00:12', 7, 'NOP', 'Lonzo Ball', 'miss', None, None, None, None, None, None, None, None, None, None, 0.0, None, None, 'missed', 11.0, 2.0, 114.0, 24.8, 16.4, \"MISS Ball 11' Driving Floating Jump Shot\"),\n",
       " (3, 'Jrue Holiday', 'Brandon Ingram', 'Derrick Favors', 'JJ Redick', 'Lonzo Ball', 'OG Anunoby', 'Pascal Siakam', 'Marc Gasol', 'Kyle Lowry', 'Fred VanVleet', 1, 0, 0, '0:11:47', '0:00:13', '0:00:01', 8, 'NOP', 'Derrick Favors', 'rebound', None, None, None, None, None, None, None, None, None, None, None, None, None, None, None, None, None, None, None, 'Favors REBOUND (Off:1 Def:0)'),\n",
       " (4, 'Jrue Holiday', 'Brandon Ingram', 'Derrick Favors', 'JJ Redick', 'Lonzo Ball', 'OG Anunoby', 'Pascal Siakam', 'Marc Gasol', 'Kyle Lowry', 'Fred VanVleet', 1, 2, 0, '0:11:47', '0:00:13', '0:00:00', 9, 'NOP', 'Derrick Favors', 'shot', None, None, None, None, None, None, None, None, None, None, 2.0, None, None, 'made', 1.0, 0.0, -6.0, 25.0, 4.4, \"Favors 1' Tip Layup Shot (2 PTS)\"),\n",
       " (5, 'Jrue Holiday', 'Brandon Ingram', 'Derrick Favors', 'JJ Redick', 'Lonzo Ball', 'OG Anunoby', 'Pascal Siakam', 'Marc Gasol', 'Kyle Lowry', 'Fred VanVleet', 1, 2, 0, '0:11:29', '0:00:31', '0:00:18', 10, 'TOR', 'OG Anunoby', 'miss', None, None, None, None, None, None, None, None, None, None, 0.0, None, None, 'missed', 3.0, 15.0, 28.0, 26.5, 86.2, \"MISS Anunoby 3' Driving Layup\"),\n",
       " (6, 'Jrue Holiday', 'Brandon Ingram', 'Derrick Favors', 'JJ Redick', 'Lonzo Ball', 'OG Anunoby', 'Pascal Siakam', 'Marc Gasol', 'Kyle Lowry', 'Fred VanVleet', 1, 2, 0, '0:11:25', '0:00:35', '0:00:04', 11, 'NOP', 'JJ Redick', 'rebound', None, None, None, None, None, None, None, None, None, None, None, None, None, None, None, None, None, None, None, 'Redick REBOUND (Off:0 Def:1)'),\n",
       " (7, 'Jrue Holiday', 'Brandon Ingram', 'Derrick Favors', 'JJ Redick', 'Lonzo Ball', 'OG Anunoby', 'Pascal Siakam', 'Marc Gasol', 'Kyle Lowry', 'Fred VanVleet', 1, 2, 0, '0:11:16', '0:00:44', '0:00:09', 12, 'NOP', 'Jrue Holiday', 'miss', None, None, None, None, None, None, None, None, None, None, 0.0, None, None, 'missed', 8.0, 81.0, -1.0, 16.9, 4.9, \"MISS Holiday 8' Driving Finger Roll Layup\"),\n",
       " (8, 'Jrue Holiday', 'Brandon Ingram', 'Derrick Favors', 'JJ Redick', 'Lonzo Ball', 'OG Anunoby', 'Pascal Siakam', 'Marc Gasol', 'Kyle Lowry', 'Fred VanVleet', 1, 2, 0, '0:11:15', '0:00:45', '0:00:01', 13, 'TOR', 'Fred VanVleet', 'rebound', None, None, None, None, None, None, None, None, None, None, None, None, None, None, None, None, None, None, None, 'VanVleet REBOUND (Off:0 Def:1)'),\n",
       " (9, 'Jrue Holiday', 'Brandon Ingram', 'Derrick Favors', 'JJ Redick', 'Lonzo Ball', 'OG Anunoby', 'Pascal Siakam', 'Marc Gasol', 'Kyle Lowry', 'Fred VanVleet', 1, 2, 0, '0:11:11', '0:00:49', '0:00:04', 14, 'TOR', 'Kyle Lowry', 'miss', None, None, None, None, None, None, None, None, None, None, 0.0, None, None, 'missed', 25.0, 178.0, 176.0, 42.8, 71.4, \"MISS Lowry 25' 3PT Running Pull-Up Jump Shot\")]"
      ]
     },
     "execution_count": 2,
     "metadata": {},
     "output_type": "execute_result"
    }
   ],
   "source": [
    "%%sql\n",
    "SELECT * FROM PlayLog LIMIT 10;"
   ]
  },
  {
   "cell_type": "code",
   "execution_count": null,
   "metadata": {
    "id": "DcHPqsdJoLYc"
   },
   "outputs": [],
   "source": [
    "%%sql\n",
    "SELECT * FROM PlayFacts LIMIT 10;"
   ]
  },
  {
   "cell_type": "markdown",
   "metadata": {
    "id": "FNHSV9ybq_V2"
   },
   "source": [
    "## **Working with Transaction Data: The `PlayLog` Table**\n",
    "\n",
    "The `PlayLog` table is designed to make it as simple and efficient as possible to *record* gameplay as a seuqence of events. Each row records a *play* event logged in near-real time in the course of the game. The specifics of each event (who, what, when, where, and how) are captured in numerous columns, each with a very specific meaning: \n",
    "\n",
    "- `PlayLogID` (autogenerated by the database) and `play_id` (found in the raw source data) are unique to each play and can be treated as candidate keys or *indexes*. (We'll learn more about keys and indexes in Lesson 4.)\n",
    "- `a1` - `a5` and `h1` -`h5` list which 5 players were on the court for the *away* team and the *home* team.  Each player name is unique for a given season, by the way. If there are two players with the same name -- yes, this has happened! -- then NBA stats department assigns each of the players a unique name. We'll treat the names like unique indexes for the players. \n",
    "- `event_type` indicates what kinds of statistics can be drawn from the play. A \"shot\" for example is a made shot, a \"miss\" is a missed shot, etc. \n",
    "- `player` records which player was the *subject* (initiator) of the event. If the `event_type`=\"rebound\" then the `player` is the one credited with the rebound.  \n",
    "- `opponent` is used in the event of a foul to indicate *who* on the opposing team was fouled.  \n",
    "- `possession`, `steal`, `block` work like `opponent` in that they indicate another player involved in the play. If the play is a turnover , then the player that caused the turnover would appear in one of these columns. \n",
    "- `period` (quarter), `remaining_time` (in the period), `elapsed_time` (in the period) record the approximate time of the event wihin the game. For example, `period`=1 and `remaining_time`= \"9:58\" mean the event occured in the first quarter with 9 minutes and 58 seconds on the game clock. \n",
    "- `shot_result`, `shot_distance`,\t`original_x`, `original_y`,\t`converted_x`, and\t`converted_y` are used to \"map\" the location of made and missed shots throughout a game. \n",
    "- `play_description` is the text that would appear in the play-by-play log in an app like ESPN Gamecast. \n",
    "\n",
    "\n"
   ]
  },
  {
   "cell_type": "markdown",
   "metadata": {
    "id": "DDvsi32Mdyzx"
   },
   "source": [
    "\n",
    "Below each task in **bold** is a code cell. Write and run the SQL query for the task. **Don't forget the `%%sql` magic at the top of the cells.** \n",
    "\n",
    "You can check your work by consulting [ESPN's box score](https://www.espn.com/nba/boxscore?gameId=401160623).\n"
   ]
  },
  {
   "cell_type": "markdown",
   "metadata": {
    "id": "-i7yKnUBgFNB"
   },
   "source": [
    "### **1. Calculate the total rebounds for the player \"Marc Gasol\".**\n",
    "\n",
    "Hint: You will need to filter based on the `event_type`."
   ]
  },
  {
   "cell_type": "code",
   "execution_count": null,
   "metadata": {
    "id": "bC1fX3zgeoSA"
   },
   "outputs": [],
   "source": []
  },
  {
   "cell_type": "markdown",
   "metadata": {
    "id": "bu6lyxDngtLZ"
   },
   "source": [
    "### **2. Calculate the total assists for the player \"Marc Gasol\".**\n",
    "Hint: Assists are tracked in their own column. "
   ]
  },
  {
   "cell_type": "code",
   "execution_count": null,
   "metadata": {
    "id": "EvUGqhzPg3sc"
   },
   "outputs": [],
   "source": []
  },
  {
   "cell_type": "markdown",
   "metadata": {
    "id": "DIh8zxOwgwlS"
   },
   "source": [
    "### **3. Calculate the total points scored for the player \"Marc Gasol\".**\n",
    "Hint: Like assists, points are also recorded in their own column."
   ]
  },
  {
   "cell_type": "code",
   "execution_count": null,
   "metadata": {
    "id": "XVUGQXbUg4dq"
   },
   "outputs": [],
   "source": []
  },
  {
   "cell_type": "markdown",
   "metadata": {
    "id": "KyVUjmNflYKg"
   },
   "source": [
    "### **4. Calculate the total points for each player. Sort the results by team and player name.**\n",
    "Hint: \n",
    "- You'll need to use `GROUP BY` this time. "
   ]
  },
  {
   "cell_type": "code",
   "execution_count": null,
   "metadata": {
    "id": "iSEgzvxbmJM8"
   },
   "outputs": [],
   "source": []
  },
  {
   "cell_type": "markdown",
   "metadata": {
    "id": "1Rykxlz1n7Lf"
   },
   "source": [
    "### **5. Calculate the total points for each team. List the away team (NOP) before the home team (TOR).**\n",
    "Hint: \n",
    "- This one should be pretty easy, except for (possibly) the sorting. \n",
    "- (optional) For an extra challenge try to determine which team is home and which is away *just from the data*.  "
   ]
  },
  {
   "cell_type": "code",
   "execution_count": null,
   "metadata": {
    "id": "YXZ4daepzB7t"
   },
   "outputs": [],
   "source": []
  },
  {
   "cell_type": "markdown",
   "metadata": {
    "id": "JfkmTOeel5xJ"
   },
   "source": [
    "### **6. Calculate the total points for each team by period.**\n",
    "Hints:\n",
    "- Use `IS NOT NULL` to eliminate null values (`None`).\n",
    "- Don't forget to list the team and the period in the results!"
   ]
  },
  {
   "cell_type": "code",
   "execution_count": null,
   "metadata": {
    "id": "nr98O9Lll3ii"
   },
   "outputs": [],
   "source": []
  },
  {
   "cell_type": "markdown",
   "metadata": {
    "id": "apzbNPnqnykW"
   },
   "source": [
    "### **7. (optional) Calculate the total minutes for the player \"Marc Gasol\".**\n",
    "\n",
    "Hint: This one is really, really hard. You will need to consult SQLite docs to handle elapsed time *because SQLite stores times as text.* (See section 2.2 of the [Data Types](https://www.sqlite.org/datatype3.html) docs. Then expect to spend a while in the Date and Time functions page.)"
   ]
  },
  {
   "cell_type": "code",
   "execution_count": null,
   "metadata": {
    "id": "-H3Ia46wpf9d"
   },
   "outputs": [],
   "source": []
  },
  {
   "cell_type": "markdown",
   "metadata": {
    "id": "W2qeiI-bduQU"
   },
   "source": [
    "## **Working with Analytical Data: The `PlayFacts` Table**\n",
    "\n",
    "`PlayFacts` summarizes the data in the game log. Each play in the log is summarized twice, once from the perspective of the away team (NOP) and then again from the perspective of the home team (TOR). Depending on the play, one row of the log may correspond to several rows of facts in the `PlayFacts` table. For example, if a player scores a basket with an assist (pass) from another player, then that is two facts that have to be recorded. \n",
    "\n",
    "Another key difference (that's a pun, by the way) is that the `PlayFacts` table is designed to summarize every play in every game ever played. Thus it includes contextual facts that are not in the original game log data. **The complete dataset for the 2019-20 season is over a million rows.** (However, to keep things simple, we will only include the play facts for the NOP vs TOR game.)\n",
    "\n",
    "The summaries are organized into three sets of columns: \n",
    "- **Information about the *game***: \n",
    "  - `season`,\t`year`,\t`date`\n",
    "- **Information about the *play***: \n",
    "  - `team`: which team gets \"credit\" for the stat\n",
    "  - `opp_team`: the opposing team\n",
    "  - `period`,`remaining_time`,`elapsed` (time), `event_type`, `player`, ... : same as before\n",
    "  - `lineup`: a list of players as a text string instead of five columns (so it can be searched); players always appear in alphabetical order\n",
    "  - `segment_id`: each segment represents a sequence of plays in which there were no player substitutions for either team  \n",
    "  - `event_type` and `player`: same as in `PlayLog` *except* it now includes `assist`, `block`, and `steal` events; note that we could capture more event types if we like (e.g., different kinds of fouls) without adding any columns to the table. \n",
    "- **Calculated facts (stats) that can counted and summed**:\n",
    "  - `+points`, `+assists`, ... : the stats taken from the perspective of the team in the `team` column; if `team`=`TOR` then `+points` are how many points `TOR` scored on the play\n",
    "  - `-points`, `-assists`, ... : the stats for opposing team; if `team`=`TOR` then `-points` are those scored for `NOP`\n",
    "  - `play_length_secs`, `play_length_mins`: the elapsed time since the previous play in seconds and minutes; note that these columns are numeric, not text, so they can be summed. \n",
    "\n",
    "\n"
   ]
  },
  {
   "cell_type": "markdown",
   "metadata": {
    "id": "pBtfhse3lxzh"
   },
   "source": [
    "### **8. Calculate the points, rebounds, and assists for Marc Gasol.**\n",
    "Hint: This is a single query! Use the '+' stats."
   ]
  },
  {
   "cell_type": "code",
   "execution_count": null,
   "metadata": {
    "id": "a6v9YW_V0eKI"
   },
   "outputs": [],
   "source": []
  },
  {
   "cell_type": "markdown",
   "metadata": {
    "id": "CK9Zo5oc0Go_"
   },
   "source": [
    "### **9. Calculate the total minutes for Marc Gasol.**\n",
    "Hint: Look for \"Marc Gasol\" in the `lineup` column using `LIKE` or the `instr()` function. "
   ]
  },
  {
   "cell_type": "code",
   "execution_count": null,
   "metadata": {
    "id": "WhonRtbG0dqn"
   },
   "outputs": [],
   "source": []
  },
  {
   "cell_type": "markdown",
   "metadata": {
    "id": "pcQaS3jS1Wm0"
   },
   "source": [
    "### **10. Calculate the points, rebounds, assists, blocks, steals, turnovers, and fouls for each team.**\n",
    "Hint: It's easier than it looks."
   ]
  },
  {
   "cell_type": "code",
   "execution_count": null,
   "metadata": {
    "id": "fra9u9Gj594D"
   },
   "outputs": [],
   "source": []
  },
  {
   "cell_type": "markdown",
   "metadata": {
    "id": "ZOVe7o9H0c7W"
   },
   "source": [
    "### **11. Calculate the points, rebounds , assists, free throws attempted, free throws made, 2pt field goals attempted, 2pt field goals made, 3pt field goals attempted, 3pt field goals made for every player. Sort the results by team and player name.**\n",
    "Hints: \n",
    "- Use abbreviations in the table without the plusses and minuses as column aliases; '+points' $\\rightarrow$ 'points'"
   ]
  },
  {
   "cell_type": "code",
   "execution_count": null,
   "metadata": {
    "id": "_ELVp3y62oDv"
   },
   "outputs": [],
   "source": []
  },
  {
   "cell_type": "markdown",
   "metadata": {
    "id": "MzoR3sfrzQiF"
   },
   "source": [
    "### **12. (optional; uses multiple tables/views) Calculate the minutes, points, rebounds, and assists for every player. Sort the results by team and player name.**\n",
    "Hint: This one will likely require a subquery to merge the minutes with the other stats. If you come up with another way, then please post it in the class Slack channel. "
   ]
  },
  {
   "cell_type": "code",
   "execution_count": null,
   "metadata": {
    "id": "OEKZAx6V3Q7a"
   },
   "outputs": [],
   "source": []
  },
  {
   "cell_type": "markdown",
   "metadata": {
    "id": "cj0Ce_hzdwsa"
   },
   "source": [
    "## **Discussion: What did we learn?**\n",
    "\n",
    "* Which queries did you find to be easier? Why?\n",
    "\n",
    "* How are the `PlayLog` and `PlayFacts` tables different?\n",
    "\n",
    "* Are there any assumptions about the data in the `PlayLog` table that we relied on to create the `PlayFacts` table? In other words, where might bugs in the `PlayLog` table cause bugs in the `PlayFacts` table?\n",
    "\n",
    "* If you had to generate the `PlayFacts` table from the `PlayLog` data, how would *you* approach it?\n",
    "\n",
    "* Have you ever had to do anything similar to the kinds of queries in this homework? If so, how did you do it?"
   ]
  },
  {
   "cell_type": "markdown",
   "metadata": {
    "id": "zHG0JD84Csnl"
   },
   "source": [
    "## **On your way out ... Be sure to save your work**.\n",
    "In Google Drive, drag this notebook file into your `DATA6510` folder so you can find it next time."
   ]
  }
 ],
 "metadata": {
  "colab": {
   "authorship_tag": "ABX9TyMRPjC2DYhoFo0onwClCWaM",
   "provenance": []
  },
  "kernelspec": {
   "display_name": "Python 3 (ipykernel)",
   "language": "python",
   "name": "python3"
  },
  "language_info": {
   "codemirror_mode": {
    "name": "ipython",
    "version": 3
   },
   "file_extension": ".py",
   "mimetype": "text/x-python",
   "name": "python",
   "nbconvert_exporter": "python",
   "pygments_lexer": "ipython3",
   "version": "3.8.15"
  }
 },
 "nbformat": 4,
 "nbformat_minor": 4
}
