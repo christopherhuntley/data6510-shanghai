{
  "nbformat": 4,
  "nbformat_minor": 0,
  "metadata": {
    "colab": {
      "provenance": [],
      "mount_file_id": "11MBPducEj0HgT0u-nrCE60AvHJQnPR3y",
      "authorship_tag": "ABX9TyMkE1URWw2KOBq3tdURWfHh"
    },
    "kernelspec": {
      "name": "python3",
      "display_name": "Python 3"
    }
  },
  "cells": [
    {
      "cell_type": "markdown",
      "metadata": {
        "id": "5rHzwUorF5ab"
      },
      "source": [
        "<img src=\"https://github.com/christopherhuntley/DATA6510/blob/master/img/Dolan.png?raw=true\" width=\"180px\" align=\"right\">\n",
        "\n",
        "# **DATA 6510**\n",
        "# **Lesson 8: SQL Extensions and Alternatives** \n",
        "_NoSQL, Window Functions, and Collection Types_\n",
        "\n",
        "## **Learning Objectives**\n",
        "### **Theory / Be able to explain ...**\n",
        "\n",
        "- NoSQL technologies like Key-Value Stores, Document Stores, and Graph Databases\n",
        "- Recent SQL extensions geared towards analytical applications \n",
        "\n",
        "### **Skills / Know how to ...**\n",
        "- Use window functions to work with timestamped data\n",
        "- Use SQL arrays and structs to work with repeating groups and hierarchical data structures\n",
        "--------"
      ]
    },
    {
      "cell_type": "markdown",
      "metadata": {
        "id": "euT4WJUOymsJ"
      },
      "source": [
        "## **BIG PICTURE: Implementation Tradeoffs**\n",
        "In this lesson we will explore various alternatives to the traditional **rowstore** database. Some of the alternatives will drop SQL itself, which would seem like heresy. However, there are actually some important use cases where one might not want to use a SQL-based solution. Even when SQL is the right decision there are plenty of options to choose from that fit some use cases better than others. \n",
        "\n",
        "In Lesson 5 we discussed four basic design priorities:\n",
        "- Minimizing Storage Space\n",
        "- Maximizing Calculation Speed\n",
        "- Maximizing Coherency\n",
        "- Minimizing Data Corruption Risk\n",
        "\n",
        "These tradeoffs between these priorities exist regardless of the technology used. That's why they are *design* tradeoffs. However, there is more to database systems than design. Sometimes we have to broaden our scope to consider other alternatives. \n",
        "\n",
        "Here are four considerations that underlie any database technology decision:\n",
        "- **Flexibility / Developer Experience**  \n",
        "  How easy is it for developers to learn and use the technology? It may make sense to use technology that is closer to what your programmers use everyday. \n",
        "- **Scalability / Performance Speed and Cost**  \n",
        "  There is a natural tradeoff between speed and cost. Technology that works at Big Data Scale makes that tradeoff explicit. How much does each GB of storage cost? How about each GB/sec of query throughput? If we are willing to wait a little longer for each query can we save some money? \n",
        "- **Consistency / Timeliness**  \n",
        "  Data is worthless if it is not available when you need it. If we don't need data to be instantaneously available, how long can we wait? If we need the data right now, then how tolerant are we of anomalies and other imperfections? If we use data replication to speed up access, do we need all copies to be 100% consistent? \n",
        "- **Technical Maturity / Technical Debt**  \n",
        "  Database technology is always evolving, with new solutions coming out all the time. The newest technology may score well on the above considerations but also may come with bugs and other problems that need to be worked out. Meanwhile, older technology may be rock solid but also may limit your choices going forward. There is always the risk of being stuck with obsolete technology while your competition is beating you with something newer. \n",
        "\n",
        "We will start with the first two considerations, developer experience and performance, which are generally used as the rationale for NoSQL technologies that don't (necessarily) adhere to the relational database model. Then we will follow up with strategies that can further improve the speed and cost performance for any technology, providing you are able to make the right consistency and maturity tradeoffs.\n",
        "\n",
        " "
      ]
    },
    {
      "cell_type": "markdown",
      "source": [
        "---\n",
        "## **NoSQL Databases**\n",
        "The term \"NoSQL\" was first coined in the late 1990s and gained popularity among application programmers about a decade later. It refers to databases that do not rely on the relational model. That does not mean that SQL (or some close approximation) isn't used, but rather, that NoSQL systems extend beyond the traditional relational model. \n",
        "\n",
        "For this reason some interpret NoSQL as \"Not only SQL\" rather than exclusively no use of SQL at all. In fact, each of the NoSQL technologies surveyed here *could* in fact be implemented in SQL, and we will try to use relational models to explain how each relates to SQL and how it extends beyond it. \n",
        "\n",
        "Why would we even need to go beyond SQL? \n",
        "- **Developer Experience (DX):** As we have discussed before, there is a natural impedance mismatch between a declarative language like SQL and a more imperative application development language like Python, Java, or JavaScript. NoSQL technologies remove much of the discomfort some programmers feel when using SQL.\n",
        "- **Performance:** Selectively relaxing the rules of the relational model can sometimes bring speed and cost benefits that outweigh the integrity protections of the relational model. \n",
        "\n",
        "For each of the models below we will discuss how it differs from the standard relational model, potential DX or performance benefits, and the most common usage scenarios. \n",
        "\n",
        "### **Key-Value Stores**\n",
        "Key-Value (KV) stores are most useful when a table is very sparse, like this section of the NBA PlayLog data set. \n",
        "\n",
        "![Sparse Table](https://github.com/christopherhuntley/DATA6510/raw/master/img/L11_Sparse_Table.png)\n",
        "\n",
        "If most values in a table are blank, then why waste time and effort recording them in rows and columns. Instead, just store the data you actually have, tagged to suit however you may need to retrieve it. \n",
        "\n",
        "In relational terms, a KV store is just a single two column table   \n",
        "`kv_store(`**`key`**`, value)`\n",
        "\n",
        "where\n",
        "- **`key`** is a unique index\n",
        "- `value` is a datum to be stored\n",
        "\n",
        "Usually the data type of the `value` is either encoded in the data itself (e.g., like i2'15' or s5'Steve`), encoded in the key, or assumed to be text. \n",
        "\n",
        "> **Heads Up:** We have already seen an example in Lesson 5. The Entity-Attribute-Value model can, with the right modeling conventions, be seen as a kind of KV store. The key would be a composite of the entity and attribute. \n",
        "\n",
        "You may be wondering how we can replace a two-dimensional table with rows and columns with a one dimensional KV store. We do it exactly like we would with composite indexes in the relational model, with the row and column encoded in the key. It's all in the patterns we use when constructing the keys.\n",
        "\n",
        "For example, the following could be used to record the `assist`,`away`, etc. columns as key-value pairs:\n",
        "\n",
        "| **Key** | **Value**|\n",
        "| --- | ---|\n",
        "| 2:away | Derrick Favors |\n",
        "| 2:home | Marc Gasol |\n",
        "| 18:opponent | Kyle Lowry |\n",
        "| 20:num | 1 |\n",
        "| 21:num | 2 |\n",
        "\n",
        "KV Stores are commonly used for creating data caches for the web. Here, for example, is the data that Colab is keeping about *this page* (somewhat redacted) while I have it open in my web browser : \n",
        "![](https://github.com/christopherhuntley/DATA6510/raw/master/img/L11_Colab_Local_Storage.png)\n",
        "\n",
        "Similar caching technology is used by web servers to minimize reads from the disk storage. If the same CSS is used on every page then why read it from disk every time? The server doesn't. Instead it serves the CSS from a highly-optimized, in-memory KV cache. \n",
        "\n",
        "#### **Wide-Column KV Stores**\n",
        "Wide-Column data stores extend the KV model to allow data storage as multiple columns:\n",
        "- The keys are just like any other KV store.\n",
        "- The columns are encoded like a SQL `STRUCT` (or JSON object), with each column having a name and a value. \n",
        "\n",
        "The columns for each key may vary, like this:\n",
        "\n",
        "| **Key** | **Value**|\n",
        "| --- | ---|\n",
        "| 2 | {away:Derrick Favors, home: Marc Gasol} |\n",
        "| 18 | {opponent:Kyle Lowry} |\n",
        "| 20 | {num:1} |\n",
        "| 21 | {num:2} |\n",
        "\n",
        "The effect is to condense the already very space-efficient key-value model by eliminating overlapping keys. In this case we eliminated a row of data storage by sharing the key `2` for the `away` and the `home` columns. \n",
        "\n",
        "#### **Summary**\n",
        "\n",
        "- Pros\n",
        "  - very fast storage and retrieval (when applicable)\n",
        "  - compact storage \n",
        "  - programmer-friendly\n",
        "- Cons\n",
        "  - schema by convention instead of rules\n",
        "  - potential for schema drift as new key types proliferate\n",
        "  - no FKs or analogous way to integrate data across keys\n",
        "- When to use\n",
        "  - with sparse or highly volatile data where the keys need to be flexible\n",
        "  - as local data stores in application development\n",
        "  - when caching data to speed up application performance\n",
        "- Example Products\n",
        "  - [Varnish](https://varnish-cache.org/)\n",
        "  - Nginx\n",
        "  - Squid\n",
        "  - Memcached\n",
        "  - redis\n",
        "  - AWS DynamoDB\n",
        "\n",
        "### **Document Stores**\n",
        "Document stores build on the KV model to construct arbitrarily complex (and data rich) databases of *semi-structured* data. Semi-structured data has a schema (so we can interpret and process it), just like any other data model, but not one we can know about in advance. Specifically, in a document store each document (roughly equivalent to a table row) can have its own schema, structuring the data however it likes. We can then only know a document schema *after* opening the document, whereas for the relational model all table schemas are known *before* doing any DML operation. \n",
        "\n",
        "The classic example of a document storage format is that used by Microsoft Word, which acts as a *container* for components (blocks of text, titles, images, tables, etc.). One can insert just about anything inside an MS Word file (even malware, unfortunately). MS Word will then compose and render the components as documents in real time so end users can read and edit the data contained inside. \n",
        "\n",
        "A more relevant example is JSON, which has become the de facto standard format for transmitting data over the web. Like with an MS Word document, a JSON object or list acts as a container, into which we can insert ... JSON objects and lists. The result is a tree structure, with objects and lists nested inside each other to some unspecified depth. \n",
        "\n",
        "Here, for example, is what a Colab notebook (this one, in fact) looks like when you open it in a text editor:\n",
        "![Colab as JSON](https://github.com/christopherhuntley/DATA6510/raw/master/img/L11_Colab_As_JSON.png)\n",
        "\n",
        "Yes, the `ipynb` file format is really just highly structured JSON. Here's the same JSON in a nicer, pretty printed format:\n",
        "![Prettified JSON](https://github.com/christopherhuntley/DATA6510/raw/master/img/L11_Pretty_JSON.png)\n",
        "\n",
        "A Colab Notebook is mostly a list of \"cells\" $-$ look for it in the screenshot $-$ where each cell has a `cell_type`, `metadata`, and `source`. The `source` is whatever we typed into the cell. \n",
        "\n",
        "We will come back to JSON in the **Pro Tips** section later in this lesson. \n",
        "\n",
        "#### **Summary**\n",
        "- Pros\n",
        "  - little or no impedance mismatch for programmers, especially when using JavaScript\n",
        "  - very compact, especially for semi-structured data\n",
        "- Cons\n",
        "  - same as KV stores; complex queries are especially difficult\n",
        "  - schema on read complicates app design and development; potentially buggy\n",
        "- When to use\n",
        "  - for local storage or web transmission of data\n",
        "  - for complex hierarchically-structured data, where documents are composed of nested components\n",
        "  - When storing \"objects\" in relational databases\n",
        "- Example Products\n",
        "  - CouchDB\n",
        "  - mongoDB\n",
        "  - AWS DynamoDB\n",
        "  - Google Cloud Firestore\n",
        "\n",
        "### **Graph Databases**\n",
        "A graph database organizes data into three kinds of structures:\n",
        "- A set of **nodes** that represent entities within the domain\n",
        "- A set of **edges** (or arcs) that connect nodes to represent relationships\n",
        "- **Properties** that represent the attributes of each entity or relationship\n",
        "\n",
        "| ![Neo4J Screenshot](https://github.com/christopherhuntley/DATA6510/raw/master/img/L11_Neo4J_Screenshot_Annotated.png) |\n",
        "|:---:|\n",
        "| Original Image Source: [*Graph Databases, Linked Data, RDF, and the Semantic Web Wasteland*]( https://medium.com/@eisenzopf/graph-databases-linked-data-rdf-and-the-semantic-web-wasteland-69e9f4347a5b) |\n",
        "\n",
        "\n",
        "On a superficial level, graph databases are a lot like relational databases, with nodes = entities, properties = attributes, and edges = relationships.  A graph database, however, is much more flexible in how it defines these things: \n",
        "- Since we are not using relations, there is no need to separate the entities by type. If we like, **we can treat each node as a unique type, with its own distinct properties (kept as Key-Value pairs).** \n",
        "- Whereas a relational database treats relationships as being between entity types, graph databases define them on specific node pairs. **Any pair of nodes can be connected by an edge, regardless of type.** \n",
        "- While each node has a unique identifier, there is no concept of type-based foreign keys. Instead, **each edge is treated like an entity with a unique identifier.** The edge then has two implicit properties to reference the nodes it connects. \n",
        "\n",
        "With all that said, a graph database *can* be mapped into a very specific relational model where:\n",
        "- There are three types of entities: nodes, edges, and properties.\n",
        "- Edge entities are directional, with each having a start node and an end node.\n",
        "- Properties are associated with nodes or edges as needed.\n",
        "\n",
        "So if the graph database is really just a special case of the relational model, then what's the point? For some applications a graph database can be much, much faster than a relational database. For example, consider the database behind the [Six Degrees of Kevin Bacon](https://en.wikipedia.org/wiki/Six_Degrees_of_Kevin_Bacon) game, where each working actor has a *Bacon Number*, BN, that represents the number of edges needed to connect them to Kevin Bacon. Kevin Bacon's BN is 0. Anyone who has appeared in a movie with him has a BN of 1. Anyone who has appeared with anyone whose BN=1 has a BN of 2, etc. The game is to guess an obscure actor's BN, with super bonus points for finding a movie actor *anywhere in the world* without a BN. \n",
        "\n",
        "Let all the movie credits in the world be stored in a single table called `credits`, with one row per actor and movie. To keep things as simple as possible we will assume that \n",
        "- Each actor and each movie has a unique identifier (`actor_id` and `movie_id`).\n",
        "- We already know the `actor_id` identifiers for Kevin Bacon (`kevin_bacon_id`) and the other actor in question (`other_actor_id`).\n",
        "\n",
        "Then to find all people with BN=1 we would join the credits table with itself one time:\n",
        "\n",
        "```sql\n",
        "-- Check for BN=1\n",
        "SELECT distinct c1.actor_id \n",
        "FROM credits AS c0 \n",
        "    JOIN credits AS c1 USING (movie_id)\n",
        "WHERE c0.actor_id = kevin_bacon_id AND c1.actor_id = other_actor_id\n",
        "```\n",
        "(If we want to look for a particular actor, we can just include them as `c1.actor_id` in the `WHERE` clause. If there are no results then the actor's BN is greater than 1.) \n",
        "\n",
        "To find all the movies that BN=1 actors appeared in would we add in another join:\n",
        "```sql\n",
        "SELECT distinct c2.movie_id \n",
        "FROM credits AS c0 \n",
        "    JOIN credits AS c1 ON (c0.movie_id = c1.movie_id)\n",
        "    JOIN credits AS c2 ON (c1.actor_id = c2.actor_id)\n",
        "WHERE c0.actor_id = kevin_bacon_id\n",
        "```\n",
        "\n",
        "We can then repeat the process with another join to get the BN=2 actors. To get the BN=3 actors we would add on two more joins to the chain. If we repeat the process out to BN=6 (the theoretical maximum for a working movie actor) then we would have 11 joins in the chain. \n",
        "\n",
        "```sql\n",
        "SELECT distinct c11.actor_id \n",
        "FROM credits AS c0 \n",
        "    JOIN credits AS c1 ON (c0.movie_id = c1.movie_id) # BN=1\n",
        "\n",
        "    JOIN credits AS c2 ON (c1.actor_id = c2.actor_id)\n",
        "    JOIN credits AS c3 ON (c2.movie_id = c3.movie_id) # BN=2\n",
        "\n",
        "    JOIN credits AS c4 ON (c3.actor_id = c4.actor_id)\n",
        "    JOIN credits AS c5 ON (c4.movie_id = c5.movie_id) # BN=3\n",
        "\n",
        "    JOIN credits AS c6 ON (c5.actor_id = c6.actor_id)\n",
        "    JOIN credits AS c7 ON (c6.movie_id = c7.movie_id) # BN=4\n",
        "\n",
        "    JOIN credits AS c8 ON (c7.actor_id = c8.actor_id)\n",
        "    JOIN credits AS c9 ON (c8.movie_id = c9.movie_id) # BN=5\n",
        "\n",
        "    JOIN credits AS c10 ON (c9.actor_id = c10.actor_id)\n",
        "    JOIN credits AS c11 ON (c10.movie_id = c11.movie_id) # BN=6\n",
        "WHERE c0.actor_id = kevin_bacon_id AND c11.actor_id = other_actor_id\n",
        "```\n",
        "\n",
        "Running up to six queries like this seems ugly but still plenty doable, until you realize that the `credits` table might have 50 million rows. **Even with supercomputer hardware the query could take virtually forever.** With a graph database and a well-tuned search algorithm, however, we can find the specific sequence of edges connecting any actor to any other in less than a second. We can make it *even faster* if we assume that one of the actors is Kevin Bacon. \n",
        "\n",
        "The secret is in the specificity of the graph database model. We don't need to explore all possible actor-to-movie-to-actor connections. Instead we only need to follow the connections along the shortest path, which can be found fairly quickly via dynamic programming. If we want it even faster we can try A* search with an \"explore big cast movies first\" strategy. \n",
        "\n",
        "The achilles heel of the graph database model is bulk computation. If we need to do the same repetitive operation millions of times, perhaps concurrently, then a relational or perhaps a document database is likely a better fit, depending on the operation in question. Graph databases are designed for representation and searching, and they do those things very well, but not so much for statistical modeling or similar table-oriented applications. \n",
        "\n",
        "#### **Summary**\n",
        "- Pros\n",
        "  - flexible data model, with nodes, entities, and properties as first-class entity types\n",
        "  - scales well for associative datasets with lots of relationships\n",
        "- Cons\n",
        "  - same as KV stores; complex queries are especially difficult \n",
        "  - while searchable, lacks most of the computational power of the relational model\n",
        "  - treating each edges and property as a separate entity may not be space efficient\n",
        "- When to use\n",
        "  - whenever the data is naturally represented as nodes, edges, and properties\n",
        "  - for network-focused apps like customer relationship management, road navigation, certain search engine operations, and file systems\n",
        "  - for semantic maps (e.g., in text analytics) where the relationships represent interactions, forces, hierarchies, etc.\n",
        "- Example Products\n",
        "  - Neo4j\n",
        "  - RedisGraph\n",
        "  - AWS Neptune\n"
      ],
      "metadata": {
        "id": "l0TAoLS6kJj5"
      }
    },
    {
      "cell_type": "markdown",
      "metadata": {
        "id": "A0BMRLxqZwqZ"
      },
      "source": [
        "---\n",
        "## **Window Functions: How to work with longitudinal data**\n",
        "\n",
        "Longitudinal data, where the meaning of a given fact is determined relative to the ones before it, is inherently problematic. The complexity is subtle, practically invisible to untrained eyes, but it can nonetheless wreak havoc on even the best data model. \n",
        "\n",
        "The relational data model is designed to capture instantaneous snapshots of whatever is being tracked, adding one row at a time. \n",
        "```sql\n",
        "INSERT INTO table (columns)\n",
        "  rows;\n",
        "```\n",
        "\n",
        "Similarly, `SELECT` queries return data one row at a time. That makes it nice and symmetric, with rows in and rows out. \n",
        "\n",
        "Now for the subtle part. If we want to include a calculated column, say the difference between two other columns in the same row, then we'd do something like this:\n",
        "```sql\n",
        "SELECT column_b - column_a AS b_minus_a \n",
        "FROM ... ;\n",
        "```\n",
        "That seems simple enough. We can also, of course, use `GROUP BY` to calculate subtotals within a given column if we like:\n",
        "```sql\n",
        "SELECT sum(column_a) as subtotal_a\n",
        "FROM ...\n",
        "GROUP BY column_b;\n",
        "```\n",
        "In both cases we are performing a calculation over *nonoverlapping* groups of rows and columns (i.e., either within each row or aggregated within predefined groups of rows).\n",
        "\n",
        "However, what if we need to calculate differences between each row and *the one above it*? Then it gets more complicated, *because the groups overlap*. Not even `GROUP BY` can help us with that, unless we somehow make each row and the one above it a group, which seems highly inefficient at best. We'll instead have to dig deeper into our bag of tricks: \n",
        "- Join a table to itself using some sort of lag logic on the keys:\n",
        "```\n",
        "SELECT t2.column_a - t1.column_a AS diff_a_lag_1\n",
        "FROM table AS t1 JOIN table AS t2 ON (t1.id = t2.id + 1)\n",
        "```\n",
        "- Use Python or another programming language to do the work. pandas has the `shift()` method just for such a purpose. You merge one table with a shifted version of itself. If you go this route, of course, you will need SQL to read the input data and then write the calculations back to the database afterwards. That's a nontrivial solution to say the least.  \n",
        "- Use a SQL **window function**, which operates vertically within a column instead of laterally within a row. \n",
        "\n",
        "For most use cases, window functions will be your best choice. \n",
        "\n",
        "Window functions are used in the `SELECT` and `ORDER BY` clauses to aggregate longitudinal data *without a `GROUP BY` clause*. Instead of the traditional grouping operation, the expression being calculated specifies a *sliding window* of rows, anchored by the current row. The syntax is \n",
        "```sql\n",
        "expression OVER ( window_selector )\n",
        "```\n",
        "The `window_selector` specifies what rows to include and can use pretty sophisticated selection criteria like any of the following:\n",
        "- X rows before and Y rows after the current row\n",
        "- All rows before the current row\n",
        "- All rows where column X is within some range of Z in the current row\n",
        "- X rows before and Y rows after, sorted by the value of Z\n",
        "\n",
        "The window function partitions the rows (much like `GROUP BY`) based on the given criteria and then calculates the expression based on the current row. The expression is almost always an aggregation function like `SUM()` or `AVG()`, of which there are too many to list here. There are even special ones like [`STRING_AGG()`](https://cloud.google.com/bigquery/docs/reference/standard-sql/functions-and-operators#string_agg) that work with non-numeric data types. \n",
        "\n",
        "Here, for example, we are calculating the cumulative minutes for each NBA player lineup throughout a season of play.  \n",
        "\n",
        "\n",
        "\n"
      ]
    },
    {
      "cell_type": "code",
      "metadata": {
        "colab": {
          "base_uri": "https://localhost:8080/"
        },
        "id": "aD5HZzTObU0b",
        "outputId": "ee0be12a-5627-4564-fe9a-5bbc64bac5fc"
      },
      "source": [
        "# load the bigquery magics extension\n",
        "%load_ext google.cloud.bigquery\n",
        "%load_ext google.colab.data_table\n",
        "\n",
        "# authenticate for GCP access\n",
        "from google.colab import auth\n",
        "auth.authenticate_user()\n",
        "print('Authenticated')"
      ],
      "execution_count": null,
      "outputs": [
        {
          "output_type": "stream",
          "text": [
            "The google.cloud.bigquery extension is already loaded. To reload it, use:\n",
            "  %reload_ext google.cloud.bigquery\n",
            "Authenticated\n"
          ],
          "name": "stdout"
        }
      ]
    },
    {
      "cell_type": "code",
      "metadata": {
        "colab": {
          "base_uri": "https://localhost:8080/",
          "height": 623
        },
        "id": "3dUga94Fbq0j",
        "outputId": "a1bfb097-a29a-4723-d953-8f763192698d"
      },
      "source": [
        "%%bigquery --project nba-lineup-facts\n",
        "SELECT \n",
        "    game_id, \n",
        "    date,\n",
        "    lineup, \n",
        "    sum(play_length_mins) OVER \n",
        "      (PARTITION BY lineup ORDER BY game_id ROWS BETWEEN UNBOUNDED PRECEDING AND CURRENT ROW ) \n",
        "      AS cum_mins\n",
        "FROM `nba-lineup-facts.lineup_facts.game_facts_all` \n",
        "WHERE year = 2020\n",
        "ORDER BY lineup, date\n",
        "LIMIT 100"
      ],
      "execution_count": null,
      "outputs": [
        {
          "output_type": "execute_result",
          "data": {
            "application/vnd.google.colaboratory.module+javascript": "\n      import \"https://ssl.gstatic.com/colaboratory/data_table/a6224c040fa35dcf/data_table.js\";\n\n      window.createDataTable({\n        data: [[{\n            'v': 0,\n            'f': \"0\",\n        },\n{\n            'v': 21900415,\n            'f': \"21900415\",\n        },\n\"2019-12-18\",\n\"[\\\"D'Angelo Russell\\\", 'Damion Lee', 'Draymond Green', 'Eric Paschall', 'Glenn Robinson III']\",\n{\n            'v': 0.08333333333333333,\n            'f': \"0.08333333333333333\",\n        }],\n [{\n            'v': 1,\n            'f': \"1\",\n        },\n{\n            'v': 21900665,\n            'f': \"21900665\",\n        },\n\"2020-01-22\",\n\"[\\\"D'Angelo Russell\\\", 'Damion Lee', 'Draymond Green', 'Eric Paschall', 'Glenn Robinson III']\",\n{\n            'v': 0.7,\n            'f': \"0.7\",\n        }],\n [{\n            'v': 2,\n            'f': \"2\",\n        },\n{\n            'v': 21900679,\n            'f': \"21900679\",\n        },\n\"2020-01-24\",\n\"[\\\"D'Angelo Russell\\\", 'Damion Lee', 'Draymond Green', 'Eric Paschall', 'Glenn Robinson III']\",\n{\n            'v': 4.2333333333333325,\n            'f': \"4.2333333333333325\",\n        }],\n [{\n            'v': 3,\n            'f': \"3\",\n        },\n{\n            'v': 21900757,\n            'f': \"21900757\",\n        },\n\"2020-02-05\",\n\"[\\\"D'Angelo Russell\\\", 'Damion Lee', 'Draymond Green', 'Eric Paschall', 'Marquese Chriss']\",\n{\n            'v': 13.45,\n            'f': \"13.45\",\n        }],\n [{\n            'v': 4,\n            'f': \"4\",\n        },\n{\n            'v': 21900757,\n            'f': \"21900757\",\n        },\n\"2020-02-05\",\n\"[\\\"D'Angelo Russell\\\", 'Damion Lee', 'Draymond Green', 'Eric Paschall', 'Omari Spellman']\",\n{\n            'v': 1.7333333333333334,\n            'f': \"1.7333333333333334\",\n        }],\n [{\n            'v': 5,\n            'f': \"5\",\n        },\n{\n            'v': 21900076,\n            'f': \"21900076\",\n        },\n\"2019-11-01\",\n\"[\\\"D'Angelo Russell\\\", 'Damion Lee', 'Draymond Green', 'Glenn Robinson III', 'Marquese Chriss']\",\n{\n            'v': 2.2666666666666666,\n            'f': \"2.2666666666666666\",\n        }],\n [{\n            'v': 6,\n            'f': \"6\",\n        },\n{\n            'v': 21900366,\n            'f': \"21900366\",\n        },\n\"2019-12-11\",\n\"[\\\"D'Angelo Russell\\\", 'Damion Lee', 'Draymond Green', 'Glenn Robinson III', 'Marquese Chriss']\",\n{\n            'v': 5.15,\n            'f': \"5.15\",\n        }],\n [{\n            'v': 7,\n            'f': \"7\",\n        },\n{\n            'v': 21900665,\n            'f': \"21900665\",\n        },\n\"2020-01-22\",\n\"[\\\"D'Angelo Russell\\\", 'Damion Lee', 'Draymond Green', 'Glenn Robinson III', 'Marquese Chriss']\",\n{\n            'v': 8.55,\n            'f': \"8.55\",\n        }],\n [{\n            'v': 8,\n            'f': \"8\",\n        },\n{\n            'v': 21900679,\n            'f': \"21900679\",\n        },\n\"2020-01-24\",\n\"[\\\"D'Angelo Russell\\\", 'Damion Lee', 'Draymond Green', 'Glenn Robinson III', 'Marquese Chriss']\",\n{\n            'v': 21.533333333333328,\n            'f': \"21.533333333333328\",\n        }],\n [{\n            'v': 9,\n            'f': \"9\",\n        },\n{\n            'v': 21900702,\n            'f': \"21900702\",\n        },\n\"2020-01-28\",\n\"[\\\"D'Angelo Russell\\\", 'Damion Lee', 'Draymond Green', 'Glenn Robinson III', 'Marquese Chriss']\",\n{\n            'v': 35.31666666666666,\n            'f': \"35.31666666666666\",\n        }],\n [{\n            'v': 10,\n            'f': \"10\",\n        },\n{\n            'v': 21900717,\n            'f': \"21900717\",\n        },\n\"2020-01-30\",\n\"[\\\"D'Angelo Russell\\\", 'Damion Lee', 'Draymond Green', 'Glenn Robinson III', 'Marquese Chriss']\",\n{\n            'v': 52.46666666666666,\n            'f': \"52.46666666666666\",\n        }],\n [{\n            'v': 11,\n            'f': \"11\",\n        },\n{\n            'v': 21900730,\n            'f': \"21900730\",\n        },\n\"2020-02-01\",\n\"[\\\"D'Angelo Russell\\\", 'Damion Lee', 'Draymond Green', 'Glenn Robinson III', 'Marquese Chriss']\",\n{\n            'v': 69.35,\n            'f': \"69.35\",\n        }],\n [{\n            'v': 12,\n            'f': \"12\",\n        },\n{\n            'v': 21900076,\n            'f': \"21900076\",\n        },\n\"2019-11-01\",\n\"[\\\"D'Angelo Russell\\\", 'Damion Lee', 'Draymond Green', 'Glenn Robinson III', 'Omari Spellman']\",\n{\n            'v': 1.1833333333333333,\n            'f': \"1.1833333333333333\",\n        }],\n [{\n            'v': 13,\n            'f': \"13\",\n        },\n{\n            'v': 21900702,\n            'f': \"21900702\",\n        },\n\"2020-01-28\",\n\"[\\\"D'Angelo Russell\\\", 'Damion Lee', 'Draymond Green', 'Glenn Robinson III', 'Omari Spellman']\",\n{\n            'v': 5.299999999999999,\n            'f': \"5.299999999999999\",\n        }],\n [{\n            'v': 14,\n            'f': \"14\",\n        },\n{\n            'v': 21900047,\n            'f': \"21900047\",\n        },\n\"2019-10-28\",\n\"[\\\"D'Angelo Russell\\\", 'Damion Lee', 'Draymond Green', 'Glenn Robinson III', 'Stephen Curry']\",\n{\n            'v': 2.033333333333333,\n            'f': \"2.033333333333333\",\n        }],\n [{\n            'v': 15,\n            'f': \"15\",\n        },\n{\n            'v': 21900076,\n            'f': \"21900076\",\n        },\n\"2019-11-01\",\n\"[\\\"D'Angelo Russell\\\", 'Damion Lee', 'Draymond Green', 'Glenn Robinson III', 'Willie Cauley-Stein']\",\n{\n            'v': 3.4833333333333325,\n            'f': \"3.4833333333333325\",\n        }],\n [{\n            'v': 16,\n            'f': \"16\",\n        },\n{\n            'v': 21900366,\n            'f': \"21900366\",\n        },\n\"2019-12-11\",\n\"[\\\"D'Angelo Russell\\\", 'Damion Lee', 'Draymond Green', 'Glenn Robinson III', 'Willie Cauley-Stein']\",\n{\n            'v': 4.033333333333332,\n            'f': \"4.033333333333332\",\n        }],\n [{\n            'v': 17,\n            'f': \"17\",\n        },\n{\n            'v': 21900393,\n            'f': \"21900393\",\n        },\n\"2019-12-15\",\n\"[\\\"D'Angelo Russell\\\", 'Damion Lee', 'Draymond Green', 'Glenn Robinson III', 'Willie Cauley-Stein']\",\n{\n            'v': 24.58333333333333,\n            'f': \"24.58333333333333\",\n        }],\n [{\n            'v': 18,\n            'f': \"18\",\n        },\n{\n            'v': 21900415,\n            'f': \"21900415\",\n        },\n\"2019-12-18\",\n\"[\\\"D'Angelo Russell\\\", 'Damion Lee', 'Draymond Green', 'Glenn Robinson III', 'Willie Cauley-Stein']\",\n{\n            'v': 34.91666666666666,\n            'f': \"34.91666666666666\",\n        }],\n [{\n            'v': 19,\n            'f': \"19\",\n        },\n{\n            'v': 21900429,\n            'f': \"21900429\",\n        },\n\"2019-12-20\",\n\"[\\\"D'Angelo Russell\\\", 'Damion Lee', 'Draymond Green', 'Glenn Robinson III', 'Willie Cauley-Stein']\",\n{\n            'v': 51.11666666666665,\n            'f': \"51.11666666666665\",\n        }],\n [{\n            'v': 20,\n            'f': \"20\",\n        },\n{\n            'v': 21900457,\n            'f': \"21900457\",\n        },\n\"2019-12-25\",\n\"[\\\"D'Angelo Russell\\\", 'Damion Lee', 'Draymond Green', 'Glenn Robinson III', 'Willie Cauley-Stein']\",\n{\n            'v': 71.14999999999999,\n            'f': \"71.14999999999999\",\n        }],\n [{\n            'v': 21,\n            'f': \"21\",\n        },\n{\n            'v': 21900471,\n            'f': \"21900471\",\n        },\n\"2019-12-27\",\n\"[\\\"D'Angelo Russell\\\", 'Damion Lee', 'Draymond Green', 'Glenn Robinson III', 'Willie Cauley-Stein']\",\n{\n            'v': 85.61666666666665,\n            'f': \"85.61666666666665\",\n        }],\n [{\n            'v': 22,\n            'f': \"22\",\n        },\n{\n            'v': 21900482,\n            'f': \"21900482\",\n        },\n\"2019-12-28\",\n\"[\\\"D'Angelo Russell\\\", 'Damion Lee', 'Draymond Green', 'Glenn Robinson III', 'Willie Cauley-Stein']\",\n{\n            'v': 97.84999999999998,\n            'f': \"97.84999999999998\",\n        }],\n [{\n            'v': 23,\n            'f': \"23\",\n        },\n{\n            'v': 21900617,\n            'f': \"21900617\",\n        },\n\"2020-01-16\",\n\"[\\\"D'Angelo Russell\\\", 'Damion Lee', 'Draymond Green', 'Glenn Robinson III', 'Willie Cauley-Stein']\",\n{\n            'v': 113.66666666666664,\n            'f': \"113.66666666666664\",\n        }],\n [{\n            'v': 24,\n            'f': \"24\",\n        },\n{\n            'v': 21900665,\n            'f': \"21900665\",\n        },\n\"2020-01-22\",\n\"[\\\"D'Angelo Russell\\\", 'Damion Lee', 'Draymond Green', 'Glenn Robinson III', 'Willie Cauley-Stein']\",\n{\n            'v': 123.09999999999998,\n            'f': \"123.09999999999998\",\n        }],\n [{\n            'v': 25,\n            'f': \"25\",\n        },\n{\n            'v': 21900471,\n            'f': \"21900471\",\n        },\n\"2019-12-27\",\n\"[\\\"D'Angelo Russell\\\", 'Damion Lee', 'Draymond Green', 'Jacob Evans', 'Ky Bowman']\",\n{\n            'v': 3.4000000000000004,\n            'f': \"3.4000000000000004\",\n        }],\n [{\n            'v': 26,\n            'f': \"26\",\n        },\n{\n            'v': 21900036,\n            'f': \"21900036\",\n        },\n\"2019-10-27\",\n\"[\\\"D'Angelo Russell\\\", 'Damion Lee', 'Draymond Green', 'Jacob Evans', 'Marquese Chriss']\",\n{\n            'v': 0.5833333333333333,\n            'f': \"0.5833333333333333\",\n        }],\n [{\n            'v': 27,\n            'f': \"27\",\n        },\n{\n            'v': 21900047,\n            'f': \"21900047\",\n        },\n\"2019-10-28\",\n\"[\\\"D'Angelo Russell\\\", 'Damion Lee', 'Draymond Green', 'Jordan Poole', 'Ky Bowman']\",\n{\n            'v': 0.75,\n            'f': \"0.75\",\n        }],\n [{\n            'v': 28,\n            'f': \"28\",\n        },\n{\n            'v': 21900144,\n            'f': \"21900144\",\n        },\n\"2019-11-11\",\n\"[\\\"D'Angelo Russell\\\", 'Damion Lee', 'Draymond Green', 'Jordan Poole', 'Marquese Chriss']\",\n{\n            'v': 2.35,\n            'f': \"2.35\",\n        }],\n [{\n            'v': 29,\n            'f': \"29\",\n        },\n{\n            'v': 21900065,\n            'f': \"21900065\",\n        },\n\"2019-10-30\",\n\"[\\\"D'Angelo Russell\\\", 'Damion Lee', 'Draymond Green', 'Jordan Poole', 'Omari Spellman']\",\n{\n            'v': 1.2666666666666666,\n            'f': \"1.2666666666666666\",\n        }],\n [{\n            'v': 30,\n            'f': \"30\",\n        },\n{\n            'v': 21900454,\n            'f': \"21900454\",\n        },\n\"2019-12-23\",\n\"[\\\"D'Angelo Russell\\\", 'Damion Lee', 'Draymond Green', 'Kevon Looney', 'Ky Bowman']\",\n{\n            'v': 1.6666666666666667,\n            'f': \"1.6666666666666667\",\n        }],\n [{\n            'v': 31,\n            'f': \"31\",\n        },\n{\n            'v': 21900047,\n            'f': \"21900047\",\n        },\n\"2019-10-28\",\n\"[\\\"D'Angelo Russell\\\", 'Damion Lee', 'Draymond Green', 'Ky Bowman', 'Omari Spellman']\",\n{\n            'v': 1.8666666666666665,\n            'f': \"1.8666666666666665\",\n        }],\n [{\n            'v': 32,\n            'f': \"32\",\n        },\n{\n            'v': 21900454,\n            'f': \"21900454\",\n        },\n\"2019-12-23\",\n\"[\\\"D'Angelo Russell\\\", 'Damion Lee', 'Draymond Green', 'Ky Bowman', 'Willie Cauley-Stein']\",\n{\n            'v': 2.1333333333333333,\n            'f': \"2.1333333333333333\",\n        }],\n [{\n            'v': 33,\n            'f': \"33\",\n        },\n{\n            'v': 21900047,\n            'f': \"21900047\",\n        },\n\"2019-10-28\",\n\"[\\\"D'Angelo Russell\\\", 'Damion Lee', 'Draymond Green', 'Marquese Chriss', 'Stephen Curry']\",\n{\n            'v': 1.4833333333333334,\n            'f': \"1.4833333333333334\",\n        }],\n [{\n            'v': 34,\n            'f': \"34\",\n        },\n{\n            'v': 21900065,\n            'f': \"21900065\",\n        },\n\"2019-10-30\",\n\"[\\\"D'Angelo Russell\\\", 'Damion Lee', 'Draymond Green', 'Omari Spellman', 'Stephen Curry']\",\n{\n            'v': 0.44999999999999996,\n            'f': \"0.44999999999999996\",\n        }],\n [{\n            'v': 35,\n            'f': \"35\",\n        },\n{\n            'v': 21900065,\n            'f': \"21900065\",\n        },\n\"2019-10-30\",\n\"[\\\"D'Angelo Russell\\\", 'Damion Lee', 'Draymond Green', 'Stephen Curry', 'Willie Cauley-Stein']\",\n{\n            'v': 0.8499999999999999,\n            'f': \"0.8499999999999999\",\n        }],\n [{\n            'v': 36,\n            'f': \"36\",\n        },\n{\n            'v': 21900047,\n            'f': \"21900047\",\n        },\n\"2019-10-28\",\n\"[\\\"D'Angelo Russell\\\", 'Damion Lee', 'Eric Paschall', 'Glenn Robinson III', 'Omari Spellman']\",\n{\n            'v': 3.8666666666666663,\n            'f': \"3.8666666666666663\",\n        }],\n [{\n            'v': 37,\n            'f': \"37\",\n        },\n{\n            'v': 21900076,\n            'f': \"21900076\",\n        },\n\"2019-11-01\",\n\"[\\\"D'Angelo Russell\\\", 'Damion Lee', 'Eric Paschall', 'Glenn Robinson III', 'Omari Spellman']\",\n{\n            'v': 4.549999999999999,\n            'f': \"4.549999999999999\",\n        }],\n [{\n            'v': 38,\n            'f': \"38\",\n        },\n{\n            'v': 21900120,\n            'f': \"21900120\",\n        },\n\"2019-11-08\",\n\"[\\\"D'Angelo Russell\\\", 'Damion Lee', 'Eric Paschall', 'Glenn Robinson III', 'Omari Spellman']\",\n{\n            'v': 7.0666666666666655,\n            'f': \"7.0666666666666655\",\n        }],\n [{\n            'v': 39,\n            'f': \"39\",\n        },\n{\n            'v': 21900717,\n            'f': \"21900717\",\n        },\n\"2020-01-30\",\n\"[\\\"D'Angelo Russell\\\", 'Damion Lee', 'Eric Paschall', 'Glenn Robinson III', 'Omari Spellman']\",\n{\n            'v': 8.35,\n            'f': \"8.35\",\n        }],\n [{\n            'v': 40,\n            'f': \"40\",\n        },\n{\n            'v': 21900120,\n            'f': \"21900120\",\n        },\n\"2019-11-08\",\n\"[\\\"D'Angelo Russell\\\", 'Damion Lee', 'Eric Paschall', 'Glenn Robinson III', 'Willie Cauley-Stein']\",\n{\n            'v': 3.716666666666666,\n            'f': \"3.716666666666666\",\n        }],\n [{\n            'v': 41,\n            'f': \"41\",\n        },\n{\n            'v': 21900047,\n            'f': \"21900047\",\n        },\n\"2019-10-28\",\n\"[\\\"D'Angelo Russell\\\", 'Damion Lee', 'Eric Paschall', 'Jacob Evans', 'Jordan Poole']\",\n{\n            'v': 0.8666666666666667,\n            'f': \"0.8666666666666667\",\n        }],\n [{\n            'v': 42,\n            'f': \"42\",\n        },\n{\n            'v': 21900730,\n            'f': \"21900730\",\n        },\n\"2020-02-01\",\n\"[\\\"D'Angelo Russell\\\", 'Damion Lee', 'Eric Paschall', 'Jacob Evans', 'Marquese Chriss']\",\n{\n            'v': 3.333333333333333,\n            'f': \"3.333333333333333\",\n        }],\n [{\n            'v': 43,\n            'f': \"43\",\n        },\n{\n            'v': 21900047,\n            'f': \"21900047\",\n        },\n\"2019-10-28\",\n\"[\\\"D'Angelo Russell\\\", 'Damion Lee', 'Eric Paschall', 'Jacob Evans', 'Omari Spellman']\",\n{\n            'v': 2.383333333333334,\n            'f': \"2.383333333333334\",\n        }],\n [{\n            'v': 44,\n            'f': \"44\",\n        },\n{\n            'v': 21900730,\n            'f': \"21900730\",\n        },\n\"2020-02-01\",\n\"[\\\"D'Angelo Russell\\\", 'Damion Lee', 'Eric Paschall', 'Jacob Evans', 'Omari Spellman']\",\n{\n            'v': 3.433333333333334,\n            'f': \"3.433333333333334\",\n        }],\n [{\n            'v': 45,\n            'f': \"45\",\n        },\n{\n            'v': 21900652,\n            'f': \"21900652\",\n        },\n\"2020-01-20\",\n\"[\\\"D'Angelo Russell\\\", 'Damion Lee', 'Eric Paschall', 'Jordan Poole', 'Marquese Chriss']\",\n{\n            'v': 0.0,\n            'f': \"0.0\",\n        }],\n [{\n            'v': 46,\n            'f': \"46\",\n        },\n{\n            'v': 21900065,\n            'f': \"21900065\",\n        },\n\"2019-10-30\",\n\"[\\\"D'Angelo Russell\\\", 'Damion Lee', 'Eric Paschall', 'Jordan Poole', 'Omari Spellman']\",\n{\n            'v': 2.65,\n            'f': \"2.65\",\n        }],\n [{\n            'v': 47,\n            'f': \"47\",\n        },\n{\n            'v': 21900652,\n            'f': \"21900652\",\n        },\n\"2020-01-20\",\n\"[\\\"D'Angelo Russell\\\", 'Damion Lee', 'Eric Paschall', 'Jordan Poole', 'Omari Spellman']\",\n{\n            'v': 2.7166666666666663,\n            'f': \"2.7166666666666663\",\n        }],\n [{\n            'v': 48,\n            'f': \"48\",\n        },\n{\n            'v': 21900679,\n            'f': \"21900679\",\n        },\n\"2020-01-24\",\n\"[\\\"D'Angelo Russell\\\", 'Damion Lee', 'Eric Paschall', 'Jordan Poole', 'Omari Spellman']\",\n{\n            'v': 4.699999999999999,\n            'f': \"4.699999999999999\",\n        }],\n [{\n            'v': 49,\n            'f': \"49\",\n        },\n{\n            'v': 21900717,\n            'f': \"21900717\",\n        },\n\"2020-01-30\",\n\"[\\\"D'Angelo Russell\\\", 'Damion Lee', 'Eric Paschall', 'Jordan Poole', 'Omari Spellman']\",\n{\n            'v': 5.083333333333332,\n            'f': \"5.083333333333332\",\n        }],\n [{\n            'v': 50,\n            'f': \"50\",\n        },\n{\n            'v': 21900634,\n            'f': \"21900634\",\n        },\n\"2020-01-18\",\n\"[\\\"D'Angelo Russell\\\", 'Damion Lee', 'Eric Paschall', 'Jordan Poole', 'Willie Cauley-Stein']\",\n{\n            'v': 10.033333333333333,\n            'f': \"10.033333333333333\",\n        }],\n [{\n            'v': 51,\n            'f': \"51\",\n        },\n{\n            'v': 21900652,\n            'f': \"21900652\",\n        },\n\"2020-01-20\",\n\"[\\\"D'Angelo Russell\\\", 'Damion Lee', 'Eric Paschall', 'Jordan Poole', 'Willie Cauley-Stein']\",\n{\n            'v': 13.383333333333333,\n            'f': \"13.383333333333333\",\n        }],\n [{\n            'v': 52,\n            'f': \"52\",\n        },\n{\n            'v': 21900730,\n            'f': \"21900730\",\n        },\n\"2020-02-01\",\n\"[\\\"D'Angelo Russell\\\", 'Damion Lee', 'Eric Paschall', 'Kevon Looney', 'Omari Spellman']\",\n{\n            'v': 0.13333333333333333,\n            'f': \"0.13333333333333333\",\n        }],\n [{\n            'v': 53,\n            'f': \"53\",\n        },\n{\n            'v': 21900757,\n            'f': \"21900757\",\n        },\n\"2020-02-05\",\n\"[\\\"D'Angelo Russell\\\", 'Damion Lee', 'Eric Paschall', 'Kevon Looney', 'Omari Spellman']\",\n{\n            'v': 1.0833333333333333,\n            'f': \"1.0833333333333333\",\n        }],\n [{\n            'v': 54,\n            'f': \"54\",\n        },\n{\n            'v': 21900634,\n            'f': \"21900634\",\n        },\n\"2020-01-18\",\n\"[\\\"D'Angelo Russell\\\", 'Damion Lee', 'Eric Paschall', 'Ky Bowman', 'Marquese Chriss']\",\n{\n            'v': 1.5499999999999998,\n            'f': \"1.5499999999999998\",\n        }],\n [{\n            'v': 55,\n            'f': \"55\",\n        },\n{\n            'v': 21900652,\n            'f': \"21900652\",\n        },\n\"2020-01-20\",\n\"[\\\"D'Angelo Russell\\\", 'Damion Lee', 'Eric Paschall', 'Marquese Chriss', 'Willie Cauley-Stein']\",\n{\n            'v': 0.0,\n            'f': \"0.0\",\n        }],\n [{\n            'v': 56,\n            'f': \"56\",\n        },\n{\n            'v': 21900652,\n            'f': \"21900652\",\n        },\n\"2020-01-20\",\n\"[\\\"D'Angelo Russell\\\", 'Damion Lee', 'Eric Paschall', 'Omari Spellman', 'Willie Cauley-Stein']\",\n{\n            'v': 0.1,\n            'f': \"0.1\",\n        }],\n [{\n            'v': 57,\n            'f': \"57\",\n        },\n{\n            'v': 21900131,\n            'f': \"21900131\",\n        },\n\"2019-11-09\",\n\"[\\\"D'Angelo Russell\\\", 'Damion Lee', 'Glenn Robinson III', 'Jordan Poole', 'Marquese Chriss']\",\n{\n            'v': 0.11666666666666667,\n            'f': \"0.11666666666666667\",\n        }],\n [{\n            'v': 58,\n            'f': \"58\",\n        },\n{\n            'v': 21900471,\n            'f': \"21900471\",\n        },\n\"2019-12-27\",\n\"[\\\"D'Angelo Russell\\\", 'Damion Lee', 'Glenn Robinson III', 'Ky Bowman', 'Willie Cauley-Stein']\",\n{\n            'v': 1.3666666666666667,\n            'f': \"1.3666666666666667\",\n        }],\n [{\n            'v': 59,\n            'f': \"59\",\n        },\n{\n            'v': 21900482,\n            'f': \"21900482\",\n        },\n\"2019-12-28\",\n\"[\\\"D'Angelo Russell\\\", 'Damion Lee', 'Glenn Robinson III', 'Ky Bowman', 'Willie Cauley-Stein']\",\n{\n            'v': 3.666666666666666,\n            'f': \"3.666666666666666\",\n        }],\n [{\n            'v': 60,\n            'f': \"60\",\n        },\n{\n            'v': 21900415,\n            'f': \"21900415\",\n        },\n\"2019-12-18\",\n\"[\\\"D'Angelo Russell\\\", 'Damion Lee', 'Glenn Robinson III', 'Omari Spellman', 'Willie Cauley-Stein']\",\n{\n            'v': 4.1,\n            'f': \"4.1\",\n        }],\n [{\n            'v': 61,\n            'f': \"61\",\n        },\n{\n            'v': 21900429,\n            'f': \"21900429\",\n        },\n\"2019-12-20\",\n\"[\\\"D'Angelo Russell\\\", 'Damion Lee', 'Glenn Robinson III', 'Omari Spellman', 'Willie Cauley-Stein']\",\n{\n            'v': 5.933333333333333,\n            'f': \"5.933333333333333\",\n        }],\n [{\n            'v': 62,\n            'f': \"62\",\n        },\n{\n            'v': 21900665,\n            'f': \"21900665\",\n        },\n\"2020-01-22\",\n\"[\\\"D'Angelo Russell\\\", 'Damion Lee', 'Glenn Robinson III', 'Omari Spellman', 'Willie Cauley-Stein']\",\n{\n            'v': 7.75,\n            'f': \"7.75\",\n        }],\n [{\n            'v': 63,\n            'f': \"63\",\n        },\n{\n            'v': 21900379,\n            'f': \"21900379\",\n        },\n\"2019-12-13\",\n\"[\\\"D'Angelo Russell\\\", 'Damion Lee', 'Jacob Evans', 'Kevon Looney', 'Marquese Chriss']\",\n{\n            'v': 3.45,\n            'f': \"3.45\",\n        }],\n [{\n            'v': 64,\n            'f': \"64\",\n        },\n{\n            'v': 21900379,\n            'f': \"21900379\",\n        },\n\"2019-12-13\",\n\"[\\\"D'Angelo Russell\\\", 'Damion Lee', 'Jacob Evans', 'Kevon Looney', 'Omari Spellman']\",\n{\n            'v': 0.7,\n            'f': \"0.7\",\n        }],\n [{\n            'v': 65,\n            'f': \"65\",\n        },\n{\n            'v': 21900379,\n            'f': \"21900379\",\n        },\n\"2019-12-13\",\n\"[\\\"D'Angelo Russell\\\", 'Damion Lee', 'Jacob Evans', 'Kevon Looney', 'Willie Cauley-Stein']\",\n{\n            'v': 0.6,\n            'f': \"0.6\",\n        }],\n [{\n            'v': 66,\n            'f': \"66\",\n        },\n{\n            'v': 21900379,\n            'f': \"21900379\",\n        },\n\"2019-12-13\",\n\"[\\\"D'Angelo Russell\\\", 'Damion Lee', 'Jacob Evans', 'Marquese Chriss', 'Omari Spellman']\",\n{\n            'v': 1.9000000000000001,\n            'f': \"1.9000000000000001\",\n        }],\n [{\n            'v': 67,\n            'f': \"67\",\n        },\n{\n            'v': 21900016,\n            'f': \"21900016\",\n        },\n\"2019-10-24\",\n\"[\\\"D'Angelo Russell\\\", 'Damion Lee', 'Jordan Poole', 'Kevon Looney', 'Stephen Curry']\",\n{\n            'v': 0.21666666666666667,\n            'f': \"0.21666666666666667\",\n        }],\n [{\n            'v': 68,\n            'f': \"68\",\n        },\n{\n            'v': 21900379,\n            'f': \"21900379\",\n        },\n\"2019-12-13\",\n\"[\\\"D'Angelo Russell\\\", 'Damion Lee', 'Jordan Poole', 'Marquese Chriss', 'Omari Spellman']\",\n{\n            'v': 0.5333333333333333,\n            'f': \"0.5333333333333333\",\n        }],\n [{\n            'v': 69,\n            'f': \"69\",\n        },\n{\n            'v': 21900652,\n            'f': \"21900652\",\n        },\n\"2020-01-20\",\n\"[\\\"D'Angelo Russell\\\", 'Damion Lee', 'Jordan Poole', 'Marquese Chriss', 'Omari Spellman']\",\n{\n            'v': 4.516666666666667,\n            'f': \"4.516666666666667\",\n        }],\n [{\n            'v': 70,\n            'f': \"70\",\n        },\n{\n            'v': 21900679,\n            'f': \"21900679\",\n        },\n\"2020-01-24\",\n\"[\\\"D'Angelo Russell\\\", 'Damion Lee', 'Jordan Poole', 'Marquese Chriss', 'Omari Spellman']\",\n{\n            'v': 5.966666666666667,\n            'f': \"5.966666666666667\",\n        }],\n [{\n            'v': 71,\n            'f': \"71\",\n        },\n{\n            'v': 21900757,\n            'f': \"21900757\",\n        },\n\"2020-02-05\",\n\"[\\\"D'Angelo Russell\\\", 'Damion Lee', 'Jordan Poole', 'Marquese Chriss', 'Omari Spellman']\",\n{\n            'v': 12.266666666666666,\n            'f': \"12.266666666666666\",\n        }],\n [{\n            'v': 72,\n            'f': \"72\",\n        },\n{\n            'v': 21900144,\n            'f': \"21900144\",\n        },\n\"2019-11-11\",\n\"[\\\"D'Angelo Russell\\\", 'Damion Lee', 'Jordan Poole', 'Marquese Chriss', 'Willie Cauley-Stein']\",\n{\n            'v': 0.6499999999999999,\n            'f': \"0.6499999999999999\",\n        }],\n [{\n            'v': 73,\n            'f': \"73\",\n        },\n{\n            'v': 21900454,\n            'f': \"21900454\",\n        },\n\"2019-12-23\",\n\"[\\\"D'Angelo Russell\\\", 'Damion Lee', 'Kevon Looney', 'Ky Bowman', 'Willie Cauley-Stein']\",\n{\n            'v': 2.183333333333333,\n            'f': \"2.183333333333333\",\n        }],\n [{\n            'v': 74,\n            'f': \"74\",\n        },\n{\n            'v': 21900016,\n            'f': \"21900016\",\n        },\n\"2019-10-24\",\n\"[\\\"D'Angelo Russell\\\", 'Draymond Green', 'Eric Paschall', 'Glenn Robinson III', 'Jacob Evans']\",\n{\n            'v': 7.233333333333334,\n            'f': \"7.233333333333334\",\n        }],\n [{\n            'v': 75,\n            'f': \"75\",\n        },\n{\n            'v': 21900016,\n            'f': \"21900016\",\n        },\n\"2019-10-24\",\n\"[\\\"D'Angelo Russell\\\", 'Draymond Green', 'Eric Paschall', 'Glenn Robinson III', 'Jordan Poole']\",\n{\n            'v': 0.5166666666666666,\n            'f': \"0.5166666666666666\",\n        }],\n [{\n            'v': 76,\n            'f': \"76\",\n        },\n{\n            'v': 21900351,\n            'f': \"21900351\",\n        },\n\"2019-12-09\",\n\"[\\\"D'Angelo Russell\\\", 'Draymond Green', 'Eric Paschall', 'Glenn Robinson III', 'Kevon Looney']\",\n{\n            'v': 3.4499999999999993,\n            'f': \"3.4499999999999993\",\n        }],\n [{\n            'v': 77,\n            'f': \"77\",\n        },\n{\n            'v': 21900366,\n            'f': \"21900366\",\n        },\n\"2019-12-11\",\n\"[\\\"D'Angelo Russell\\\", 'Draymond Green', 'Eric Paschall', 'Glenn Robinson III', 'Marquese Chriss']\",\n{\n            'v': 6.516666666666667,\n            'f': \"6.516666666666667\",\n        }],\n [{\n            'v': 78,\n            'f': \"78\",\n        },\n{\n            'v': 21900036,\n            'f': \"21900036\",\n        },\n\"2019-10-27\",\n\"[\\\"D'Angelo Russell\\\", 'Draymond Green', 'Eric Paschall', 'Glenn Robinson III', 'Stephen Curry']\",\n{\n            'v': 1.3833333333333333,\n            'f': \"1.3833333333333333\",\n        }],\n [{\n            'v': 79,\n            'f': \"79\",\n        },\n{\n            'v': 21900065,\n            'f': \"21900065\",\n        },\n\"2019-10-30\",\n\"[\\\"D'Angelo Russell\\\", 'Draymond Green', 'Eric Paschall', 'Glenn Robinson III', 'Stephen Curry']\",\n{\n            'v': 8.483333333333333,\n            'f': \"8.483333333333333\",\n        }],\n [{\n            'v': 80,\n            'f': \"80\",\n        },\n{\n            'v': 21900159,\n            'f': \"21900159\",\n        },\n\"2019-11-13\",\n\"[\\\"D'Angelo Russell\\\", 'Draymond Green', 'Eric Paschall', 'Glenn Robinson III', 'Willie Cauley-Stein']\",\n{\n            'v': 2.333333333333333,\n            'f': \"2.333333333333333\",\n        }],\n [{\n            'v': 81,\n            'f': \"81\",\n        },\n{\n            'v': 21900173,\n            'f': \"21900173\",\n        },\n\"2019-11-15\",\n\"[\\\"D'Angelo Russell\\\", 'Draymond Green', 'Eric Paschall', 'Glenn Robinson III', 'Willie Cauley-Stein']\",\n{\n            'v': 12.816666666666665,\n            'f': \"12.816666666666665\",\n        }],\n [{\n            'v': 82,\n            'f': \"82\",\n        },\n{\n            'v': 21900306,\n            'f': \"21900306\",\n        },\n\"2019-12-04\",\n\"[\\\"D'Angelo Russell\\\", 'Draymond Green', 'Eric Paschall', 'Glenn Robinson III', 'Willie Cauley-Stein']\",\n{\n            'v': 23.46666666666666,\n            'f': \"23.46666666666666\",\n        }],\n [{\n            'v': 83,\n            'f': \"83\",\n        },\n{\n            'v': 21900325,\n            'f': \"21900325\",\n        },\n\"2019-12-06\",\n\"[\\\"D'Angelo Russell\\\", 'Draymond Green', 'Eric Paschall', 'Glenn Robinson III', 'Willie Cauley-Stein']\",\n{\n            'v': 38.54999999999999,\n            'f': \"38.54999999999999\",\n        }],\n [{\n            'v': 84,\n            'f': \"84\",\n        },\n{\n            'v': 21900351,\n            'f': \"21900351\",\n        },\n\"2019-12-09\",\n\"[\\\"D'Angelo Russell\\\", 'Draymond Green', 'Eric Paschall', 'Glenn Robinson III', 'Willie Cauley-Stein']\",\n{\n            'v': 52.48333333333333,\n            'f': \"52.48333333333333\",\n        }],\n [{\n            'v': 85,\n            'f': \"85\",\n        },\n{\n            'v': 21900366,\n            'f': \"21900366\",\n        },\n\"2019-12-11\",\n\"[\\\"D'Angelo Russell\\\", 'Draymond Green', 'Eric Paschall', 'Glenn Robinson III', 'Willie Cauley-Stein']\",\n{\n            'v': 59.49999999999999,\n            'f': \"59.49999999999999\",\n        }],\n [{\n            'v': 86,\n            'f': \"86\",\n        },\n{\n            'v': 21900016,\n            'f': \"21900016\",\n        },\n\"2019-10-24\",\n\"[\\\"D'Angelo Russell\\\", 'Draymond Green', 'Eric Paschall', 'Jacob Evans', 'Stephen Curry']\",\n{\n            'v': 1.9666666666666663,\n            'f': \"1.9666666666666663\",\n        }],\n [{\n            'v': 87,\n            'f': \"87\",\n        },\n{\n            'v': 21900454,\n            'f': \"21900454\",\n        },\n\"2019-12-23\",\n\"[\\\"D'Angelo Russell\\\", 'Draymond Green', 'Eric Paschall', 'Jacob Evans', 'Willie Cauley-Stein']\",\n{\n            'v': 1.45,\n            'f': \"1.45\",\n        }],\n [{\n            'v': 88,\n            'f': \"88\",\n        },\n{\n            'v': 21900757,\n            'f': \"21900757\",\n        },\n\"2020-02-05\",\n\"[\\\"D'Angelo Russell\\\", 'Draymond Green', 'Eric Paschall', 'Jordan Poole', 'Marquese Chriss']\",\n{\n            'v': 1.8500000000000003,\n            'f': \"1.8500000000000003\",\n        }],\n [{\n            'v': 89,\n            'f': \"89\",\n        },\n{\n            'v': 21900588,\n            'f': \"21900588\",\n        },\n\"2020-01-12\",\n\"[\\\"D'Angelo Russell\\\", 'Draymond Green', 'Eric Paschall', 'Jordan Poole', 'Omari Spellman']\",\n{\n            'v': 3.716666666666667,\n            'f': \"3.716666666666667\",\n        }],\n [{\n            'v': 90,\n            'f': \"90\",\n        },\n{\n            'v': 21900016,\n            'f': \"21900016\",\n        },\n\"2019-10-24\",\n\"[\\\"D'Angelo Russell\\\", 'Draymond Green', 'Eric Paschall', 'Jordan Poole', 'Stephen Curry']\",\n{\n            'v': 2.383333333333333,\n            'f': \"2.383333333333333\",\n        }],\n [{\n            'v': 91,\n            'f': \"91\",\n        },\n{\n            'v': 21900047,\n            'f': \"21900047\",\n        },\n\"2019-10-28\",\n\"[\\\"D'Angelo Russell\\\", 'Draymond Green', 'Eric Paschall', 'Jordan Poole', 'Stephen Curry']\",\n{\n            'v': 4.449999999999999,\n            'f': \"4.449999999999999\",\n        }],\n [{\n            'v': 92,\n            'f': \"92\",\n        },\n{\n            'v': 21900159,\n            'f': \"21900159\",\n        },\n\"2019-11-13\",\n\"[\\\"D'Angelo Russell\\\", 'Draymond Green', 'Eric Paschall', 'Jordan Poole', 'Willie Cauley-Stein']\",\n{\n            'v': 0.3833333333333333,\n            'f': \"0.3833333333333333\",\n        }],\n [{\n            'v': 93,\n            'f': \"93\",\n        },\n{\n            'v': 21900173,\n            'f': \"21900173\",\n        },\n\"2019-11-15\",\n\"[\\\"D'Angelo Russell\\\", 'Draymond Green', 'Eric Paschall', 'Ky Bowman', 'Willie Cauley-Stein']\",\n{\n            'v': 2.5999999999999996,\n            'f': \"2.5999999999999996\",\n        }],\n [{\n            'v': 94,\n            'f': \"94\",\n        },\n{\n            'v': 21900588,\n            'f': \"21900588\",\n        },\n\"2020-01-12\",\n\"[\\\"D'Angelo Russell\\\", 'Draymond Green', 'Glenn Robinson III', 'Jacob Evans', 'Omari Spellman']\",\n{\n            'v': 0.8166666666666665,\n            'f': \"0.8166666666666665\",\n        }],\n [{\n            'v': 95,\n            'f': \"95\",\n        },\n{\n            'v': 21900602,\n            'f': \"21900602\",\n        },\n\"2020-01-14\",\n\"[\\\"D'Angelo Russell\\\", 'Draymond Green', 'Glenn Robinson III', 'Jacob Evans', 'Omari Spellman']\",\n{\n            'v': 2.6666666666666665,\n            'f': \"2.6666666666666665\",\n        }],\n [{\n            'v': 96,\n            'f': \"96\",\n        },\n{\n            'v': 21900588,\n            'f': \"21900588\",\n        },\n\"2020-01-12\",\n\"[\\\"D'Angelo Russell\\\", 'Draymond Green', 'Glenn Robinson III', 'Jacob Evans', 'Willie Cauley-Stein']\",\n{\n            'v': 1.5,\n            'f': \"1.5\",\n        }],\n [{\n            'v': 97,\n            'f': \"97\",\n        },\n{\n            'v': 21900602,\n            'f': \"21900602\",\n        },\n\"2020-01-14\",\n\"[\\\"D'Angelo Russell\\\", 'Draymond Green', 'Glenn Robinson III', 'Jacob Evans', 'Willie Cauley-Stein']\",\n{\n            'v': 2.183333333333333,\n            'f': \"2.183333333333333\",\n        }],\n [{\n            'v': 98,\n            'f': \"98\",\n        },\n{\n            'v': 21900076,\n            'f': \"21900076\",\n        },\n\"2019-11-01\",\n\"[\\\"D'Angelo Russell\\\", 'Draymond Green', 'Glenn Robinson III', 'Jordan Poole', 'Marquese Chriss']\",\n{\n            'v': 3.216666666666667,\n            'f': \"3.216666666666667\",\n        }],\n [{\n            'v': 99,\n            'f': \"99\",\n        },\n{\n            'v': 21900016,\n            'f': \"21900016\",\n        },\n\"2019-10-24\",\n\"[\\\"D'Angelo Russell\\\", 'Draymond Green', 'Glenn Robinson III', 'Jordan Poole', 'Omari Spellman']\",\n{\n            'v': 3.833333333333333,\n            'f': \"3.833333333333333\",\n        }]],\n        columns: [[\"number\", \"index\"], [\"number\", \"game_id\"], [\"string\", \"date\"], [\"string\", \"lineup\"], [\"number\", \"cum_mins\"]],\n        columnOptions: [{\"width\": \"1px\", \"className\": \"index_column\"}],\n        rowsPerPage: 25,\n        helpUrl: \"https://colab.research.google.com/notebooks/data_table.ipynb\",\n        suppressOutputScrolling: true,\n        minimumWidth: undefined,\n      });\n    ",
            "text/html": [
              "<div>\n",
              "<style scoped>\n",
              "    .dataframe tbody tr th:only-of-type {\n",
              "        vertical-align: middle;\n",
              "    }\n",
              "\n",
              "    .dataframe tbody tr th {\n",
              "        vertical-align: top;\n",
              "    }\n",
              "\n",
              "    .dataframe thead th {\n",
              "        text-align: right;\n",
              "    }\n",
              "</style>\n",
              "<table border=\"1\" class=\"dataframe\">\n",
              "  <thead>\n",
              "    <tr style=\"text-align: right;\">\n",
              "      <th></th>\n",
              "      <th>game_id</th>\n",
              "      <th>date</th>\n",
              "      <th>lineup</th>\n",
              "      <th>cum_mins</th>\n",
              "    </tr>\n",
              "  </thead>\n",
              "  <tbody>\n",
              "    <tr>\n",
              "      <th>0</th>\n",
              "      <td>21900415</td>\n",
              "      <td>2019-12-18</td>\n",
              "      <td>[\"D'Angelo Russell\", 'Damion Lee', 'Draymond G...</td>\n",
              "      <td>0.083333</td>\n",
              "    </tr>\n",
              "    <tr>\n",
              "      <th>1</th>\n",
              "      <td>21900665</td>\n",
              "      <td>2020-01-22</td>\n",
              "      <td>[\"D'Angelo Russell\", 'Damion Lee', 'Draymond G...</td>\n",
              "      <td>0.700000</td>\n",
              "    </tr>\n",
              "    <tr>\n",
              "      <th>2</th>\n",
              "      <td>21900679</td>\n",
              "      <td>2020-01-24</td>\n",
              "      <td>[\"D'Angelo Russell\", 'Damion Lee', 'Draymond G...</td>\n",
              "      <td>4.233333</td>\n",
              "    </tr>\n",
              "    <tr>\n",
              "      <th>3</th>\n",
              "      <td>21900757</td>\n",
              "      <td>2020-02-05</td>\n",
              "      <td>[\"D'Angelo Russell\", 'Damion Lee', 'Draymond G...</td>\n",
              "      <td>13.450000</td>\n",
              "    </tr>\n",
              "    <tr>\n",
              "      <th>4</th>\n",
              "      <td>21900757</td>\n",
              "      <td>2020-02-05</td>\n",
              "      <td>[\"D'Angelo Russell\", 'Damion Lee', 'Draymond G...</td>\n",
              "      <td>1.733333</td>\n",
              "    </tr>\n",
              "    <tr>\n",
              "      <th>...</th>\n",
              "      <td>...</td>\n",
              "      <td>...</td>\n",
              "      <td>...</td>\n",
              "      <td>...</td>\n",
              "    </tr>\n",
              "    <tr>\n",
              "      <th>95</th>\n",
              "      <td>21900602</td>\n",
              "      <td>2020-01-14</td>\n",
              "      <td>[\"D'Angelo Russell\", 'Draymond Green', 'Glenn ...</td>\n",
              "      <td>2.666667</td>\n",
              "    </tr>\n",
              "    <tr>\n",
              "      <th>96</th>\n",
              "      <td>21900588</td>\n",
              "      <td>2020-01-12</td>\n",
              "      <td>[\"D'Angelo Russell\", 'Draymond Green', 'Glenn ...</td>\n",
              "      <td>1.500000</td>\n",
              "    </tr>\n",
              "    <tr>\n",
              "      <th>97</th>\n",
              "      <td>21900602</td>\n",
              "      <td>2020-01-14</td>\n",
              "      <td>[\"D'Angelo Russell\", 'Draymond Green', 'Glenn ...</td>\n",
              "      <td>2.183333</td>\n",
              "    </tr>\n",
              "    <tr>\n",
              "      <th>98</th>\n",
              "      <td>21900076</td>\n",
              "      <td>2019-11-01</td>\n",
              "      <td>[\"D'Angelo Russell\", 'Draymond Green', 'Glenn ...</td>\n",
              "      <td>3.216667</td>\n",
              "    </tr>\n",
              "    <tr>\n",
              "      <th>99</th>\n",
              "      <td>21900016</td>\n",
              "      <td>2019-10-24</td>\n",
              "      <td>[\"D'Angelo Russell\", 'Draymond Green', 'Glenn ...</td>\n",
              "      <td>3.833333</td>\n",
              "    </tr>\n",
              "  </tbody>\n",
              "</table>\n",
              "<p>100 rows × 4 columns</p>\n",
              "</div>"
            ],
            "text/plain": [
              "     game_id  ...   cum_mins\n",
              "0   21900415  ...   0.083333\n",
              "1   21900665  ...   0.700000\n",
              "2   21900679  ...   4.233333\n",
              "3   21900757  ...  13.450000\n",
              "4   21900757  ...   1.733333\n",
              "..       ...  ...        ...\n",
              "95  21900602  ...   2.666667\n",
              "96  21900588  ...   1.500000\n",
              "97  21900602  ...   2.183333\n",
              "98  21900076  ...   3.216667\n",
              "99  21900016  ...   3.833333\n",
              "\n",
              "[100 rows x 4 columns]"
            ]
          },
          "metadata": {
            "tags": []
          },
          "execution_count": 16
        }
      ]
    },
    {
      "cell_type": "markdown",
      "metadata": {
        "id": "ReBjmsK5dN_8"
      },
      "source": [
        "The window selector has three parts:\n",
        "```sql \n",
        "PARTITION BY lineup \n",
        "ORDER BY game_id \n",
        "ROWS BETWEEN UNBOUNDED PRECEDING AND CURRENT ROW \n",
        "```\n",
        "- `PARTITION BY` works like a `GROUP BY` to split the rows into groups/partitions.\n",
        "- `ORDER BY` does as expected, but always with respect to the partition.\n",
        "- `ROWS` specifies the width of the window; in this case that means everything up to the current row in the current partition (lineup).\n",
        "\n",
        "There are lots of variations to play with. For details read the docs for your database vendor. The SQL standard defines the basics like `PARTITION BY`, `ORDER BY`, and `ROWS` but there are some differences for more advanced use cases.  "
      ]
    },
    {
      "cell_type": "markdown",
      "metadata": {
        "id": "o_9fblcZcJMQ"
      },
      "source": [
        "> **Heads Up**: Although window functions were included in SQL:2003, most of the vendors only recently implemented the standard.  Check to see if your DBMS supports them before trying to use them.  "
      ]
    },
    {
      "cell_type": "markdown",
      "metadata": {
        "id": "mnkGOtS8UwQ-"
      },
      "source": [
        "---\n",
        "## **Collection Types**\n",
        "\n",
        "In lesson 5 we learned that entities should be atomic, indivisible through normalization. Among other things this means that attributes should be singular, represeting just one fact about a given entity. Plural attributes, meanwhile, should be normalized out into one-to-many relationships to new entity types. \n",
        "\n",
        "But what if we just didn't bother to do that? \n",
        "\n",
        "The `ARRAY` and `STRUCT` collection types (details below) were added to the SQL standards in a wave of enthusiasm for object-relational features in SQL:1999 but then (like window functions) largely ignored by most database vendors until 2018. Why ignore the standard? Because collection types permit us to skirt around a fundamental law of normalization: thou shalt not use repeated fields. \n",
        "\n",
        "In fact, it is not a good idea to use these sorts of collection types in a transactional database, where vigilance is needed to keep the data consistent and anomaly free. However, for dimensional data warehouses, where the **dimension tables** are often denormalized anyway, they make **perfect sense**: no extra joins, no redundant columns, etc., just the relevant context in a concise format.  \n",
        "\n",
        "> **Heads Up**: Collection types are generally **not a good fit for fact tables** because they complicate the aggregation logic. What does a **measure** (i.e., fact) mean when it can be multi-valued? How do you sum or average a list of lists? \n",
        "\n",
        "***Technically*, collection types do not actually violate normalization rules.** A collection is a **container** that can hold structured data. The container itself is singular, though the contents might be plural. It's like how you might keep a plastic *container* of cut celery sticks instead of storing them in a pile on the shelf. The container is *one* thing (with the sticks nested inside), but you have to open the container (unpack it) to get your snack. That's exactly how SQL `ARRAY` and `STRUCT` work. We have to use functions and special syntax to pack and unpack data. Otherwise, SQL just treats it like an image or other binary data. Of course, it *is* still a problem that we don't know what's inside the container before we unpack it but we can still say the table itself is 1NF. \n",
        "\n",
        "Now let's go back to the NBA data to see how it works. To keep things simple we will just focus on the lineup dimension, which in our play log data is kept in columns `a1`-`a5` and `h1`-`h5`.\n",
        "\n",
        "   \n"
      ]
    },
    {
      "cell_type": "markdown",
      "metadata": {
        "id": "iLl8YlZ51zwt"
      },
      "source": [
        "### **The `ARRAY` Data Type**\n",
        "\n",
        "An `ARRAY` is a list of items where:\n",
        "- The items are ordered, one after another, like the rows of a table.  \n",
        "- All items have the same data type. If the first item is an integer, then so is every other item. \n",
        "- There can be any number of items. \n",
        "\n",
        "Note that these same rules also apply to table columns, where each column has a data type, is ordered by row, and there is no limit on how many items (rows) there are. This is by design, so that the same logic can apply.  \n",
        "\n",
        "The query below returns two rows of play log data, with each lineup as an **`ARRAY`** (represented by the square brackets `[ ]`)  "
      ]
    },
    {
      "cell_type": "code",
      "metadata": {
        "colab": {
          "base_uri": "https://localhost:8080/",
          "height": 131
        },
        "id": "UEvqbE8RzPAE",
        "outputId": "1a379f62-3880-466f-f2e1-dfa6d52c18ee"
      },
      "source": [
        "%%bigquery --project nba-lineup-facts\n",
        "SELECT\n",
        "  [a1,a2,a3,a4,a5] as away_lineup, \n",
        "  [h1,h2,h3,h4,h5] as home_lineup\n",
        "FROM `nba-lineup-facts.lineup_facts.play_log_sample`\n",
        "WHERE play_id IN (86,88);"
      ],
      "execution_count": null,
      "outputs": [
        {
          "output_type": "execute_result",
          "data": {
            "application/vnd.google.colaboratory.module+javascript": "\n      import \"https://ssl.gstatic.com/colaboratory/data_table/a6224c040fa35dcf/data_table.js\";\n\n      window.createDataTable({\n        data: [[{\n            'v': 0,\n            'f': \"0\",\n        },\n[\"OG Anunoby\", \"Marc Gasol\", \"Kyle Lowry\", \"Fred VanVleet\", \"Norman Powell\"],\n[\"Gordon Hayward\", \"Jaylen Brown\", \"Kemba Walker\", \"Robert Williams III\", \"Marcus Smart\"]],\n [{\n            'v': 1,\n            'f': \"1\",\n        },\n[\"OG Anunoby\", \"Marc Gasol\", \"Kyle Lowry\", \"Fred VanVleet\", \"Norman Powell\"],\n[\"Gordon Hayward\", \"Kemba Walker\", \"Robert Williams III\", \"Marcus Smart\", \"Grant Williams\"]]],\n        columns: [[\"number\", \"index\"], [\"string\", \"away_lineup\"], [\"string\", \"home_lineup\"]],\n        columnOptions: [{\"width\": \"1px\", \"className\": \"index_column\"}],\n        rowsPerPage: 25,\n        helpUrl: \"https://colab.research.google.com/notebooks/data_table.ipynb\",\n        suppressOutputScrolling: true,\n        minimumWidth: undefined,\n      });\n    ",
            "text/html": [
              "<div>\n",
              "<style scoped>\n",
              "    .dataframe tbody tr th:only-of-type {\n",
              "        vertical-align: middle;\n",
              "    }\n",
              "\n",
              "    .dataframe tbody tr th {\n",
              "        vertical-align: top;\n",
              "    }\n",
              "\n",
              "    .dataframe thead th {\n",
              "        text-align: right;\n",
              "    }\n",
              "</style>\n",
              "<table border=\"1\" class=\"dataframe\">\n",
              "  <thead>\n",
              "    <tr style=\"text-align: right;\">\n",
              "      <th></th>\n",
              "      <th>away_lineup</th>\n",
              "      <th>home_lineup</th>\n",
              "    </tr>\n",
              "  </thead>\n",
              "  <tbody>\n",
              "    <tr>\n",
              "      <th>0</th>\n",
              "      <td>[OG Anunoby, Marc Gasol, Kyle Lowry, Fred VanV...</td>\n",
              "      <td>[Gordon Hayward, Jaylen Brown, Kemba Walker, R...</td>\n",
              "    </tr>\n",
              "    <tr>\n",
              "      <th>1</th>\n",
              "      <td>[OG Anunoby, Marc Gasol, Kyle Lowry, Fred VanV...</td>\n",
              "      <td>[Gordon Hayward, Kemba Walker, Robert Williams...</td>\n",
              "    </tr>\n",
              "  </tbody>\n",
              "</table>\n",
              "</div>"
            ],
            "text/plain": [
              "                                         away_lineup                                        home_lineup\n",
              "0  [OG Anunoby, Marc Gasol, Kyle Lowry, Fred VanV...  [Gordon Hayward, Jaylen Brown, Kemba Walker, R...\n",
              "1  [OG Anunoby, Marc Gasol, Kyle Lowry, Fred VanV...  [Gordon Hayward, Kemba Walker, Robert Williams..."
            ]
          },
          "metadata": {
            "tags": []
          },
          "execution_count": 4
        }
      ]
    },
    {
      "cell_type": "markdown",
      "metadata": {
        "id": "urz3koJQ6RtG"
      },
      "source": [
        "At first glance, this looks a lot like the text strings we have been using to represent NBA lineups. To see the difference, consider these two queries.\n"
      ]
    },
    {
      "cell_type": "code",
      "metadata": {
        "colab": {
          "base_uri": "https://localhost:8080/",
          "height": 110
        },
        "id": "L6JpMclmEQ8I",
        "outputId": "a01ca04d-54d9-4192-a4c8-f5bd26677e2c"
      },
      "source": [
        "%%bigquery --project nba-lineup-facts\n",
        "\n",
        "-- Lineup string: \"['OG Anunoby','Pascal Siakam','Marc Gasol','Kyle Lowry','Fred VanVleet']\"\n",
        "-- Does the lineup string include the text 'Marc Gasol'?\n",
        "SELECT \"['OG Anunoby','Pascal Siakam','Marc Gasol','Kyle Lowry','Fred VanVleet']\" LIKE '%Marc Gasol%'"
      ],
      "execution_count": null,
      "outputs": [
        {
          "output_type": "execute_result",
          "data": {
            "application/vnd.google.colaboratory.module+javascript": "\n      import \"https://ssl.gstatic.com/colaboratory/data_table/a6224c040fa35dcf/data_table.js\";\n\n      window.createDataTable({\n        data: [[{\n            'v': 0,\n            'f': \"0\",\n        },\ntrue]],\n        columns: [[\"number\", \"index\"], [\"string\", \"f0_\"]],\n        columnOptions: [{\"width\": \"1px\", \"className\": \"index_column\"}],\n        rowsPerPage: 25,\n        helpUrl: \"https://colab.research.google.com/notebooks/data_table.ipynb\",\n        suppressOutputScrolling: true,\n        minimumWidth: undefined,\n      });\n    ",
            "text/html": [
              "<div>\n",
              "<style scoped>\n",
              "    .dataframe tbody tr th:only-of-type {\n",
              "        vertical-align: middle;\n",
              "    }\n",
              "\n",
              "    .dataframe tbody tr th {\n",
              "        vertical-align: top;\n",
              "    }\n",
              "\n",
              "    .dataframe thead th {\n",
              "        text-align: right;\n",
              "    }\n",
              "</style>\n",
              "<table border=\"1\" class=\"dataframe\">\n",
              "  <thead>\n",
              "    <tr style=\"text-align: right;\">\n",
              "      <th></th>\n",
              "      <th>f0_</th>\n",
              "    </tr>\n",
              "  </thead>\n",
              "  <tbody>\n",
              "    <tr>\n",
              "      <th>0</th>\n",
              "      <td>True</td>\n",
              "    </tr>\n",
              "  </tbody>\n",
              "</table>\n",
              "</div>"
            ],
            "text/plain": [
              "    f0_\n",
              "0  True"
            ]
          },
          "metadata": {
            "tags": []
          },
          "execution_count": 18
        }
      ]
    },
    {
      "cell_type": "code",
      "metadata": {
        "colab": {
          "base_uri": "https://localhost:8080/",
          "height": 110
        },
        "id": "DVRGRuIZFuxr",
        "outputId": "6d95e08e-6358-48da-c3cc-7d5d746d122c"
      },
      "source": [
        "%%bigquery --project nba-lineup-facts\n",
        "\n",
        "-- Lineup ARRAY: ['OG Anunoby','Pascal Siakam','Marc Gasol','Kyle Lowry','Fred VanVleet']\n",
        "-- Does the player 'Marc Gasol' appear in the lineup array? \n",
        "SELECT 'Marc Gasol' IN UNNEST(['OG Anunoby','Pascal Siakam','Marc Gasol','Kyle Lowry','Fred VanVleet'])"
      ],
      "execution_count": null,
      "outputs": [
        {
          "output_type": "execute_result",
          "data": {
            "application/vnd.google.colaboratory.module+javascript": "\n      import \"https://ssl.gstatic.com/colaboratory/data_table/a6224c040fa35dcf/data_table.js\";\n\n      window.createDataTable({\n        data: [[{\n            'v': 0,\n            'f': \"0\",\n        },\ntrue]],\n        columns: [[\"number\", \"index\"], [\"string\", \"f0_\"]],\n        columnOptions: [{\"width\": \"1px\", \"className\": \"index_column\"}],\n        rowsPerPage: 25,\n        helpUrl: \"https://colab.research.google.com/notebooks/data_table.ipynb\",\n        suppressOutputScrolling: true,\n        minimumWidth: undefined,\n      });\n    ",
            "text/html": [
              "<div>\n",
              "<style scoped>\n",
              "    .dataframe tbody tr th:only-of-type {\n",
              "        vertical-align: middle;\n",
              "    }\n",
              "\n",
              "    .dataframe tbody tr th {\n",
              "        vertical-align: top;\n",
              "    }\n",
              "\n",
              "    .dataframe thead th {\n",
              "        text-align: right;\n",
              "    }\n",
              "</style>\n",
              "<table border=\"1\" class=\"dataframe\">\n",
              "  <thead>\n",
              "    <tr style=\"text-align: right;\">\n",
              "      <th></th>\n",
              "      <th>f0_</th>\n",
              "    </tr>\n",
              "  </thead>\n",
              "  <tbody>\n",
              "    <tr>\n",
              "      <th>0</th>\n",
              "      <td>True</td>\n",
              "    </tr>\n",
              "  </tbody>\n",
              "</table>\n",
              "</div>"
            ],
            "text/plain": [
              "    f0_\n",
              "0  True"
            ]
          },
          "metadata": {
            "tags": []
          },
          "execution_count": 20
        }
      ]
    },
    {
      "cell_type": "markdown",
      "metadata": {
        "id": "aR7fAClPF8Jl"
      },
      "source": [
        "Both return the same result but work very differently. The first query looks for the text `'Marc Gasol'` within a lineup string, while the second query looks for *Marc Gasol's name* in the lineup array. That's much more natural, isn't it? Further, the array version is much more flexible. We could, for example, replace every player's name with a `player_id` without generating and searching through lineup strings. \n",
        "\n",
        "There is another difference as well. When retrieving an `ARRAY` as a list we use the `UNNEST` function, which gets around the relational model's rule that each column contains scalar (singular) values. The stored array is a *container* for list items that needs to be *unpacked* before we can use it. The container is a singular thing that happens to hold more things.\n",
        "\n",
        "> **Heads Up**: We can also [create arrays from subqueries using the `ARRAY()` function](https://cloud.google.com/bigquery/docs/reference/standard-sql/array_functions), which opens up lots of possibilities. Basically, any column of data that we can select or construct can be inserted into an array.  \n",
        " "
      ]
    },
    {
      "cell_type": "markdown",
      "metadata": {
        "id": "hnWSDCya_pis"
      },
      "source": [
        "### **The `STRUCT` Data Type**\n",
        "\n",
        "A `STRUCT` (short for Structured Array) is like a one-row mini-table, with named *fields* that can mix data of various types. Some call it the swiss army knife of data types. Anything we can store in a table row (including `ARRAY` data) can also be stored in a structured array."
      ]
    },
    {
      "cell_type": "code",
      "metadata": {
        "colab": {
          "base_uri": "https://localhost:8080/",
          "height": 131
        },
        "id": "LjHQToqYMd3e",
        "outputId": "7d197ba2-e3d6-4934-82b9-8888f631b28a"
      },
      "source": [
        "%%bigquery --project nba-lineup-facts\n",
        "SELECT\n",
        "  STRUCT(a1 AS p1, a2 AS p2, a3 AS  p3,a4 AS p4,a5 AS p5) AS away_lineup,\n",
        "  STRUCT(h1 AS p1, h2 AS p2, h3 AS  p3,h4 AS p4,h5 AS p5) AS home_lineup\n",
        "FROM `nba-lineup-facts.lineup_facts.play_log_sample`\n",
        "WHERE play_id IN (86,88);"
      ],
      "execution_count": null,
      "outputs": [
        {
          "output_type": "execute_result",
          "data": {
            "application/vnd.google.colaboratory.module+javascript": "\n      import \"https://ssl.gstatic.com/colaboratory/data_table/a6224c040fa35dcf/data_table.js\";\n\n      window.createDataTable({\n        data: [[{\n            'v': 0,\n            'f': \"0\",\n        },\n\"{'p1': 'OG Anunoby', 'p2': 'Marc Gasol', 'p3': 'Kyle Lowry', 'p4': 'Fred VanVleet', 'p5': 'Norman Powell'}\",\n\"{'p1': 'Gordon Hayward', 'h2': 'Jaylen Brown', 'p3': 'Kemba Walker', 'p4': 'Robert Williams III', 'p5': 'Marcus Smart'}\"],\n [{\n            'v': 1,\n            'f': \"1\",\n        },\n\"{'p1': 'OG Anunoby', 'p2': 'Marc Gasol', 'p3': 'Kyle Lowry', 'p4': 'Fred VanVleet', 'p5': 'Norman Powell'}\",\n\"{'p1': 'Gordon Hayward', 'h2': 'Kemba Walker', 'p3': 'Robert Williams III', 'p4': 'Marcus Smart', 'p5': 'Grant Williams'}\"]],\n        columns: [[\"number\", \"index\"], [\"string\", \"away_lineup\"], [\"string\", \"home_lineup\"]],\n        columnOptions: [{\"width\": \"1px\", \"className\": \"index_column\"}],\n        rowsPerPage: 25,\n        helpUrl: \"https://colab.research.google.com/notebooks/data_table.ipynb\",\n        suppressOutputScrolling: true,\n        minimumWidth: undefined,\n      });\n    ",
            "text/html": [
              "<div>\n",
              "<style scoped>\n",
              "    .dataframe tbody tr th:only-of-type {\n",
              "        vertical-align: middle;\n",
              "    }\n",
              "\n",
              "    .dataframe tbody tr th {\n",
              "        vertical-align: top;\n",
              "    }\n",
              "\n",
              "    .dataframe thead th {\n",
              "        text-align: right;\n",
              "    }\n",
              "</style>\n",
              "<table border=\"1\" class=\"dataframe\">\n",
              "  <thead>\n",
              "    <tr style=\"text-align: right;\">\n",
              "      <th></th>\n",
              "      <th>away_lineup</th>\n",
              "      <th>home_lineup</th>\n",
              "    </tr>\n",
              "  </thead>\n",
              "  <tbody>\n",
              "    <tr>\n",
              "      <th>0</th>\n",
              "      <td>{'p1': 'OG Anunoby', 'p2': 'Marc Gasol', 'p3':...</td>\n",
              "      <td>{'p1': 'Gordon Hayward', 'h2': 'Jaylen Brown',...</td>\n",
              "    </tr>\n",
              "    <tr>\n",
              "      <th>1</th>\n",
              "      <td>{'p1': 'OG Anunoby', 'p2': 'Marc Gasol', 'p3':...</td>\n",
              "      <td>{'p1': 'Gordon Hayward', 'h2': 'Kemba Walker',...</td>\n",
              "    </tr>\n",
              "  </tbody>\n",
              "</table>\n",
              "</div>"
            ],
            "text/plain": [
              "                                         away_lineup                                        home_lineup\n",
              "0  {'p1': 'OG Anunoby', 'p2': 'Marc Gasol', 'p3':...  {'p1': 'Gordon Hayward', 'h2': 'Jaylen Brown',...\n",
              "1  {'p1': 'OG Anunoby', 'p2': 'Marc Gasol', 'p3':...  {'p1': 'Gordon Hayward', 'h2': 'Kemba Walker',..."
            ]
          },
          "metadata": {
            "tags": []
          },
          "execution_count": 21
        }
      ]
    },
    {
      "cell_type": "markdown",
      "metadata": {
        "id": "0BEA9NONPH00"
      },
      "source": [
        "Each `STRUCT` works more or less like a `SELECT` clause:\n",
        "- The fields are defined like column specs, with aliases used to name the fields.\n",
        "- `STRUCT` collections are created by calling a function, `STRUCT()`, that assembles the data into the structured array.\n",
        "- Each field can store the result of any SQL expression. The expression is only evaluated once, just before the data is written to the field.\n",
        "\n",
        "Again, a structured array is like a one-row table, with all the sophistication that implies. All it is missing is primary and foreign keys.\n",
        "\n",
        "> **Heads Up**: The notation used by SQL to represent a structured array is basically identical to the Python `dict` and the JavaScript `object`. We will explore the relationship to JavaScript more in depth in Lesson 11. \n",
        "\n",
        "To unpack a structured array we use `column.field` dot notation. The example below packs players into home and away lineups (via a CTE `WITH` clause) and then unpacks them to recreate the `h1`-`h5` and `a1`-`a5` columns in the original play log dataset. \n"
      ]
    },
    {
      "cell_type": "code",
      "metadata": {
        "colab": {
          "base_uri": "https://localhost:8080/",
          "height": 131
        },
        "id": "aPqA4iztDFEa",
        "outputId": "a917c6b0-b978-4b3e-92b7-8a5e06b2ff52"
      },
      "source": [
        "%%bigquery --project nba-lineup-facts\n",
        "-- A named subquery with two STRUCT columns\n",
        "WITH play_lineups AS  \n",
        "  ( SELECT\n",
        "      play_id,\n",
        "      STRUCT(a1 AS p1, a2 AS p2, a3 AS  p3,a4 AS p4,a5 AS p5) AS away_lineup,\n",
        "      STRUCT(h1 AS p1, h2 AS p2, h3 AS  p3,h4 AS p4,h5 AS p5) AS home_lineup\n",
        "    FROM `nba-lineup-facts.lineup_facts.play_log_sample`\n",
        "    WHERE play_id IN (86,88)\n",
        "  )\n",
        "-- Use the subquery like a table\n",
        "SELECT home_lineup.p1 as h1, home_lineup.p2 as h2, home_lineup.p3 as h3, home_lineup.p4 as h4, home_lineup.p5 as h5,\n",
        "       away_lineup.p1 as a1, away_lineup.p2 as a2, away_lineup.p3 as a3, away_lineup.p4 as a4, away_lineup.p5 as a5\n",
        "FROM play_lineups\n"
      ],
      "execution_count": null,
      "outputs": [
        {
          "output_type": "execute_result",
          "data": {
            "application/vnd.google.colaboratory.module+javascript": "\n      import \"https://ssl.gstatic.com/colaboratory/data_table/a6224c040fa35dcf/data_table.js\";\n\n      window.createDataTable({\n        data: [[{\n            'v': 0,\n            'f': \"0\",\n        },\n\"Gordon Hayward\",\n\"Jaylen Brown\",\n\"Kemba Walker\",\n\"Robert Williams III\",\n\"Marcus Smart\",\n\"OG Anunoby\",\n\"Marc Gasol\",\n\"Kyle Lowry\",\n\"Fred VanVleet\",\n\"Norman Powell\"],\n [{\n            'v': 1,\n            'f': \"1\",\n        },\n\"Gordon Hayward\",\n\"Kemba Walker\",\n\"Robert Williams III\",\n\"Marcus Smart\",\n\"Grant Williams\",\n\"OG Anunoby\",\n\"Marc Gasol\",\n\"Kyle Lowry\",\n\"Fred VanVleet\",\n\"Norman Powell\"]],\n        columns: [[\"number\", \"index\"], [\"string\", \"h1\"], [\"string\", \"h2\"], [\"string\", \"h3\"], [\"string\", \"h4\"], [\"string\", \"h5\"], [\"string\", \"a1\"], [\"string\", \"a2\"], [\"string\", \"a3\"], [\"string\", \"a4\"], [\"string\", \"a5\"]],\n        columnOptions: [{\"width\": \"1px\", \"className\": \"index_column\"}],\n        rowsPerPage: 25,\n        helpUrl: \"https://colab.research.google.com/notebooks/data_table.ipynb\",\n        suppressOutputScrolling: true,\n        minimumWidth: undefined,\n      });\n    ",
            "text/html": [
              "<div>\n",
              "<style scoped>\n",
              "    .dataframe tbody tr th:only-of-type {\n",
              "        vertical-align: middle;\n",
              "    }\n",
              "\n",
              "    .dataframe tbody tr th {\n",
              "        vertical-align: top;\n",
              "    }\n",
              "\n",
              "    .dataframe thead th {\n",
              "        text-align: right;\n",
              "    }\n",
              "</style>\n",
              "<table border=\"1\" class=\"dataframe\">\n",
              "  <thead>\n",
              "    <tr style=\"text-align: right;\">\n",
              "      <th></th>\n",
              "      <th>h1</th>\n",
              "      <th>h2</th>\n",
              "      <th>h3</th>\n",
              "      <th>h4</th>\n",
              "      <th>h5</th>\n",
              "      <th>a1</th>\n",
              "      <th>a2</th>\n",
              "      <th>a3</th>\n",
              "      <th>a4</th>\n",
              "      <th>a5</th>\n",
              "    </tr>\n",
              "  </thead>\n",
              "  <tbody>\n",
              "    <tr>\n",
              "      <th>0</th>\n",
              "      <td>Gordon Hayward</td>\n",
              "      <td>Jaylen Brown</td>\n",
              "      <td>Kemba Walker</td>\n",
              "      <td>Robert Williams III</td>\n",
              "      <td>Marcus Smart</td>\n",
              "      <td>OG Anunoby</td>\n",
              "      <td>Marc Gasol</td>\n",
              "      <td>Kyle Lowry</td>\n",
              "      <td>Fred VanVleet</td>\n",
              "      <td>Norman Powell</td>\n",
              "    </tr>\n",
              "    <tr>\n",
              "      <th>1</th>\n",
              "      <td>Gordon Hayward</td>\n",
              "      <td>Kemba Walker</td>\n",
              "      <td>Robert Williams III</td>\n",
              "      <td>Marcus Smart</td>\n",
              "      <td>Grant Williams</td>\n",
              "      <td>OG Anunoby</td>\n",
              "      <td>Marc Gasol</td>\n",
              "      <td>Kyle Lowry</td>\n",
              "      <td>Fred VanVleet</td>\n",
              "      <td>Norman Powell</td>\n",
              "    </tr>\n",
              "  </tbody>\n",
              "</table>\n",
              "</div>"
            ],
            "text/plain": [
              "               h1            h2  ...             a4             a5\n",
              "0  Gordon Hayward  Jaylen Brown  ...  Fred VanVleet  Norman Powell\n",
              "1  Gordon Hayward  Kemba Walker  ...  Fred VanVleet  Norman Powell\n",
              "\n",
              "[2 rows x 10 columns]"
            ]
          },
          "metadata": {
            "tags": []
          },
          "execution_count": 36
        }
      ]
    },
    {
      "cell_type": "markdown",
      "metadata": {
        "id": "bovkjroyPrZ6"
      },
      "source": [
        "### **Combining `ARRAY` and `STRUCT` to make complex data types**\n",
        "\n",
        "We can combine `ARRAY` and `STRUCT` data to create arbitrarily complex data structures. The result is **trees** of data, with collections nested inside collections inside of collections ...\n",
        "\n",
        "We saw an example in Lesson 5 when we explored JSON formatted data. The JSON fields shown below with arrowheads are collections, which have even more collections nested inside:\n",
        "![](https://github.com/christopherhuntley/DATA6510/raw/master/img/L6_Space_Jam_JSON.png)\n",
        "\n",
        "The actual JSON data, with nested arrays and structs can be found [here](https://github.com/christopherhuntley/DATA6510/blob/master/data/JSON/spacejam.json).\n",
        "\n",
        "To show how this is done in SQL, we will explore two techniques for creating *pseudo*-tables using nested collections:\n",
        "- Create each column as an `ARRAY` and then nesting them inside a `STRUCT`\n",
        "- Create each row as a `STRUCT` and then nesting them inside an `ARRAY`\n",
        "\n",
        "In both cases the result is a single value that is functionally equivalent to an entire table. \n",
        "\n",
        "> **Heads Up**: The examples below are not intended to be of much practical use. There are likely better ways to store tabular data, like perhaps in a table. They do, however, show the flexibility of the collection data types. Any data we can store in a table we can also store in a collection. \n",
        "\n",
        "\n",
        "\n",
        "\n",
        "\n",
        "\n",
        "\n"
      ]
    },
    {
      "cell_type": "markdown",
      "metadata": {
        "id": "CZan2avAV2js"
      },
      "source": [
        "#### **Nesting `ARRAY` columns inside a `STRUCT` pseudo-table**"
      ]
    },
    {
      "cell_type": "code",
      "metadata": {
        "colab": {
          "base_uri": "https://localhost:8080/",
          "height": 126
        },
        "id": "FVSP1eS2URrg",
        "outputId": "81bd282b-10dc-4878-af40-6910d2c82e41"
      },
      "source": [
        "%%bigquery --project nba-lineup-facts\n",
        "SELECT STRUCT(\n",
        "  ARRAY(SELECT play_id FROM `nba-lineup-facts.lineup_facts.play_log_sample` WHERE play_id in (86,88)) as play_id,\n",
        "  ARRAY(SELECT a1 FROM `nba-lineup-facts.lineup_facts.play_log_sample` WHERE play_id in (86,88)) as a1,\n",
        "  ARRAY(SELECT a2 FROM `nba-lineup-facts.lineup_facts.play_log_sample` WHERE play_id in (86,88)) as a2,\n",
        "  ARRAY(SELECT a3 FROM `nba-lineup-facts.lineup_facts.play_log_sample` WHERE play_id in (86,88)) as a3,\n",
        "  ARRAY(SELECT a4 FROM `nba-lineup-facts.lineup_facts.play_log_sample` WHERE play_id in (86,88)) as a4,\n",
        "  ARRAY(SELECT a5 FROM `nba-lineup-facts.lineup_facts.play_log_sample` WHERE play_id in (86,88)) as a5,\n",
        "  ARRAY(SELECT a1 FROM `nba-lineup-facts.lineup_facts.play_log_sample` WHERE play_id in (86,88)) as h1,\n",
        "  ARRAY(SELECT a2 FROM `nba-lineup-facts.lineup_facts.play_log_sample` WHERE play_id in (86,88)) as h2,\n",
        "  ARRAY(SELECT a3 FROM `nba-lineup-facts.lineup_facts.play_log_sample` WHERE play_id in (86,88)) as h3,\n",
        "  ARRAY(SELECT a4 FROM `nba-lineup-facts.lineup_facts.play_log_sample` WHERE play_id in (86,88)) as h4,\n",
        "  ARRAY(SELECT a5 FROM `nba-lineup-facts.lineup_facts.play_log_sample` WHERE play_id in (86,88)) as h5 \n",
        ") AS pseudo_table_by_cols"
      ],
      "execution_count": null,
      "outputs": [
        {
          "output_type": "execute_result",
          "data": {
            "application/vnd.google.colaboratory.module+javascript": "\n      import \"https://ssl.gstatic.com/colaboratory/data_table/a6224c040fa35dcf/data_table.js\";\n\n      window.createDataTable({\n        data: [[{\n            'v': 0,\n            'f': \"0\",\n        },\n\"{'play_id': [86, 88], 'a1': ['OG Anunoby', 'OG Anunoby'], 'a2': ['Marc Gasol', 'Marc Gasol'], 'a3': ['Kyle Lowry', 'Kyle Lowry'], 'a4': ['Fred VanVleet', 'Fred VanVleet'], 'a5': ['Norman Powell', 'Norman Powell'], 'h1': ['OG Anunoby', 'OG Anunoby'], 'h2': ['Marc Gasol', 'Marc Gasol'], 'h3': ['Kyle Lowry', 'Kyle Lowry'], 'h4': ['Fred VanVleet', 'Fred VanVleet'], 'h5': ['Norman Powell', 'Norman Powell']}\"]],\n        columns: [[\"number\", \"index\"], [\"string\", \"pseudo_table_by_cols\"]],\n        columnOptions: [{\"width\": \"1px\", \"className\": \"index_column\"}],\n        rowsPerPage: 25,\n        helpUrl: \"https://colab.research.google.com/notebooks/data_table.ipynb\",\n        suppressOutputScrolling: true,\n        minimumWidth: undefined,\n      });\n    ",
            "text/html": [
              "<div>\n",
              "<style scoped>\n",
              "    .dataframe tbody tr th:only-of-type {\n",
              "        vertical-align: middle;\n",
              "    }\n",
              "\n",
              "    .dataframe tbody tr th {\n",
              "        vertical-align: top;\n",
              "    }\n",
              "\n",
              "    .dataframe thead th {\n",
              "        text-align: right;\n",
              "    }\n",
              "</style>\n",
              "<table border=\"1\" class=\"dataframe\">\n",
              "  <thead>\n",
              "    <tr style=\"text-align: right;\">\n",
              "      <th></th>\n",
              "      <th>pseudo_table_by_cols</th>\n",
              "    </tr>\n",
              "  </thead>\n",
              "  <tbody>\n",
              "    <tr>\n",
              "      <th>0</th>\n",
              "      <td>{'play_id': [86, 88], 'a1': ['OG Anunoby', 'OG...</td>\n",
              "    </tr>\n",
              "  </tbody>\n",
              "</table>\n",
              "</div>"
            ],
            "text/plain": [
              "                                pseudo_table_by_cols\n",
              "0  {'play_id': [86, 88], 'a1': ['OG Anunoby', 'OG..."
            ]
          },
          "metadata": {
            "tags": []
          },
          "execution_count": 49
        }
      ]
    },
    {
      "cell_type": "markdown",
      "metadata": {
        "id": "Q17oUD4VT1-9"
      },
      "source": [
        "#### **Nesting `STRUCT` rows inside an `ARRAY` pseudo-table**"
      ]
    },
    {
      "cell_type": "code",
      "metadata": {
        "colab": {
          "base_uri": "https://localhost:8080/",
          "height": 126
        },
        "id": "0mulEFGKRnok",
        "outputId": "8500ff96-db48-4b93-91b4-b7c2fe658d06"
      },
      "source": [
        "%%bigquery --project nba-lineup-facts\n",
        "SELECT ARRAY(\n",
        "  SELECT STRUCT(play_id, a1,a2,a3,a4,a5, h1,h2,h3,h4,h5)\n",
        "  FROM `nba-lineup-facts.lineup_facts.play_log_sample`\n",
        "  WHERE play_id in (86,88) \n",
        ") AS pseudo_table_by_rows"
      ],
      "execution_count": null,
      "outputs": [
        {
          "output_type": "execute_result",
          "data": {
            "application/vnd.google.colaboratory.module+javascript": "\n      import \"https://ssl.gstatic.com/colaboratory/data_table/a6224c040fa35dcf/data_table.js\";\n\n      window.createDataTable({\n        data: [[{\n            'v': 0,\n            'f': \"0\",\n        },\n[\"{'play_id': 86, 'a1': 'OG Anunoby', 'a2': 'Marc Gasol', 'a3': 'Kyle Lowry', 'a4': 'Fred VanVleet', 'a5': 'Norman Powell', 'h1': 'Gordon Hayward', 'h2': 'Jaylen Brown', 'h3': 'Kemba Walker', 'h4': 'Robert Williams III', 'h5': 'Marcus Smart'}\", \"{'play_id': 88, 'a1': 'OG Anunoby', 'a2': 'Marc Gasol', 'a3': 'Kyle Lowry', 'a4': 'Fred VanVleet', 'a5': 'Norman Powell', 'h1': 'Gordon Hayward', 'h2': 'Kemba Walker', 'h3': 'Robert Williams III', 'h4': 'Marcus Smart', 'h5': 'Grant Williams'}\"]]],\n        columns: [[\"number\", \"index\"], [\"string\", \"pseudo_table_by_rows\"]],\n        columnOptions: [{\"width\": \"1px\", \"className\": \"index_column\"}],\n        rowsPerPage: 25,\n        helpUrl: \"https://colab.research.google.com/notebooks/data_table.ipynb\",\n        suppressOutputScrolling: true,\n        minimumWidth: undefined,\n      });\n    ",
            "text/html": [
              "<div>\n",
              "<style scoped>\n",
              "    .dataframe tbody tr th:only-of-type {\n",
              "        vertical-align: middle;\n",
              "    }\n",
              "\n",
              "    .dataframe tbody tr th {\n",
              "        vertical-align: top;\n",
              "    }\n",
              "\n",
              "    .dataframe thead th {\n",
              "        text-align: right;\n",
              "    }\n",
              "</style>\n",
              "<table border=\"1\" class=\"dataframe\">\n",
              "  <thead>\n",
              "    <tr style=\"text-align: right;\">\n",
              "      <th></th>\n",
              "      <th>pseudo_table_by_rows</th>\n",
              "    </tr>\n",
              "  </thead>\n",
              "  <tbody>\n",
              "    <tr>\n",
              "      <th>0</th>\n",
              "      <td>[{'play_id': 86, 'a1': 'OG Anunoby', 'a2': 'Ma...</td>\n",
              "    </tr>\n",
              "  </tbody>\n",
              "</table>\n",
              "</div>"
            ],
            "text/plain": [
              "                                pseudo_table_by_rows\n",
              "0  [{'play_id': 86, 'a1': 'OG Anunoby', 'a2': 'Ma..."
            ]
          },
          "metadata": {
            "tags": []
          },
          "execution_count": 47
        }
      ]
    },
    {
      "cell_type": "markdown",
      "metadata": {
        "id": "qVL7n_Rys_95"
      },
      "source": [
        "---\n",
        "## **Congratulations! You've made it to the end of Lesson 8.**\n",
        "\n",
        "Next week we will consider alternative data models that can improve flexibility and performance. \n",
        "\n"
      ]
    },
    {
      "cell_type": "markdown",
      "metadata": {
        "id": "wEkhlPF5A9w1"
      },
      "source": [
        "## **On your way out ... Be sure to save your work**.\n",
        "In Google Drive, drag this notebook file into your `DATA6510` folder so you can find it next time."
      ]
    }
  ]
}